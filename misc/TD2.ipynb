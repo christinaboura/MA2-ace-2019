{
 "cells": [
  {
   "cell_type": "markdown",
   "metadata": {},
   "source": [
    "### Exercice 3.5\n",
    "\n",
    "Déterminer quel ordre monomial (lex, deglex, degrevlex) a été utilisé pour ordonner les termes des polynômes suivants :\n",
    "\n",
    "$$f(x, y, z) = 7x^2y^4z-2xy^6 + x^2y^2$$.\n",
    "$$f(x, y, z) = xy^3z + xy^2z^2 + x^2z^3$$.\n",
    "$$f(x, y, z) = x^4y^5z + 2x^3y^2z-4xy^2z^4$$."
   ]
  },
  {
   "cell_type": "markdown",
   "metadata": {},
   "source": [
    "On suppose que pour les trois polynômes $x > y > z$.\n",
    "\n",
    "* $f(x, y, z) = 7x^2y^4z-2xy^6 + x^2y^2$ $\\to$ deglex \n",
    "* $f(x, y, z) = xy^3z + xy^2z^2 + x^2z^3$ $\\to$ degrevlex\n",
    "* $f(x, y, z) = x^4y^5z + 2x^3y^2z-4xy^2z^4$ $\\to$ lex"
   ]
  },
  {
   "cell_type": "markdown",
   "metadata": {},
   "source": [
    "### Exercice 3.7\n",
    "\n",
    "Montrer que tout polynôme $f\\in k[x, y, z]$ peut s'écrire sous la forme\n",
    "\n",
    "$$f = h_1(y-x^2) + h_2(z-x^3) + r$$\n",
    "\n",
    "avec $h_1, h_2\\in k[x,y, z]$ et $r\\in k[x]$.\n",
    "\n",
    "Trouver une écriture explicite de la forme $z^2-x^4y = h_1(y-x^2) + h_2(z-x^3)$."
   ]
  },
  {
   "cell_type": "markdown",
   "metadata": {},
   "source": [
    "*Correction.* On considère l'ordre *invlex* $(z>y>x)$ et on applique l'algorithme de division sur $f$ par $\\{y-x^2, z-x^3\\}$. Le reste de cette division de doit avoir aucun monôme divisible par $LT(y-x^2) = y$ ou par $L(z-x^3) = z$, donc forcément $r \\in k[x]$.\n",
    "\n",
    "On applique l'algorithme de division à la main. On considère ici aussi l'ordre lexicographique avec $z>y>x$.\n",
    "\n",
    "À chaque étape de l'algorithme nous avons $$f = Q_1f_1 + Q_2f_2 + T + S.$$\n",
    "\n",
    "|    $\\quad$       | $f_1 = y-x^2$ | $f_2 = z-x^3$ |*deglex*    |\n",
    "|------------------|---------------|---------------|------------|\n",
    "| $T$              | $Q_1$         | $Q_2$         |  $S$       |\n",
    "| $z^2-yx^4$       | $0$           | $0$           | $0$        |\n",
    "|$zx^3-yx^4$       | $0$           | $z$           | $0$        |\n",
    "|$yx^4+x^6$        | $0$           | $z+x^3$       | $0$        |\n",
    "|$0$               | $-x^4$        | $z+x^3$       | $0$        |\n",
    " \n",
    " \n",
    "  \n",
    "  Donc, on a que $$z^2 - yx^4 = ( -x^4 )   ( y - x^2 ) + ( z + x^3 )  ( z - x^3 ).$$"
   ]
  },
  {
   "cell_type": "markdown",
   "metadata": {},
   "source": [
    "On fait maintenant avec *Sage*."
   ]
  },
  {
   "cell_type": "code",
   "execution_count": 1,
   "metadata": {},
   "outputs": [],
   "source": [
    "A.<z,y,x> = PolynomialRing(QQ, order = 'lex')\n",
    "f = z^2 - x^4*y\n",
    "f1 = y - x^2\n",
    "f2 = z - x^3"
   ]
  },
  {
   "cell_type": "code",
   "execution_count": 2,
   "metadata": {},
   "outputs": [
    {
     "data": {
      "text/plain": [
       "True"
      ]
     },
     "execution_count": 2,
     "metadata": {},
     "output_type": "execute_result"
    }
   ],
   "source": [
    "I = A.ideal(f1, f2)\n",
    "f in I"
   ]
  },
  {
   "cell_type": "markdown",
   "metadata": {},
   "source": [
    "On peut retrouver les coefficients (fonctions $h_1$ et $h_2$)."
   ]
  },
  {
   "cell_type": "code",
   "execution_count": 3,
   "metadata": {},
   "outputs": [
    {
     "data": {
      "text/plain": [
       "(-x^4, z + x^3)"
      ]
     },
     "execution_count": 3,
     "metadata": {},
     "output_type": "execute_result"
    }
   ],
   "source": [
    "a, b = f.lift(I)\n",
    "a, b"
   ]
  },
  {
   "cell_type": "markdown",
   "metadata": {},
   "source": [
    "### Exercice 3.8\n",
    "\n",
    "Dans cet exercice, nous verrons une façon de définir des ordres monomiaux sur $k[x_1, \\ldots, x_n]$ qui généralise tous les ordres vus précédemment.\n",
    "\n",
    "Soit $M$ une matrice $m\\times n$ à coefficients réels, et soient $w_1, \\ldots, w_m$ ses vecteurs ligne. On définit la relation $<_M$ sur les monômes de la façon suivante. Soient $x^{\\alpha}$ et $x^{\\beta}$ des monômes. On pose $x^{\\alpha} <_M x^{\\beta}$ si $w_1\\cdot \\alpha < w_1 \\cdot \\beta$, ou si $w_1\\cdot \\alpha = w_1 \\cdot \\beta$ et $w_2\\cdot \\alpha < w_2 \\cdot \\beta$, ou s'il existe $i\\in {1, \\ldots, n}$ tel que $w_j\\cdot \\alpha = w_j \\cdot \\beta$ pour $1\\leq j \\leq i-1$ et $w_i\\cdot \\alpha < w_i \\cdot \\beta$.\n",
    "\n",
    "1. Montrer que si $x^{\\alpha} <_M x^{\\beta}$ et $x^{\\gamma} <_M x^{\\delta}$, alors $x^{\\alpha+\\gamma} <_M x^{\\beta+\\delta}$.\n",
    "\n",
    "1. Montrer que si $M$ est la matrice identité, alors $<_M$ est l'ordre lexicographique avec $x_1>x_2 >\\ldots > x_n$.\n",
    "\n",
    "1. On définit $\\mathrm{ker}(M) = {v\\in \\mathbb{R}^n, Mv = 0 }$. Supposons que $\\mathrm{ker}(M) \\cap \\mathbb{Z}^n = {0}$. Montrer que $<_M$ définit un ordre total ; autrement dit :\n",
    "\n",
    "    * si $x^{\\alpha} <_M x^{\\beta}$ et $x^{\\beta} <_M x^{\\gamma}$, alors $x^{\\alpha} <_M x^{\\gamma}$,\n",
    "    * il est impossible d'avoir à la fois $x^{\\alpha} <_M x^{\\beta}$ et $x^{\\beta} <_M x^{\\alpha}$, et\n",
    "    * si $\\alpha \\neq \\beta$, alors soit $x^{\\alpha} <_M x^{\\beta}$, soit $x^{\\beta} <_M x^{\\alpha}$.\n",
    "\n",
    "En plus de supposer que $\\mathrm{ker}(M) \\cap \\mathbb{Z}^n = {0}$, on suppose maintenant que les coefficients de la première ligne $$w_1$$ sont positifs, et qu'au moins l'un d'eux est non nul. Montrer que $<_M$ est un bon ordre, c'est-à-dire que tout ensemble non vide de monômes possède un plus petit élément pour $<M$. (On pourra considérer, pour $A\\subseteq \\mathbb{N}^n$ non vide, l'ensemble $w_1\\cdot A := \\{w_1\\cdot \\alpha, \\alpha \\in A\\}$, qui doit contenir un élément minimal $b_1$ ; définir $A_1 = \\{\\alpha \\in A, w_1\\cdot \\alpha = b_1\\}$ ; puis, pour chaque $i$, considérer l'ensemble $w_i \\cdot A_{i-1}$ et répéter.)\n",
    "\n",
    "1. Exprimer les ordres monomiaux vus en cours sous la forme $<_M$.\n"
   ]
  },
  {
   "cell_type": "markdown",
   "metadata": {},
   "source": [
    "*Correction.*\n",
    "\n",
    "On commence par une remarque simple. Par définition, $x^{\\alpha} <_M x^{\\beta}$ si et seulement si $M\\cdot \\alpha <_{lex} M\\cdot \\beta$ où $<_{lex}$ est l'ordre lexicographique sur les vecteurs colonnes."
   ]
  },
  {
   "cell_type": "markdown",
   "metadata": {},
   "source": [
    "**1.** On a  \n",
    "\\begin{eqnarray*}\n",
    "x^{\\alpha} <_M x^{\\beta} \\text{ et } x^{\\gamma} <_M x^{\\delta} &\\Leftrightarrow& M\\cdot \\alpha <_{lex} M\\cdot \\beta \\text{ et }M\\cdot \\gamma <_{lex} M\\cdot \\delta \\\\\n",
    "&\\Rightarrow & M\\cdot \\alpha + M\\cdot \\gamma <_{lex} M\\cdot \\beta + M\\cdot \\delta \\qquad \\text{ (car } <_{lex} \\text{ est un ordre monomial)} \\\\\n",
    "&\\Rightarrow & M\\cdot (\\alpha + \\gamma) <_{lex} M\\cdot (\\beta + \\delta) \\\\\n",
    "&\\Leftrightarrow& x^{\\alpha+\\gamma} <_M x^{\\beta+\\delta}.\n",
    "\\end{eqnarray*}\n",
    "\n",
    "**2.**\n",
    "\n",
    "Nous avons remarqué ci-dessus que $x^{\\alpha} <_M x^{\\beta} \\Leftrightarrow M\\cdot \\alpha <_{lex} M\\cdot \\beta.$ Puisque $M$ est la matrice identité, on a que pour tout vecteur $\\gamma \\in \\mathbb{N}^n$, $M\\cdot \\gamma = \\gamma$. Par conséquent, $x^{\\alpha} <_M x^{\\beta} \\Leftrightarrow \\alpha <_{lex} \\beta$. L'ordre $<_M$ est donc bien l'ordre lexicographique.\n",
    "\n",
    "**3.A** Soient $\\alpha, \\beta, \\gamma \\in \\mathbb{N}^n$ tels que $x^{\\alpha} <_M x^{\\beta} \\text{ et } x^{\\beta} <_M x^{\\gamma}$. Montrons que $x^{\\alpha} <_M x^{\\gamma}$. On a que : \n",
    "\n",
    "\\begin{eqnarray*}\n",
    "x^{\\alpha} <_M x^{\\beta} \\text{ et } x^{\\beta} <_M x^{\\gamma} &\\Leftrightarrow&  M\\cdot \\alpha <_{lex} M\\cdot \\beta \\text{ et } M\\cdot \\beta <_{lex} M\\cdot \\gamma.\\\\\n",
    "& \\Rightarrow&  M\\cdot \\alpha <_{lex} M\\cdot \\gamma \\text{ (car } <_{lex} \\text{ est un ordre)} \\\\\n",
    "&\\Leftrightarrow& x^{\\alpha} <_M x^{\\gamma}. \n",
    "\\end{eqnarray*}\n",
    "\n",
    "**3.B)** Supposons que $x^{\\alpha} <_M x^{\\beta}$ et $x^{\\beta} <_M x^{\\alpha}$. Alors, $M\\cdot \\alpha <_{lex} M\\cdot \\beta$ et $M\\cdot \\beta <_{lex} M\\cdot \\alpha$, ce qui est impossible.\n",
    "\n",
    "**3.C)** Soient $\\alpha \\neq \\beta$. Alors soit $M\\cdot \\alpha <_{lex} M\\cdot \\beta$ ou $M\\cdot \\beta <_{lex} M\\cdot \\alpha$, car $<_{lex}$ est un ordre total. Donc soit $x^{\\alpha} <_M x^{\\beta}$ soit $x^{\\beta} <_M x^{\\alpha}$.\n",
    "\n",
    "**4)**  Comme $<_M$ est un ordre total (3) tel que $x^{\\alpha} <_M x^{\\beta} \\text{ et } x^{\\gamma} <_M x^{\\delta} \\Rightarrow x^{\\alpha+\\gamma} <_M x^{\\beta+\\delta}$ (1). Il suffit d'après le cours de démontrer que $1 <_M x^{\\alpha}$ pour tout $\\alpha$ non-nul. **A revoir les hypothèses de l'exercice sur la positivité des coefficients de $M$ pour terminer la preuve.**\n",
    "\n",
    "**5)** pour $<_{lex}$ nous venons de voir que c'est la matrice identité. "
   ]
  },
  {
   "cell_type": "markdown",
   "metadata": {},
   "source": [
    "L'ordre *deglex* correspond à la matrice suivante\n",
    "\\begin{pmatrix}\n",
    "1 & 1 & \\dots & 1 \\\\\n",
    "1 & 0 & \\dots & 0 \\\\\n",
    "0 & 1 & \\dots & 0 \\\\\n",
    "\\vdots & \\vdots & \\vdots  & \\vdots \\\\\n",
    "0 & 0 & \\dots & 1\n",
    "\\end{pmatrix}\n",
    "\n",
    "tandis que l'ordre *degrevlex* correspond à \n",
    "\\begin{pmatrix}\n",
    "1 & 1 & \\dots &1 &1 \\\\\n",
    "0 & 0 & \\dots &0 & -1 \\\\\n",
    "0 & 0 & \\dots &-1 & 0 \\\\\n",
    "\\vdots & \\vdots & \\vdots  & \\vdots & \\vdots \\\\\n",
    "-1 & 0 & \\dots & 0\n",
    "\\end{pmatrix}"
   ]
  },
  {
   "cell_type": "markdown",
   "metadata": {},
   "source": [
    "### Exercice 4.1\n",
    "\n",
    "Soit $I=\\left\\langle x^\\alpha, \\alpha\\in A \\right\\rangle$ un idéal monomial et $S$ l'ensemble des exposants qui apparaissent dans $I$. On considère un ordre monomial. Montrer que le plus petit élément de $S$ appartient à $A$."
   ]
  },
  {
   "cell_type": "markdown",
   "metadata": {},
   "source": [
    "*Correction.*\n",
    "\n",
    "Soit $S=\\{\\beta |x^{\\beta}\\in I\\}$. Puisque un ordre monomial est un ordre admisible et $S \\neq \\emptyset$ alors $S$ possède un élément minimal $\\beta_0$. On a que $x^{\\beta_0} \\in I = \\left\\langle x^\\alpha, \\alpha\\in A \\right\\rangle$, donc il existe un élément $\\alpha_0 \\in A$ tel que $x^{\\alpha_0}$ divise $x^{\\beta_0}$. Ceci implique que $\\beta_0 = \\alpha_0 + \\gamma$ pour un $\\gamma \\in \\mathbb{N}$. Puisque $\\gamma \\ge 0$, cela implique que $$\\beta_0 = \\alpha_0 + \\gamma \\ge \\alpha_0 + 0 = \\alpha_0.$$ De l'autre côté, $\\alpha_0 \\in S$ puisque $x^{\\alpha_0} \\in A$. Par conséquent $\\beta_0 \\leq \\alpha_0$ puisque $\\beta_0$ est le plus petit élément de $S$. Comme $<$ est un ordre total on conclut que $\\beta_0 = \\alpha_0 \\in A$."
   ]
  },
  {
   "cell_type": "markdown",
   "metadata": {},
   "source": [
    "### Exercice 4.5 \n",
    "Dans cet exercice, nous démontrerons le Lemme de Dickson, qui est un cas particulier du théorème de la base de Hilbert pour les idéaux monomiaux.\n",
    "\n",
    "**Lemme de Dickson** : Si $A$ est un sous-ensemble non vide de $\\mathbb{N}^n$ et si $I = \\langle x^{\\alpha}, \\alpha \\in A \\rangle$, alors il existe $\\alpha_1, \\ldots, \\alpha_r \\in A$ tels que $I = \\langle x^{\\alpha_1}, \\ldots, x^{\\alpha_r} \\rangle$.\n",
    "La démonstration que nous présentons ci-dessous est une adaptation de l'orginiale de Dickson (1913).\n",
    "\n",
    "*Quelques notations* : si $\\alpha \\in \\mathbb{N}^n$, alors $\\alpha + \\mathbb{N}^n := \\{\\alpha + \\beta, \\beta \\in \\mathbb{N}^n\\}$ ; de même, si $A \\subset \\mathbb{N}^n$, alors $A + \\mathbb{N}^n := \\{\\alpha + \\beta, \\alpha\\in A, \\beta\\in \\mathbb{N}^n\\}$.\n",
    "\n",
    "**Illustration du cas $n=2$**. On représente $\\mathbb{N}^2$ comme l'ensemble des points entiers positifs du plan. Illustrer $A + \\mathbb{N}^2$ si $A = \\{(1,8), (3,5), (4,2)\\}$.\n",
    "\n",
    "On a \n",
    "\\begin{eqnarray*}\n",
    "A + \\mathbb{N}^2 &= \\{(1,8) + \\beta, \\beta \\in \\mathbb{N}^2\\} \\bigcup \\{(3,5) + \\beta, \\beta \\in \\mathbb{N}^2\\} \\bigcup \\{(4,2) + \\beta, \\beta \\in \\mathbb{N}^2\\}\\\\\n",
    "\\end{eqnarray*}\n",
    "\n",
    "\n",
    "<img src=\"dickson1.png\" width=\"400\">\n",
    "\n",
    "Même chose si $A = \\{(x,y), y \\geq 9-x^2\\}$. Dans le deuxième cas, décrire un sous-ensemble $\\{\\alpha_1, \\ldots, \\alpha_r\\}$ de $A$ tel que $A + \\mathbb{N}^2 = \\{\\alpha_1, \\ldots, \\alpha_r\\} + \\mathbb{N}^2$.\n",
    "\n",
    "On a \n",
    "\\begin{eqnarray*}\n",
    "A + \\mathbb{N}^2 &=& \\{(0,9), (0, 10), (0, 11),\\dots \\} \\bigcup \\{(1, 8), (1, 9), (1, 10), \\dots \\} &\\bigcup& \\{(2, 5), (2, 6), (2, 7),\\dots \\} \\bigcup \\{(3, 0), (3,1) \\dots,\\} \\\\\n",
    "& \\bigcup& \\{(a,b), a\\ge 4, b \\ge 0\\}\\\\\n",
    "\\end{eqnarray*}\n",
    "\n",
    "<img src=\"dickson2.png\" width=\"200\">\n",
    "\n",
    "On voit notamment qu'ici,  $$A + \\mathbb{N}^2 = \\{(0,9), (1, 8), (2, 5), (3, 0)\\} + \\mathbb{N}^2.$$\n",
    "\n",
    "*Nous allons maintenant montrer le lemme de Dickson par récurrence sur $n$. Montrer d'abord que l'énoncé du lemme est vrai pour $n=1$.*\n",
    "\n",
    "*Correction.* Tout sous-ensemble $A \\subset \\mathbb{N}$ admet un plus petit élément par le principe du bon ordre. Si $\\alpha$ est cel élément, alors $A + \\mathbb{N} = \\alpha + \\mathbb{N}$.\n",
    "\n",
    "Supposons que le lemme est démontré pour $n-1$ pour un certain $n>1$ fixé. Montrons-le pour $n$. Soit $\\alpha$ un élément quelconque de $A$.\n",
    "\n",
    "*Remarquer que si $A + \\mathbb{N}^n = \\alpha + \\mathbb{N}^n$, alors la preuve du lemme est terminée.*\n",
    "\n",
    "*Correction*. Si $A + \\mathbb{N}^n = \\alpha + \\mathbb{N}^n$ alors l'ensemble fini cherché est $\\{\\alpha\\}$. En effet, dans ce cas on $I = \\langle x^a, a \\in A \\rangle = \\langle x^{\\alpha}\\rangle$ et la preuve est donc terminée.\n",
    "\n",
    "\n",
    "*Supposons que $A + \\mathbb{N}^n \\neq \\alpha + \\mathbb{N}^n$. Alors il existe $\\beta \\in A$ tel que $\\beta_j < \\alpha_j$ pour un certain $j\\in \\{1, \\ldots, n\\}$.*\n",
    "\n",
    "*Fixons $i\\in \\{1, \\ldots, n\\}$ et $c\\in \\mathbb{N}$ tels que $c<\\alpha_i$ (ils existent sinon $\\alpha_i = 0$ pour tout $i$ et alors $\\alpha + \\mathbb{N}^n = \\mathbb{N}^n = A + \\mathbb{N}^n$, une contradiction). Soit $A_{i,c} := \\{\\beta \\in A, \\beta_i = c \\}$.*\n",
    "\n",
    "*Montrer qu'il existe des éléments $\\alpha_{i,c,1}, \\ldots, \\alpha_{i,c,m}\\in A_{i,c}$ tels que pour tout $\\gamma \\in A_{i,c}$ on a que $\\gamma \\in \\{\\alpha_{i,c,1}, \\ldots, \\alpha_{i,c,m} \\} + \\mathbb{N}^n$.*\n",
    "\n",
    "*Correction.* Soit $\\pi_i:\\mathbb{N}^n \\rightarrow \\mathbb{N}^{n-1}$ la projection qui \"oublie\" la $i$-ième coordonnée, et soit $B_{i,c} = \\pi_i(A_{i,c})$. \n",
    "\n",
    "Par hypothèse de récurrence il existe des éléments $\\beta_1, \\dots, \\beta_m \\in B_{i,c}$, tels que $B_{i,c} + \\mathbb{N}^{n-1} = \\{\\beta_1, \\dots, \\beta_{m} \\} + \\mathbb{N}^{n-1}$. Soient $\\alpha_{i,c,1} = \\pi_i^{-1}(\\beta_1), \\dots, \\alpha_{i,c,m} =\\pi_i^{-1}(\\beta_m) \\in A_{i,c}.$ Montrons que $\\alpha_{i,c,1}, \\dots, \\alpha_{i,c,m}$ satisfont aux conditions demandées. Soit $\\gamma \\in A_{i,c}$. Alors $\\pi(\\gamma) \\in B_{i,c}$ et il existe donc $\\delta\\in \\mathbb{N}^{n-1}$ et $k \\in \\{1, \\dots, m\\}$ tels que $\\pi(\\gamma) = \\beta_k + \\delta$. Si $\\overline{\\delta} = (\\delta_1, \\dots, \\delta_{i-1}, 0, \\delta_i, \\delta_{i+1}, \\dots, \\delta_{n-1})$, alors $\\gamma = \\alpha_{i,c,k} + \\overline{\\delta}$. Ceci montre que $A_{i,c} + \\mathbb{N}^n = \\{\\alpha_{i,c,1}, \\ldots, \\alpha_{i,c,m} \\} + \\mathbb{N}^n$.\n",
    "\n",
    "*Montrer qu'il n'y a qu'un nombre fini de choix possibles de $i$ et $c$ tels que $c<\\alpha_i$. Conclure la démonstration du lemme de Dickson.*\n",
    "\n",
    "*Correction*. Il y au plus $n$ choix pour les $i$ et pour chaque $i$ qu'un nombre fini d'entiers $c$ positifs tels que $c<\\alpha_i$. Posons $\\overline{A} = \\bigcup_{i=1,\\dots, n, 0 \\leq c < \\alpha_i}A_{i,c} \\cup \\{\\alpha\\}.$ Alors $\\overline{A}$ est fini et est contenu dans $A$. De plus, \n",
    "$\\overline{A} + \\mathbb{N}^n = A + \\mathbb{N}^n$. L'inclusion $\\subseteq$ est évidente. Montrons, $\\supseteq$. Soit $\\gamma \\in A + \\mathbb{N}^n$. Si $\\gamma \\in \\alpha + \\mathbb{N}^n$, alors $\\gamma \\in \\overline{A} + \\mathbb{N}^n$. Si $\\gamma \\not \\in \\alpha + \\mathbb{N}^n$, alors $\\exists j\\in \\{1, \\dots, n\\}$ tel que $\\gamma_j < \\alpha_j$. Si $\\gamma \\in \\beta + \\mathbb{N}^n$ avec $\\beta \\in A$, on a donc que $\\beta\\in A_{j,\\beta_j}$. D'où $\\gamma \\in \\overline{A} + \\mathbb{N}^n$. Ceci termine la preuve.\n",
    "\n",
    "*Le lemme de Dickson peut être utilisé pour démontrer le théorème de la base de Hilbert pour $k[x_1, \\ldots, x_n]$.*\n",
    "\n",
    "*Soit $I$ un idéal de $k[x_1, \\ldots, x_n]$.*\n",
    "\n",
    "*A. Montrer qu'on peut appliquer le lemme de Dickson à $\\langle \\mathrm{LT}(I) \\rangle$. En déduire qu'il existe $f_1, \\ldots, f_r \\in I$ tels que $\\langle \\mathrm{LT}(I) \\rangle = \\langle \\mathrm{LT}(f_1), \\ldots, \\mathrm{LT}(f_r) \\rangle$.*\n",
    "\n",
    "*Correction.* $\\langle \\mathrm{LT}(I) \\rangle$ est un idéal monomial, le lemme de Dickson s'applique.\n",
    "Il existe donc $\\mathrm{LT}(f_1), \\ldots, \\mathrm{LT}(f_r) \\in \\mathrm{LT}(I)$ tels que $\\langle \\mathrm{LT}(I) \\rangle = \\langle \\mathrm{LT}(f_1), \\ldots, \\mathrm{LT}(f_r) \\rangle$ où $f_1, \\dots, f_r \\in I$.\n",
    "\n",
    "*B. Montrer que si $f\\in I$, alors l'algorithme de division de $f$ par $f_1, \\ldots, f_r$ donne un reste nul.*"
   ]
  },
  {
   "cell_type": "markdown",
   "metadata": {},
   "source": [
    "*Correction.*\n",
    "\n",
    "Par l'algorithme de division, il existe des polynômes $b_1,\\dots, b_r$ et $r$ tels que \n",
    "$$f = b_1f_1 + \\dots + b_rf_r + r,$$ où $r$ a la propriété qu'aucun de ses termes n'est divisible par $\\mathrm{LT}(f_1), \\dots, \\mathrm{LT}(f_r)$. On va montrer que $r = 0$.\n",
    "\n",
    "On a que $$r = f - b_1f_1 - \\dots - b_rf_r \\in I.$$ On suppose que $r \\neq 0$. Dans ce cas $\\mathrm{LT}(r) \\in \\langle \\mathrm{LT}(I) \\rangle = \\langle \\mathrm{LT}(f_1), \\ldots, \\mathrm{LT}(f_r) \\rangle$ et par l'exercice 4.4(a) $\\mathrm{LT}(r)$ doit être divisible par un des $\\mathrm{LT}(f_i)$. Contradiction. Alors, $r = 0$."
   ]
  },
  {
   "cell_type": "markdown",
   "metadata": {},
   "source": [
    "**Conclure.** On vient de montrer que si $f\\in I$ alors $f \\in \\langle f_1, \\ldots, f_r \\rangle$ et donc que $I \\subseteq \\langle f_1, \\ldots, f_r \\rangle$. L'inclusion inverse, $\\langle f_1, \\ldots, f_r \\rangle \\subseteq I$, est immédiate puisque pour tout $1\\leq i \\leq q$, $f_i \\in I$. On conclut alors que $I = \\langle f_1, \\ldots, f_r \\rangle$ ce qui prouve que tout idéal $I$ de $k[x_1, \\dots, x_n]$ est généré par un nombre fini d'éléments."
   ]
  },
  {
   "cell_type": "code",
   "execution_count": null,
   "metadata": {},
   "outputs": [],
   "source": []
  }
 ],
 "metadata": {
  "kernelspec": {
   "display_name": "SageMath 8.1",
   "language": "",
   "name": "sagemath"
  },
  "language_info": {
   "codemirror_mode": {
    "name": "ipython",
    "version": 2
   },
   "file_extension": ".py",
   "mimetype": "text/x-python",
   "name": "python",
   "nbconvert_exporter": "python",
   "pygments_lexer": "ipython2",
   "version": "2.7.15rc1"
  }
 },
 "nbformat": 4,
 "nbformat_minor": 2
}
