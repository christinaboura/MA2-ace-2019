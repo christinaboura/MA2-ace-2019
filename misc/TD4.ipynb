{
 "cells": [
  {
   "cell_type": "markdown",
   "metadata": {},
   "source": [
    "### Exercice 8.2 \n",
    "\n",
    "Montrer que pour tout $m\\ge1$, la base de Gröbner réduite de\n",
    "\n",
    "$$I_m=\\left\\langle x^{m+1}-yz^{m-1}t,xy^{m-1}-z^m,x^mz-y^mt \\right\\rangle\\subset k[x,y,z,t]$$\n",
    "\n",
    "pour l'ordre lexicographique inverse gradué contient $f_m=z^{m^2+1}-y^{m^2}t$. En déduire la base de Gröbner réduite de $I_m$."
   ]
  },
  {
   "cell_type": "markdown",
   "metadata": {},
   "source": [
    "On va calculer avec *Sage* la base de Gröbner pour l'ordre *degrevlex* pour différentes valeurs de $m$."
   ]
  },
  {
   "cell_type": "code",
   "execution_count": 1,
   "metadata": {},
   "outputs": [],
   "source": [
    "A.<x,y,z,t> = QQ[]"
   ]
  },
  {
   "cell_type": "code",
   "execution_count": 2,
   "metadata": {},
   "outputs": [
    {
     "name": "stdout",
     "output_type": "stream",
     "text": [
      "m =  1\n",
      "[z^2 - y*t, x - z]\n",
      "f_m =  z^2 - y*t\n",
      "True\n",
      "La base G contient 2 éléments.\n",
      "\n",
      "m =  2\n",
      "[z^5 - y^4*t, x*z^3 - y^3*t, x^3 - y*z*t, x^2*z - y^2*t, x*y - z^2]\n",
      "f_m =  z^5 - y^4*t\n",
      "True\n",
      "La base G contient 5 éléments.\n",
      "\n",
      "m =  3\n",
      "[z^10 - y^9*t, x*z^7 - y^7*t, x^2*z^4 - y^5*t, x^4 - y*z^2*t, x^3*z - y^3*t, x*y^2 - z^3]\n",
      "f_m =  z^10 - y^9*t\n",
      "True\n",
      "La base G contient 6 éléments.\n",
      "\n",
      "m =  4\n",
      "[z^17 - y^16*t, x*z^13 - y^13*t, x^2*z^9 - y^10*t, x^3*z^5 - y^7*t, x^5 - y*z^3*t, x^4*z - y^4*t, x*y^3 - z^4]\n",
      "f_m =  z^17 - y^16*t\n",
      "True\n",
      "La base G contient 7 éléments.\n",
      "\n",
      "m =  5\n",
      "[z^26 - y^25*t, x*z^21 - y^21*t, x^2*z^16 - y^17*t, x^3*z^11 - y^13*t, x^4*z^6 - y^9*t, x^6 - y*z^4*t, x^5*z - y^5*t, x*y^4 - z^5]\n",
      "f_m =  z^26 - y^25*t\n",
      "True\n",
      "La base G contient 8 éléments.\n",
      "\n",
      "m =  6\n",
      "[z^37 - y^36*t, x*z^31 - y^31*t, x^2*z^25 - y^26*t, x^3*z^19 - y^21*t, x^4*z^13 - y^16*t, x^5*z^7 - y^11*t, x^7 - y*z^5*t, x^6*z - y^6*t, x*y^5 - z^6]\n",
      "f_m =  z^37 - y^36*t\n",
      "True\n",
      "La base G contient 9 éléments.\n",
      "\n"
     ]
    }
   ],
   "source": [
    "for m in range(1, 7) :\n",
    "    print \"m = \", m\n",
    "    I = A.ideal(x^(m+1) - y*z^(m-1)*t, x*y^(m-1) - z^m, x^m*z - y^m*t)\n",
    "    G = I.groebner_basis()\n",
    "    print(G)\n",
    "    f_m = z^(m^2 + 1) - y^(m^2)*t\n",
    "    print \"f_m = \", f_m\n",
    "    print f_m in G\n",
    "    print \"La base G contient\", len(G), \"éléments.\\n\""
   ]
  },
  {
   "cell_type": "markdown",
   "metadata": {},
   "source": [
    "Nous allons maintenant examiner ce qui se passe lorsqu'on applique aux générateurs de $I$ l'algorithme de Buchberger. On note $g_1 = x^{m+1}-yz^{m-1}t$, $g_2 = xy^{m-1}-z^m$ et $g_3 = x^mz - y^mt$.\n",
    "\n",
    "\\begin{align*}\n",
    "S(g_1, g_2) &= \\frac{x^{m+1}y^{m-1}}{x^{m+1}}(x^{m+1}-yz^{m-1}t) - \\frac{x^{m+1}y^{m-1}}{xy^{m-1}}(xy^{m-1}-z^m) \\\\\n",
    "&= y^{m-1}(x^{m+1}-yz^{m-1}t) - x^m(xy^{m-1}-z^m) \\\\\n",
    "&= -y^mz^{m-1}t + x^mz^m\\\\\n",
    "&= z^{m-1}(x^mz - y^mt)\\\\\n",
    "&= z^{m-1}g_3\n",
    "\\end{align*}\n",
    "\n",
    "Par conséquent, $S(g_1, g_2) \\equiv 0 \\mod (g_1, g_2, g_3)$. De la même façon on a :\n",
    "\n",
    "\\begin{align*}\n",
    "S(g_1, g_3) &= \\frac{x^{m+1}z}{x^{m+1}}(x^{m+1}-yz^{m-1}t) - \\frac{x^{m+1}z}{x^mz}(x^mz - y^mt) \\\\\n",
    "&= z(x^{m+1}-yz^{m-1}t) - x(x^mz - y^mt) \\\\\n",
    "&= -yz^mt + xy^mt \\\\\n",
    "&= yt(xy^{m-1} -z^m) \\\\\n",
    "&= ytg_2\\\\\n",
    "\\end{align*}\n",
    "\n",
    "Donc, $S(g_1, g_3) \\equiv 0 \\mod (g_1, g_2, g_3)$. On calcule finalement $S(g_2, g_3)$.\n",
    "\n",
    "\\begin{align*}\n",
    "S(g_2, g_3) &= \\frac{x^my^{m-1}z}{xy^{m-1}}(xy^{m-1}-z^m) - \\frac{x^my^{m-1}z}{x^mz}(x^mz - y^mt) \\\\\n",
    "&= x^{m-1}z(xy^{m-1}-z^m) - y^{m-1}(x^mz - y^mt) \\\\\n",
    "&= -x^{m-1}z^{m+1} + y^{2m-1}t \\\\\n",
    "\\end{align*}\n",
    "\n",
    "On peut ici vérifier que $S(g_2, g_3)$ est son propre reste pour la division par $(g_1, g_2, g_3)$.\n",
    "\n",
    "On note $g_4 = x^{m-1}z^{m+1} - y^{2m-1}t$. On calcule\n",
    "\n",
    "\\begin{align*}\n",
    "S(g_1, g_4) &= \\frac{x^{m+1}z^{m+1}}{x^{m+1}}(x^{m+1}-yz^{m-1}t) - \\frac{x^{m+1}z^{m+1}}{x^{m-1}z^{m+1}}(x^{m-1}z^{m+1} - y^{2m-1}t) \\\\\n",
    "&= z^{m+1}(x^{m+1}-yz^{m-1}t) - x^2(x^{m-1}z^{m+1} - y^{2m-1}t) \\\\\n",
    "&= -yz^{2m}t + x^2y^{2m-1}t \\\\\n",
    "&= -yt(z^{2m} -x^2y^{2m-2}) \\\\\n",
    "\\end{align*}\n",
    "\n",
    "On peut vérifier (avec l'algorithme de division euclidienne) que le reste est nul.\n",
    "\n",
    "\\begin{align*}\n",
    "S(g_3, g_4) &= \\frac{x^my^{m-1}z^{m+1}}{xy^{m-1}}(x^mz - y^mt) - \\frac{x^my^{m-1}z^{m+1}}{x^{m-1}z^{m+1}}(x^{m-1}z^{m+1} - y^{2m-1}t) \\\\\n",
    "& = x^{m-1}z^{m+1}(x^mz - y^mt) - xy^{m-1}(x^{m-1}z^{m+1} - y^{2m-1}t) \\\\\n",
    "&= -x^{m-1}y^mz^{m+1}t + xy^{3m-2}t\\\\\n",
    "\\end{align*}\n",
    "\n",
    "On vérifie également que le reste est nul. \n",
    "\n",
    "\\begin{align*}\n",
    "S(g_2, g_4) &= \\frac{x^{m-1}y^{m-1}z^{m+1}}{xy^{m-1}}(xy^{m-1}-z^m) - \\frac{x^{m-1}y^{m-1}z^{m+1}}{x^{m-1}z^{m+1}}(x^{m-1}z^{m+1} - y^{2m-1}t) \\\\\n",
    "&= x^{m-2}z^{m+1}(xy^{m-1}-z^m) - y^{m-1}(x^{m-1}z^{m+1} - y^{2m-1}t) \\\\\n",
    "&= -x^{m-2}z^{2m+1} + y^{3m - 2}t \\\\\n",
    "\\end{align*}\n",
    "\n",
    "Ce polynôme est son propre reste, et on appèle ce reste $g_5$.\n",
    "\n",
    "On a maintenant la liste des polynômes suivants :\n",
    "\n",
    "$$\\{x^{m+1}-yz^{m-1}t, xy^{m-1}-z^m, x^mz - y^mt, x^{m-1}z^{m+1} - y^{2m-1}t, x^{m-2}z^{2m+1} - y^{3m - 2}t \\} = \\{g_1, g_2, g_3, g_4,g_5\\}.$$\n",
    "\n",
    "Pour comprendre ce qui se passe, on va examiner les bases données par *Sage* pour $m = 2, 3, 4$.\n",
    "\n",
    "* $m = 2$ : $G = \\{z^5 - y^4t, xz^3 - y^3t, x^3 - yzt, x^2z - y^2t, xy - z^2\\}$. On voit ici que $G = \\{g_1, g_2, g_3, g_4,g_5\\}$. En plus on voit que $g_5 = f_2$.\n",
    "\n",
    "* $m = 3$ : $G = \\{z^{10} - y^9t, xz^7 - y^7t, x^2z^4 - y^5t, x^4 - yz^2t, x^3z - y^3t, xy^2 - z^3\\}$. On peut remarquer que $G = \\{g_1, g_2, g_3, g_4,g_5, z^{10} - y^9t\\}$ et $z^{10} - y^9t = f_3$ est le reste de $S(g_2, g_5)$. On note ce nouveau polynôme $g_6 = x^{m-3}z^{3m + 1} - y^{4m - 3}t$. \n",
    "\n",
    "* $m = 4$ : $G = \\{z^{17} - y^{16}t, xz^{13} - y^{13}t, x^2z^9 - y^{10}t, x^3z^5 - y^7t, x^5 - yz^3t, x^4z - y^4t, xy^3 - z^4\\}$. On voit que $G = \\{g_1, g_2, g_3, g_4, g_5, g_6,z^{17} - y^{16}t\\}$ et $z^{17} - y^{16}t = f_4$ est le reste de $S(g_2, g_6)$. Ce polynôme a la forme $x^{m-4}z^{4m + 1} - y^{5m - 4}t$.\n",
    "\n",
    "On observe la formes des éléments ajoutés à chaque fois : \n",
    "\n",
    "- $g_4 = x^{m-1}z^{m+1} - y^{2m-1}t$\n",
    "- $g_5 = x^{m-2}z^{2m+1} - y^{3m - 2}t$\n",
    "- $g_6 = x^{m-3}z^{3m+1} - y^{4m - 3}t$\n",
    "\n",
    "On voit alors qu'à chaque étape $i$ on n'ajoute que le polynôme $x^{m-i}z^{im + 1} - y^{(i+1)m - i}t = f_m$, qui est le reste de du $S$-polynôme appliqué à $g_2$ et au polynôme ajouté à l'étape précédente.\n",
    "\n",
    "A la $m$-ième étape on a \n",
    "\n",
    "$$\\{x^{m+1}-yz^{m-1}t, xy^{m-1}-z^m, x^mz - y^mt, x^{m-1}z^{m+1} - y^{2m-1}t, \\dots, xz^{(m-1)m + 1} - y^{m^2 - (m-1)}t, z^{m^2+1} - y^{m^2}t\\}.$$\n",
    "\n",
    "À chaque étape les restes de tous les $S$-polynômes s'annulent. C'est donc une base de Gröbner pour l'ordre *degrevlex*. Les coefficients directeurs sont tous à $1$ et aucun des termes d'un polynôme n'est divisible par le terme dominant d'un autre. C'est donc la base de Gröbner réduite. On constate que cette base contient bien $z^{m^2+1} - y^{m^2}t$."
   ]
  },
  {
   "cell_type": "markdown",
   "metadata": {},
   "source": [
    "### Exercice 8.4\n",
    "\n",
    " Soient $f$ et $g$ deux polynômes non nuls sans facteur commun et\n",
    "  $I$ l'idéal qu'ils engendrent.  On suppose que $(f,g)$ est une\n",
    "  base de Gröbner de $I$.\n",
    "  \n",
    "\n",
    "  1. On pose : $\\mathrm{LT}(f)=\\lambda m m'$, $\\mathrm{LT}(g)=\\mu m m''$, où $m$\n",
    "    est un monôme, $m'$ et $m''$ sont deux monômes premiers entre\n",
    "    eux et $\\lambda$ et $\\mu$ deux scalaires.  En utilisant la\n",
    "    division du $S$-polynôme Syz$(f,g)$ par la suite $(f,g)$,\n",
    "    montrer qu'il existe un polynôme $g_1$ dont $\\mathrm{LT}(g_1)$ n'est pas\n",
    "    divisible par $\\mathrm{LT}(f)$ et tel que $f$ divise $g_1+\\lambda m'$.\n",
    "  1. En déduire que $m=1$.\n",
    "  1. En déduire que $(f,g)$ est une base de Gröbner de $I$ si,\n",
    "    et seulement si, $\\mathrm{LT}(f)$ et $\\mathrm{LT}(g)$ sont premiers entre eux.\n",
    "  1. On pose $f=hf'$, $g=hg'$, où $f'$ et $g'$ n'ont pas de\n",
    "    facteur commun. Montrer que $(f,g)$ est une base de Gröbner de\n",
    "    $I$ si, et seulement si, $(f',g')$ est une base de Gröbner de\n",
    "    l'idéal $I'$ engendré par $f'$ et $g'$.\n",
    "  1. Donner une condition nécessaire et suffisante pour que\n",
    "    $(f,g)$ soit une base de Gröbner de $I$."
   ]
  },
  {
   "cell_type": "markdown",
   "metadata": {},
   "source": [
    "*Correction.*\n",
    "\n",
    "1. On a que ppcm(LM($f$),LM($g$)) $=$ ppcm($mm',mm'') = mm'm''$. On calcule \n",
    "\\begin{eqnarray*}\n",
    "S(f,g) &= \\frac{mm'm''}{\\mathrm{LT}(f)}f - \\frac{mm'm''}{\\mathrm{LT}(g)}g \\\\\n",
    "&=  \\frac{m''}{\\lambda}f - \\frac{m'}{\\mu}g \\in I.\n",
    "\\end{eqnarray*}\n",
    "\n",
    "Effectuons la division multivariée par $(f,g)$: on trouve des polynômes $q_1$, $q_2$ tels que $\\frac{m''}{\\lambda}f - \\frac{m'}{\\mu}g = q_1f + q_2g$ (le reste est nul car $S(f,g) \\in I$ et $(f,g)$ est une base de Gröbner. On peut re-écrire cette égalité comme \n",
    "\n",
    "$$(\\frac{m''}{\\lambda} - q_1)f = (\\frac{m'}{\\mu} + q_2)g $$\n",
    "ou encore comme \n",
    "$$(\\mu m'' - \\lambda \\mu q_1)f  = (\\lambda m' + \\lambda \\mu q_2)g.$$\n",
    "\n",
    "Posons $g_1 = \\lambda \\mu q_2$. Comme $f$ et $g$ n'ont pas de facteurs communs, l'égalité ci-dessus entraine que $f|(\\lambda m' + g_1)$. De plus, si LT($f$) divisait LT($g_1$), alors $mm'$ diviserait LT($q_2$), d'où $mm'm''$ diviserait LT($q_2g)$. Mais dans l'algo de division multivariée on obtient que LT$(\\frac{m''}{\\lambda}f - \\frac{m'}{\\mu}g)$ = $\\max(\\mathrm{LT}(q_1f),\\mathrm{LT}(q_2g))$. Comme \n",
    "LT$(\\frac{m''}{\\lambda}f - \\frac{m'}{\\mu}g) < mm'm''$, on obtient une contradiction. Donc $\\mathrm{LT}(f)$ ne divise pas $\\mathrm{LT}(g_1)$ et $f | (g_1 + \\lambda m').$"
   ]
  },
  {
   "cell_type": "markdown",
   "metadata": {},
   "source": [
    "2) $f | (g_1 + \\lambda m') \\Rightarrow \\mathrm{LT}(f) | \\mathrm{LT}(g_1 + \\lambda m').$ Comme $\\mathrm{LT}(f)$ ne divise pas $\\mathrm{LT}(g_1)$ alors $\\mathrm{LT}(f) | m'$. Donc $mm' | m'$ donc $m = 1$."
   ]
  },
  {
   "cell_type": "markdown",
   "metadata": {},
   "source": [
    "3) Par ce qui procède si $(f,g)$ est une base de Gröbner, alors $\\mathrm{LT}(f)$ et $\\mathrm{LT}(g)$ sont premiers entre eux. \n",
    "\n",
    "Réciproquement, on suppose que $\\mathrm{LT}(f)$ et $\\mathrm{LT}(g)$ sont premiers entre eux, c'est-à-dire $m = 1$. On remarque d'abord que $$\\lambda\\mu S(f,g) = (\\mu m'' - g)f + (f-\\lambda m')g.$$ \n",
    "\n",
    "Ensuite, on déduit que cette expression est le résultat de la division multivariée du terme de gauche par $(f,g)$, en utilisant le critère suivant.\n",
    "\n",
    "*Critère.* Soit $$f = Q_1f_1 + \\dots + Q_rf_r + R,$$ la division multivariée de $f$ par $(f_1, \\dots f_r).$ Le résultat de l'algo de division est caractérisé par les conditions suivantes :\n",
    "\n",
    "- Tout monôme $m$ de $Q_i$ est tel que $m\\mathrm{LM}(f_i)$ n'est divisible par aucun des $\\mathrm{LM}(f_1), \\dots, \\mathrm{LM}(f_{i-1})$.\n",
    "- Aucun monôme de $R$ n'est divisible par aucun $\\mathrm{LM}(f_i)$.\n",
    "\n",
    "Nous allons utiliser ce critère. En effet, on voit qu'aucun terme $t$ de $(f-\\lambda m')$ n'est tel que $tm''$ est divisible par $m'$, puisque $m'$ et $m''$ sont premiers entre eux. Donc le reste de la division de $S(f,g)$ par $(f,g)$ est nul.  Par le critère de Buchberger, $(f,g)$ est une base de Gröbner."
   ]
  },
  {
   "cell_type": "markdown",
   "metadata": {},
   "source": [
    "4) On pose $f=hf'$, $g=hg'$, où $f'$ et $g'$ n'ont pas de\n",
    "    facteur commun.  Tout élément de $I$ s'écrit comme $\\alpha f + \\beta g = \\alpha hf' + \\beta hg' = h(\\alpha f' + \\beta g').$ Donc LT($\\alpha f + \\beta g$) = LT($h$) $\\cdot$ LT($\\alpha f' + \\beta g'$).\n",
    "    On en déduit que $\\langle \\mathrm{LT}(I) \\rangle = \\mathrm{LT}(h) \\langle \\mathrm{LT}(I') \\rangle.$ Ainsi, \n",
    "    \\begin{eqnarray*}\n",
    "    \\langle \\mathrm{LT}(I) \\rangle =  \\langle \\mathrm{LT}(f),\\mathrm{LT}(g)\\rangle &\\Leftrightarrow&\n",
    "    \\mathrm{LT}(h)\\langle \\mathrm{LT}(I') \\rangle  = \\mathrm{LT}(h)\\langle \\mathrm{LT}(f'),\\mathrm{LT}(g')\\rangle \\\\\n",
    "    &\\Leftrightarrow& \\langle \\mathrm{LT}(I') \\rangle =  \\langle \\mathrm{LT}(f'),\\mathrm{LT}(g')\\rangle,\n",
    "    \\end{eqnarray*}\n",
    "    d'où le résultat."
   ]
  },
  {
   "cell_type": "markdown",
   "metadata": {},
   "source": [
    "5) $(f,g)$ est une base de Gröbner de $I \\Leftrightarrow$ si $h$ est le pgcd de $f$ et $g$, alors LT($h$) est le pgcd de LT($f$) et LT($g$).\n"
   ]
  },
  {
   "cell_type": "code",
   "execution_count": null,
   "metadata": {},
   "outputs": [],
   "source": []
  }
 ],
 "metadata": {
  "kernelspec": {
   "display_name": "SageMath 8.1",
   "language": "",
   "name": "sagemath"
  },
  "language_info": {
   "codemirror_mode": {
    "name": "ipython",
    "version": 2
   },
   "file_extension": ".py",
   "mimetype": "text/x-python",
   "name": "python",
   "nbconvert_exporter": "python",
   "pygments_lexer": "ipython2",
   "version": "2.7.15rc1"
  }
 },
 "nbformat": 4,
 "nbformat_minor": 2
}
