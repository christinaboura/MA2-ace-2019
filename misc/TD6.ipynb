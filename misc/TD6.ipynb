{
 "cells": [
  {
   "cell_type": "markdown",
   "metadata": {},
   "source": [
    "### Exercice 11.2"
   ]
  },
  {
   "cell_type": "markdown",
   "metadata": {},
   "source": [
    "Soient le système d’équations\n",
    "\n",
    "$\\begin{cases}x^2+2y^2 & =3\\\\\n",
    "x^2+xy+y^2 & =3\n",
    "\\end{cases}$\n",
    "\n",
    "et $I$ l’idéal engendré par ces équations.\n",
    "\n",
    "1. Déterminer des bases de $I\\cap k[x]$ et de $I\\cap k[y]$.\n",
    "1. En déduire l’ensemble des solutions de ce système.\n"
   ]
  },
  {
   "cell_type": "markdown",
   "metadata": {},
   "source": [
    "*Corrigé*."
   ]
  },
  {
   "cell_type": "code",
   "execution_count": 12,
   "metadata": {},
   "outputs": [],
   "source": [
    "A.<x,y> = PolynomialRing(QQ, order = 'lex')\n",
    "I = A.ideal(x^2 + 2*y^2 - 3, x^2 + x*y + y^2 - 3)"
   ]
  },
  {
   "cell_type": "code",
   "execution_count": 20,
   "metadata": {},
   "outputs": [
    {
     "name": "stdout",
     "output_type": "stream",
     "text": [
      "[x^2 + 2*y^2 - 3, x*y - y^2, y^3 - y]\n"
     ]
    }
   ],
   "source": [
    "G = I.groebner_basis()\n",
    "print(G)"
   ]
  },
  {
   "cell_type": "markdown",
   "metadata": {},
   "source": [
    "On a alors que $I \\cap k[y] = \\langle y^3 - y \\rangle.$"
   ]
  },
  {
   "cell_type": "code",
   "execution_count": 14,
   "metadata": {},
   "outputs": [
    {
     "data": {
      "text/plain": [
       "[y + 1/2*x^3 - 3/2*x, x^4 - 4*x^2 + 3]"
      ]
     },
     "execution_count": 14,
     "metadata": {},
     "output_type": "execute_result"
    }
   ],
   "source": [
    "J = I.change_ring(A.change_ring(names = 'y,x'))\n",
    "G2 = J.groebner_basis()\n",
    "G2"
   ]
  },
  {
   "cell_type": "markdown",
   "metadata": {},
   "source": [
    "On a alors que $I \\cap k[x] = \\langle x^4 - 4x^2 + 3 \\rangle.$"
   ]
  },
  {
   "cell_type": "markdown",
   "metadata": {},
   "source": [
    "On va partir maintenant des solutions de $y$ pour trouver des valeurs de $x$."
   ]
  },
  {
   "cell_type": "code",
   "execution_count": 15,
   "metadata": {},
   "outputs": [
    {
     "data": {
      "text/plain": [
       "y * (y - 1) * (y + 1)"
      ]
     },
     "execution_count": 15,
     "metadata": {},
     "output_type": "execute_result"
    }
   ],
   "source": [
    "f = G[-1]\n",
    "f.factor()"
   ]
  },
  {
   "cell_type": "markdown",
   "metadata": {},
   "source": [
    "On voit donc que les solutions pour $y$ sont $y = 0, -1, 1$."
   ]
  },
  {
   "cell_type": "code",
   "execution_count": 16,
   "metadata": {},
   "outputs": [
    {
     "data": {
      "text/plain": [
       "x - 1"
      ]
     },
     "execution_count": 16,
     "metadata": {},
     "output_type": "execute_result"
    }
   ],
   "source": [
    "G[-2](y = 1)"
   ]
  },
  {
   "cell_type": "code",
   "execution_count": 17,
   "metadata": {},
   "outputs": [
    {
     "data": {
      "text/plain": [
       "-x - 1"
      ]
     },
     "execution_count": 17,
     "metadata": {},
     "output_type": "execute_result"
    }
   ],
   "source": [
    "G[-2](y = -1)"
   ]
  },
  {
   "cell_type": "markdown",
   "metadata": {},
   "source": [
    "On obtient à partir du deuxième élément de la base les solutions pour $x$ correspondants aux valeurs $y = \\pm 1$. On a en effet que $x = y = \\pm 1$. Par contre le deuxième générateur ne nous donne pas des informations sur $x = 0$ quand $y = 0$. Pour cela on peut utiliser le premier générateur."
   ]
  },
  {
   "cell_type": "code",
   "execution_count": 21,
   "metadata": {},
   "outputs": [
    {
     "data": {
      "text/plain": [
       "x^2 - 3"
      ]
     },
     "execution_count": 21,
     "metadata": {},
     "output_type": "execute_result"
    }
   ],
   "source": [
    "G[0](y = 0)"
   ]
  },
  {
   "cell_type": "markdown",
   "metadata": {},
   "source": [
    "Pour conclure, on a les quatre solutions $(x,y) = \\{(1,1), (-1,-1), (\\sqrt{3}, 0),  (-\\sqrt{3}, 0)\\}.$"
   ]
  },
  {
   "cell_type": "markdown",
   "metadata": {},
   "source": [
    "### Exercice 11.3\n",
    "\n",
    "Soit $I$ l’idéal déterminé par les équations\n",
    "\n",
    "$$x^2+y^2+z^2=4,\\; x^2+2y^2=5,\\; xz=1.$$\n",
    "\n",
    "1. Calculer les idéaux $I_1$ et  $I_2$.\n",
    "1. Combien le système associé admet-il de solutions $(x,y,z)\\in\\mathbb{Q}^3$?\n",
    "1. Combien le système associé admet-il de solutions $(x,y,z)\\in\\mathbb{C}^3$?\n"
   ]
  },
  {
   "cell_type": "markdown",
   "metadata": {},
   "source": [
    "*Correction.*"
   ]
  },
  {
   "cell_type": "code",
   "execution_count": 5,
   "metadata": {},
   "outputs": [
    {
     "data": {
      "text/plain": [
       "[x + 2*z^3 - 3*z, y^2 - z^2 - 1, z^4 - 3/2*z^2 + 1/2]"
      ]
     },
     "execution_count": 5,
     "metadata": {},
     "output_type": "execute_result"
    }
   ],
   "source": [
    "A.<x,y,z> = PolynomialRing(QQ, order = 'lex')\n",
    "I = A.ideal(x^2 + y^2 + z^2 - 4, x^2 + 2*y^2 - 5, x*z - 1)\n",
    "G = I.groebner_basis()\n",
    "G"
   ]
  },
  {
   "cell_type": "markdown",
   "metadata": {},
   "source": [
    "On a donc que $I_1 = I \\cap \\mathbb{Q}[y,z] = \\langle y^2 - z^2 - 1, z^4 - \\frac{3}{2}z^2 + \\frac{1}{2}\\rangle$ et que $I_2 = I \\cap \\mathbb{Q}[z] = \\langle z^4 - \\frac{3}{2}z^2 + \\frac{1}{2}\\rangle$.\n"
   ]
  },
  {
   "cell_type": "code",
   "execution_count": 6,
   "metadata": {},
   "outputs": [
    {
     "data": {
      "text/plain": [
       "(1/2) * (z - 1) * (z + 1) * (2*z^2 - 1)"
      ]
     },
     "execution_count": 6,
     "metadata": {},
     "output_type": "execute_result"
    }
   ],
   "source": [
    "G[-1].factor()"
   ]
  },
  {
   "cell_type": "markdown",
   "metadata": {},
   "source": [
    "On voit donc que les solutions pour $z$ sont $\\pm 1, \\pm 1/\\sqrt{2}$. Seuls $z = \\pm 1$ sont dans $\\mathbb{Q}$. On cherche d'abord les solutions rationnelles."
   ]
  },
  {
   "cell_type": "code",
   "execution_count": 8,
   "metadata": {},
   "outputs": [
    {
     "data": {
      "text/plain": [
       "(y^2 - 2, y^2 - 2)"
      ]
     },
     "execution_count": 8,
     "metadata": {},
     "output_type": "execute_result"
    }
   ],
   "source": [
    "G[1](z=1), G[1](z=-1)"
   ]
  },
  {
   "cell_type": "markdown",
   "metadata": {},
   "source": [
    "On voit alors que ce système n'a pas de solutions dans $\\mathbb{Q}^3$. On s'intéresse maintenant aux solutions dans $\\mathbb{C}^3$."
   ]
  },
  {
   "cell_type": "code",
   "execution_count": 9,
   "metadata": {},
   "outputs": [
    {
     "data": {
      "text/plain": [
       "x + 2*z^3 - 3*z"
      ]
     },
     "execution_count": 9,
     "metadata": {},
     "output_type": "execute_result"
    }
   ],
   "source": [
    "G[0]"
   ]
  },
  {
   "cell_type": "code",
   "execution_count": 11,
   "metadata": {},
   "outputs": [
    {
     "data": {
      "text/plain": [
       "(x - 1, x - 1)"
      ]
     },
     "execution_count": 11,
     "metadata": {},
     "output_type": "execute_result"
    }
   ],
   "source": [
    "G[0](z = 1, y = sqrt(2)), G[0](z = 1, y = -sqrt(2))"
   ]
  },
  {
   "cell_type": "code",
   "execution_count": 12,
   "metadata": {},
   "outputs": [
    {
     "data": {
      "text/plain": [
       "(x + 1, x + 1)"
      ]
     },
     "execution_count": 12,
     "metadata": {},
     "output_type": "execute_result"
    }
   ],
   "source": [
    "G[0](z = -1, y = sqrt(2)), G[0](z = -1, y = -sqrt(2))"
   ]
  },
  {
   "cell_type": "code",
   "execution_count": 14,
   "metadata": {},
   "outputs": [
    {
     "data": {
      "text/plain": [
       "(x - sqrt(2), x + sqrt(2))"
      ]
     },
     "execution_count": 14,
     "metadata": {},
     "output_type": "execute_result"
    }
   ],
   "source": [
    "G[0](z = 1/sqrt(2), y = 0), G[0](z = -1/sqrt(2), y = 0)"
   ]
  },
  {
   "cell_type": "markdown",
   "metadata": {},
   "source": [
    "Les solutions  $(x,y,z)$ dans $\\mathbb{C}^3$ sont alors $(1,\\sqrt{2},1), (1,-\\sqrt{2},1),(-1,\\sqrt{2},-1)$, $(-1,-\\sqrt{2},-1), (\\sqrt{2},0,1/\\sqrt{2}), (-\\sqrt{2},0,-1/\\sqrt{2}).$\n",
    " \n",
    " On peut vérifier les solutions :"
   ]
  },
  {
   "cell_type": "code",
   "execution_count": 15,
   "metadata": {},
   "outputs": [
    {
     "data": {
      "text/plain": [
       "[{y: -1.41421356237310, z: -1.00000000000000, x: -1.00000000000000},\n",
       " {y: 1.41421356237310, z: -1.00000000000000, x: -1.00000000000000},\n",
       " {y: -1.22474487139159, z: -0.707106781186548, x: -1.41421356237310},\n",
       " {y: 1.22474487139159, z: -0.707106781186548, x: -1.41421356237310},\n",
       " {y: -1.22474487139159, z: 0.707106781186548, x: 1.41421356237310},\n",
       " {y: 1.22474487139159, z: 0.707106781186548, x: 1.41421356237310},\n",
       " {y: -1.41421356237310, z: 1.00000000000000, x: 1.00000000000000},\n",
       " {y: 1.41421356237310, z: 1.00000000000000, x: 1.00000000000000}]"
      ]
     },
     "execution_count": 15,
     "metadata": {},
     "output_type": "execute_result"
    }
   ],
   "source": [
    "I.variety(CC)"
   ]
  },
  {
   "cell_type": "markdown",
   "metadata": {},
   "source": [
    "### Exercice 11.4\n",
    "\n",
    "Utiliser le théorème d'élimination pour résoudre le système suivant\n",
    "dans $\\mathbb{R}^3$ puis dans $\\mathbb{C}^3$ :\n",
    "\n",
    "$$\\begin{cases}x^2+2y^2-y-2z & =0\\\\x^2-8y^2+10z-1 & =0\\\\ x^2-7xy & =0.\n",
    "  \\end{cases}$$"
   ]
  },
  {
   "cell_type": "code",
   "execution_count": 1,
   "metadata": {},
   "outputs": [
    {
     "data": {
      "text/plain": [
       "[x + 50993212928/123645299*z^3 - 2172325755884/865517093*z^2 + 451379245320/865517093*z - 22958109681/865517093, y + 5007254400/123645299*z^3 - 30579292285/123645299*z^2 + 13816426921/247290598*z - 370913089/123645299, z^4 - 1081379/175232*z^3 + 156313/87616*z^2 - 120681/700928*z + 15/2738]"
      ]
     },
     "execution_count": 1,
     "metadata": {},
     "output_type": "execute_result"
    }
   ],
   "source": [
    "A.<x,y,z> = PolynomialRing(QQ, order = 'lex')\n",
    "I = A.ideal(x^2 + 2*y^2 - y - 2*z, x^2 - 8*y^2 + 10*z - 1, x^2 - 7*x*y)\n",
    "G = I.groebner_basis()\n",
    "G"
   ]
  },
  {
   "cell_type": "markdown",
   "metadata": {},
   "source": [
    "La base de Gröbner obtenue n'est pas *très belle*. On re-essaie avec un ordre différent, par exemple en prenant l'ordre léxicographique avec $y > x > z$."
   ]
  },
  {
   "cell_type": "code",
   "execution_count": 3,
   "metadata": {},
   "outputs": [
    {
     "data": {
      "text/plain": [
       "[z - 2*y + 5/2*x^2 - 1/2, y^2 - 5/2*y + 3*x^2 - 1/2, y*x - 1/7*x^2, x^3 - 35/296*x^2 - 49/296*x]"
      ]
     },
     "execution_count": 3,
     "metadata": {},
     "output_type": "execute_result"
    }
   ],
   "source": [
    "J = I.change_ring(A.change_ring(names = 'z,y,x'))\n",
    "G = J.groebner_basis()\n",
    "G"
   ]
  },
  {
   "cell_type": "markdown",
   "metadata": {},
   "source": [
    "C'est beaucoup plus sympa maintenant."
   ]
  },
  {
   "cell_type": "code",
   "execution_count": 4,
   "metadata": {},
   "outputs": [
    {
     "data": {
      "text/plain": [
       "(1/296) * x * (296*x^2 - 35*x - 49)"
      ]
     },
     "execution_count": 4,
     "metadata": {},
     "output_type": "execute_result"
    }
   ],
   "source": [
    "G[-1].factor()"
   ]
  },
  {
   "cell_type": "markdown",
   "metadata": {},
   "source": [
    "À partir de ce polynôme on peut facilement retrouver les valeurs pour $x$ : $x \\in \\{0, \\frac{35 \\pm \\sqrt{59241}}{592} \\} = \\{0, \\frac{7(5 \\pm \\sqrt{1209})}{592}\\}$."
   ]
  },
  {
   "cell_type": "markdown",
   "metadata": {},
   "source": [
    "On peut aussi faire avec *Sage*."
   ]
  },
  {
   "cell_type": "code",
   "execution_count": 13,
   "metadata": {},
   "outputs": [
    {
     "data": {
      "text/plain": [
       "[(-7/592*sqrt(1209) + 35/592, 1), (7/592*sqrt(1209) + 35/592, 1), (0, 1)]"
      ]
     },
     "execution_count": 13,
     "metadata": {},
     "output_type": "execute_result"
    }
   ],
   "source": [
    "F = G[-1].univariate_polynomial()\n",
    "F.roots(SR)"
   ]
  },
  {
   "cell_type": "code",
   "execution_count": 15,
   "metadata": {},
   "outputs": [
    {
     "data": {
      "text/plain": [
       "1209"
      ]
     },
     "execution_count": 15,
     "metadata": {},
     "output_type": "execute_result"
    }
   ],
   "source": [
    "59241.factor(); 3*13*31"
   ]
  },
  {
   "cell_type": "markdown",
   "metadata": {},
   "source": [
    "On remplace $x = 0$ dans la deuxième polynôme de la base de Gröbner qui devient $y^2 - 5/2y - 1/2$. On a alors $2y^2 - 5y - 1 = 0$ ce qui donne $y = \\frac{5 \\pm \\sqrt{33}}{4}$."
   ]
  },
  {
   "cell_type": "markdown",
   "metadata": {},
   "source": [
    "On fait cela avec *Sage*."
   ]
  },
  {
   "cell_type": "code",
   "execution_count": 29,
   "metadata": {},
   "outputs": [],
   "source": [
    "F = G[1](x = 0).univariate_polynomial()"
   ]
  },
  {
   "cell_type": "code",
   "execution_count": 30,
   "metadata": {},
   "outputs": [
    {
     "data": {
      "text/plain": [
       "[(-1/4*sqrt(33) + 5/4, 1), (1/4*sqrt(33) + 5/4, 1)]"
      ]
     },
     "execution_count": 30,
     "metadata": {},
     "output_type": "execute_result"
    }
   ],
   "source": [
    "F.roots(SR)"
   ]
  },
  {
   "cell_type": "markdown",
   "metadata": {},
   "source": [
    "Si $y = \\frac{5 + \\sqrt{33}}{4}$, alors $z - \\frac{5 + \\sqrt{33}}{2} - \\frac{1}{2} = 0 \\Leftrightarrow z = \\frac{6 + \\sqrt{33}}{2}$."
   ]
  },
  {
   "cell_type": "markdown",
   "metadata": {},
   "source": [
    "Si $y = \\frac{5 - \\sqrt{33}}{4}$, alors $z - \\frac{5 - \\sqrt{33}}{2} - \\frac{1}{2} = 0 \\Leftrightarrow z = \\frac{6 - \\sqrt{33}}{2}$."
   ]
  },
  {
   "cell_type": "markdown",
   "metadata": {},
   "source": [
    "On obtient donc les deux solutions $(x,y,z) = \\{0, \\frac{5 + \\sqrt{33}}{4}, \\frac{6 + \\sqrt{33}}{2}\\}$ et $\\{0, \\frac{5 - \\sqrt{33}}{4}, \\frac{6 - \\sqrt{33}}{2}\\}$. Toutes les deux sont dans $\\mathbb{R}^3$."
   ]
  },
  {
   "cell_type": "markdown",
   "metadata": {},
   "source": [
    "Si maintenant $x = \\frac{7(5 + \\sqrt{1209})}{592}$, alors $yx - \\frac{1}{x^2} = 0 \\Rightarrow y = \\frac{x}{7} = \\frac{5 \\pm \\sqrt{1209}}{592}$ et donc $z = 2y + \\frac{5}{2}x^2 - \\frac{1}{2} = \\dots $"
   ]
  },
  {
   "cell_type": "markdown",
   "metadata": {},
   "source": [
    "Si maintenant $x = \\frac{7(5 \\pm \\sqrt{1209})}{592}$, alors $yx - \\frac{1}{x^2} = 0 \\Rightarrow y = \\frac{x}{7} = \\frac{5 - \\sqrt{1209}}{592}$ et donc $z = 2y + \\frac{5}{2}x^2 - \\frac{1}{2} = \\dots $"
   ]
  },
  {
   "cell_type": "markdown",
   "metadata": {},
   "source": [
    "On trouve ainsi deux solutions supplémentaires qui sont elles aussi des solutions réelles."
   ]
  },
  {
   "cell_type": "code",
   "execution_count": null,
   "metadata": {},
   "outputs": [],
   "source": []
  }
 ],
 "metadata": {
  "kernelspec": {
   "display_name": "SageMath 8.1",
   "language": "",
   "name": "sagemath"
  },
  "language_info": {
   "codemirror_mode": {
    "name": "ipython",
    "version": 2
   },
   "file_extension": ".py",
   "mimetype": "text/x-python",
   "name": "python",
   "nbconvert_exporter": "python",
   "pygments_lexer": "ipython2",
   "version": "2.7.15rc1"
  }
 },
 "nbformat": 4,
 "nbformat_minor": 2
}
