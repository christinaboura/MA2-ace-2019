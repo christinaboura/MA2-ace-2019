{
 "cells": [
  {
   "cell_type": "markdown",
   "metadata": {},
   "source": [
    "### Exercice 10.7"
   ]
  },
  {
   "cell_type": "markdown",
   "metadata": {},
   "source": [
    "Soient $a,b,c$ satisfaisant le système :\n",
    "\n",
    "$$\\left\\{\\begin{aligned}\n",
    "a+b+c & =3\\\\\n",
    "a^2+b^2+c^2 & =5\\\\\n",
    "a^3+b^3+c^3 & =7\n",
    "\\end{aligned}\\right.$$\n",
    "\n",
    "1. Montrer que $a^4+b^4+c^4=9.$\n",
    "1. Montrer que $a^5+b^5+c^5\\neq 11$.\n",
    "1. Que valent $a^5+b^5+c^5$ et $a^6+b^6+c^6$ ?"
   ]
  },
  {
   "cell_type": "code",
   "execution_count": 1,
   "metadata": {},
   "outputs": [],
   "source": [
    "A.<a,b,c> = PolynomialRing(QQ, order = 'lex')\n",
    "I = A.ideal(a + b + c - 3, a^2 + b^2 + c^2 - 5, a^3 + b^3 + c^3 - 7)"
   ]
  },
  {
   "cell_type": "code",
   "execution_count": 2,
   "metadata": {},
   "outputs": [],
   "source": [
    "G = I.groebner_basis()"
   ]
  },
  {
   "cell_type": "code",
   "execution_count": 3,
   "metadata": {},
   "outputs": [],
   "source": [
    " P = a^4 + b^4 + c^4 - 9"
   ]
  },
  {
   "cell_type": "code",
   "execution_count": 4,
   "metadata": {},
   "outputs": [
    {
     "data": {
      "text/plain": [
       "0"
      ]
     },
     "execution_count": 4,
     "metadata": {},
     "output_type": "execute_result"
    }
   ],
   "source": [
    "P.reduce(G)"
   ]
  },
  {
   "cell_type": "markdown",
   "metadata": {},
   "source": [
    "Lorsqu'on divise  $a^4+b^4+c^4-9$ par $G$ le reste est $0$, ce qui veut dire que $a^4+b^4+c^4-9 \\in I$. Il existe alors des polynômes  $A$, $B$ et $C$ en $a,b$ et $c$ tels que \n",
    "\n",
    "   $$a^4+b^4+c^4-9 = A(a+b+c -3) + B(a^2+b^2+c^2 -5) +  C(a^3+b^3+c^3  -7).$$\n",
    "   \n",
    "Par conséquent $a^4+b^4+c^4-9$ s'annule lorsque  $a+b+c  - 3 = a^2+b^2+c^2 -5 = a^3+b^3+c^3  -7 = 0$. On conclut donc que  si $a+b+c  =3$, $a^2+b^2+c^2 =5$ et $a^3+b^3+c^3  =7$ alors $a^4+b^4+c^4=9$.    "
   ]
  },
  {
   "cell_type": "code",
   "execution_count": 5,
   "metadata": {},
   "outputs": [
    {
     "data": {
      "text/plain": [
       "-4/3"
      ]
     },
     "execution_count": 5,
     "metadata": {},
     "output_type": "execute_result"
    }
   ],
   "source": [
    "Q = a^5 + b^5 + c^5 - 11\n",
    "Q.reduce(G)"
   ]
  },
  {
   "cell_type": "markdown",
   "metadata": {},
   "source": [
    "Lorsque on divise $Q = a^5+b^5+c^5 - 11$ par $G$ on voit que le reste est $-4/3$. Puisque $G$ est une base de $I$, comme toute à l'heure, ils existent des polynômes $A$, $B$ et $C$ en $a,b$ et $c$ tels que \n",
    " \n",
    "   $$a^5+b^5+c^5 - 11 = A(a+b+c -3) + B(a^2+b^2+c^2 -5) +  C(a^3+b^3+c^3  -7) - 4/3.$$\n",
    "   \n",
    "   Si $a+b+c  =3$, $a^2+b^2+c^2 =5$ et $a^3+b^3+c^3  =7$, alors $a^5+b^5+c^5 - 11 = -4/3 \\neq 0$."
   ]
  },
  {
   "cell_type": "markdown",
   "metadata": {},
   "source": [
    "On voit en particulier que $a^5 + b^5 + c^5 - 11 = -4/3$ et donc que $a^5 + b^5 + c^5 = 29/3$."
   ]
  },
  {
   "cell_type": "code",
   "execution_count": 6,
   "metadata": {},
   "outputs": [
    {
     "data": {
      "text/plain": [
       "19/3"
      ]
     },
     "execution_count": 6,
     "metadata": {},
     "output_type": "execute_result"
    }
   ],
   "source": [
    "H = a^6 + b^6 + c^6\n",
    "H.reduce(G)"
   ]
  },
  {
   "cell_type": "markdown",
   "metadata": {},
   "source": [
    "On voit donc que $a^6 + b^6 + c^6 = 19$."
   ]
  },
  {
   "cell_type": "markdown",
   "metadata": {},
   "source": [
    "### Exercice 11.2\n",
    "\n",
    "Soient le système d’équations\n",
    "\n",
    "$\\begin{cases}x^2+2y^2 & =3\\\\\n",
    "x^2+xy+y^2 & =3\n",
    "\\end{cases}$\n",
    "\n",
    "et $I$ l’idéal engendré par ces équations.\n",
    "\n",
    "1. Déterminer des bases de $I\\cap k[x]$ et de $I\\cap k[y]$.\n",
    "1. En déduire l’ensemble des solutions de ce système.\n"
   ]
  },
  {
   "cell_type": "markdown",
   "metadata": {},
   "source": [
    "*Corrigé.*"
   ]
  },
  {
   "cell_type": "code",
   "execution_count": 8,
   "metadata": {},
   "outputs": [
    {
     "data": {
      "text/html": [
       "<html><script type=\"math/tex; mode=display\">\\newcommand{\\Bold}[1]{\\mathbf{#1}}\\left[x^{2} + 2 y^{2} - 3, x y -  y^{2}, y^{3} -  y\\right]</script></html>"
      ],
      "text/plain": [
       "[x^2 + 2*y^2 - 3, x*y - y^2, y^3 - y]"
      ]
     },
     "execution_count": 8,
     "metadata": {},
     "output_type": "execute_result"
    }
   ],
   "source": [
    "A.<x,y> = PolynomialRing(QQ, order = 'lex')\n",
    "I = A.ideal(x^2 + 2*y^2 - 3, x^2 + x*y + y^2 - 3)\n",
    "G = I.groebner_basis()\n",
    "%display latex\n",
    "G"
   ]
  },
  {
   "cell_type": "markdown",
   "metadata": {},
   "source": [
    "Donc $I \\cap k[y] = \\langle y^3-y \\rangle$."
   ]
  },
  {
   "cell_type": "code",
   "execution_count": 9,
   "metadata": {},
   "outputs": [
    {
     "data": {
      "text/html": [
       "<html><script type=\"math/tex; mode=display\">\\newcommand{\\Bold}[1]{\\mathbf{#1}}\\left[y + \\frac{1}{2} x^{3} - \\frac{3}{2} x, x^{4} - 4 x^{2} + 3\\right]</script></html>"
      ],
      "text/plain": [
       "[y + 1/2*x^3 - 3/2*x, x^4 - 4*x^2 + 3]"
      ]
     },
     "execution_count": 9,
     "metadata": {},
     "output_type": "execute_result"
    }
   ],
   "source": [
    "J = I.change_ring(A.change_ring(names = 'y,x'))\n",
    "G2 = J.groebner_basis()\n",
    "G2"
   ]
  },
  {
   "cell_type": "markdown",
   "metadata": {},
   "source": [
    "Donc $I \\cap k[x] = \\langle x^4-4x^2 + 3 \\rangle$."
   ]
  },
  {
   "cell_type": "markdown",
   "metadata": {},
   "source": [
    "On va partir maintenant des solutions de $y$ pour trouver des valeurs de $x$."
   ]
  },
  {
   "cell_type": "code",
   "execution_count": 10,
   "metadata": {},
   "outputs": [
    {
     "data": {
      "text/html": [
       "<html><script type=\"math/tex; mode=display\">\\newcommand{\\Bold}[1]{\\mathbf{#1}}y^{3} -  y</script></html>"
      ],
      "text/plain": [
       "y^3 - y"
      ]
     },
     "execution_count": 10,
     "metadata": {},
     "output_type": "execute_result"
    }
   ],
   "source": [
    "f = G[-1]\n",
    "f"
   ]
  },
  {
   "cell_type": "code",
   "execution_count": 11,
   "metadata": {},
   "outputs": [
    {
     "data": {
      "text/html": [
       "<html><script type=\"math/tex; mode=display\">\\newcommand{\\Bold}[1]{\\mathbf{#1}}y \\cdot (y - 1) \\cdot (y + 1)</script></html>"
      ],
      "text/plain": [
       "y * (y - 1) * (y + 1)"
      ]
     },
     "execution_count": 11,
     "metadata": {},
     "output_type": "execute_result"
    }
   ],
   "source": [
    "f.factor()"
   ]
  },
  {
   "cell_type": "markdown",
   "metadata": {},
   "source": [
    "Les solutions pour $y$ sont $y = 0, \\pm 1$."
   ]
  },
  {
   "cell_type": "code",
   "execution_count": 12,
   "metadata": {},
   "outputs": [
    {
     "data": {
      "text/html": [
       "<html><script type=\"math/tex; mode=display\">\\newcommand{\\Bold}[1]{\\mathbf{#1}}x - 1</script></html>"
      ],
      "text/plain": [
       "x - 1"
      ]
     },
     "execution_count": 12,
     "metadata": {},
     "output_type": "execute_result"
    }
   ],
   "source": [
    "G[-2](y=1)"
   ]
  },
  {
   "cell_type": "code",
   "execution_count": 13,
   "metadata": {},
   "outputs": [
    {
     "data": {
      "text/html": [
       "<html><script type=\"math/tex; mode=display\">\\newcommand{\\Bold}[1]{\\mathbf{#1}}- x - 1</script></html>"
      ],
      "text/plain": [
       "-x - 1"
      ]
     },
     "execution_count": 13,
     "metadata": {},
     "output_type": "execute_result"
    }
   ],
   "source": [
    "G[-2](y=-1)"
   ]
  },
  {
   "cell_type": "markdown",
   "metadata": {},
   "source": [
    "On obtient à partir du deuxième élément de la base les solutions pour $x$ correspondants aux valeurs $y = \\pm 1$. On a en effet que $x = y = \\pm 1$. Par contre le deuxième générateur ne nous donne pas des informations sur $x = 0$ quand $y = 0$. Pour cela on peut utiliser le premier générateur."
   ]
  },
  {
   "cell_type": "code",
   "execution_count": 14,
   "metadata": {},
   "outputs": [
    {
     "data": {
      "text/html": [
       "<html><script type=\"math/tex; mode=display\">\\newcommand{\\Bold}[1]{\\mathbf{#1}}x^{2} - 3</script></html>"
      ],
      "text/plain": [
       "x^2 - 3"
      ]
     },
     "execution_count": 14,
     "metadata": {},
     "output_type": "execute_result"
    }
   ],
   "source": [
    "G[0](y=0)"
   ]
  },
  {
   "cell_type": "markdown",
   "metadata": {},
   "source": [
    "Pour conclure, on a les quatre solutions : $\\{(1,1), (-1,-1), (\\sqrt{3}, 0), (-\\sqrt{3},0)\\}.$"
   ]
  },
  {
   "cell_type": "markdown",
   "metadata": {},
   "source": [
    "### Exercice 11.3\n",
    "\n",
    "Soit $I$ l’idéal déterminé par les équations\n",
    "\n",
    "$$x^2+y^2+z^2=4,\\; x^2+2y^2=5,\\; xz=1.$$\n",
    "\n",
    "1. Calculer les idéaux $I_1$ et  $I_2$.\n",
    "1. Combien le système associé admet-il de solutions $(x,y,z)\\in\\mathbb{Q}^3$?\n",
    "1. Combien le système associé admet-il de solutions $(x,y,z)\\in\\mathbb{C}^3$?"
   ]
  },
  {
   "cell_type": "markdown",
   "metadata": {},
   "source": [
    "*Corrigé.*"
   ]
  },
  {
   "cell_type": "code",
   "execution_count": 46,
   "metadata": {},
   "outputs": [
    {
     "data": {
      "text/html": [
       "<html><script type=\"math/tex; mode=display\">\\newcommand{\\Bold}[1]{\\mathbf{#1}}\\left[x + 2 z^{3} - 3 z, y^{2} -  z^{2} - 1, z^{4} - \\frac{3}{2} z^{2} + \\frac{1}{2}\\right]</script></html>"
      ],
      "text/plain": [
       "[x + 2*z^3 - 3*z, y^2 - z^2 - 1, z^4 - 3/2*z^2 + 1/2]"
      ]
     },
     "execution_count": 46,
     "metadata": {},
     "output_type": "execute_result"
    }
   ],
   "source": [
    "A.<x,y,z> = PolynomialRing(QQ, order = 'lex')\n",
    "I = A.ideal(x^2 + y^2 + z^2 - 4, x^2 + 2*y^2 - 5, x*z - 1)\n",
    "G = I.groebner_basis()\n",
    "G"
   ]
  },
  {
   "cell_type": "markdown",
   "metadata": {},
   "source": [
    "Donc $I_1 = I \\cap \\mathbb{Q}[y,z] = \\langle y^2 - z^2 - 1, z^4 - 3/2z^2 + 1/2 \\rangle$ et que $I_2 = I \\cap \\mathbb{Q}[z] = \\langle z^4 - 3/2z^2 + 1/2 \\rangle$."
   ]
  },
  {
   "cell_type": "code",
   "execution_count": 47,
   "metadata": {},
   "outputs": [
    {
     "data": {
      "text/html": [
       "<html><script type=\"math/tex; mode=display\">\\newcommand{\\Bold}[1]{\\mathbf{#1}}\\left(\\frac{1}{2}\\right) \\cdot (z - 1) \\cdot (z + 1) \\cdot (2 z^{2} - 1)</script></html>"
      ],
      "text/plain": [
       "(1/2) * (z - 1) * (z + 1) * (2*z^2 - 1)"
      ]
     },
     "execution_count": 47,
     "metadata": {},
     "output_type": "execute_result"
    }
   ],
   "source": [
    "G[-1].factor()"
   ]
  },
  {
   "cell_type": "markdown",
   "metadata": {},
   "source": [
    "Parmi les solutions pour $z$, seules $z = \\pm 1$ sont dans $\\mathbb{Q}$. On cherche d'abord les solutions rationnelles."
   ]
  },
  {
   "cell_type": "code",
   "execution_count": 18,
   "metadata": {},
   "outputs": [
    {
     "data": {
      "text/html": [
       "<html><script type=\"math/tex; mode=display\">\\newcommand{\\Bold}[1]{\\mathbf{#1}}y^{2} - 2</script></html>"
      ],
      "text/plain": [
       "y^2 - 2"
      ]
     },
     "execution_count": 18,
     "metadata": {},
     "output_type": "execute_result"
    }
   ],
   "source": [
    "G[-2](z = 1)"
   ]
  },
  {
   "cell_type": "code",
   "execution_count": 19,
   "metadata": {},
   "outputs": [
    {
     "data": {
      "text/html": [
       "<html><script type=\"math/tex; mode=display\">\\newcommand{\\Bold}[1]{\\mathbf{#1}}y^{2} - 2</script></html>"
      ],
      "text/plain": [
       "y^2 - 2"
      ]
     },
     "execution_count": 19,
     "metadata": {},
     "output_type": "execute_result"
    }
   ],
   "source": [
    "G[-2](z = -1)"
   ]
  },
  {
   "cell_type": "markdown",
   "metadata": {},
   "source": [
    "Le système n'a donc pas de solutions rationnelles. On s'intéresse donc aux solutions dans $\\mathbb{C}^3$."
   ]
  },
  {
   "cell_type": "code",
   "execution_count": 20,
   "metadata": {},
   "outputs": [
    {
     "data": {
      "text/html": [
       "<html><script type=\"math/tex; mode=display\">\\newcommand{\\Bold}[1]{\\mathbf{#1}}x - 1</script></html>"
      ],
      "text/plain": [
       "x - 1"
      ]
     },
     "execution_count": 20,
     "metadata": {},
     "output_type": "execute_result"
    }
   ],
   "source": [
    "G[0](z = 1, y = sqrt(2))"
   ]
  },
  {
   "cell_type": "code",
   "execution_count": 21,
   "metadata": {},
   "outputs": [
    {
     "data": {
      "text/html": [
       "<html><script type=\"math/tex; mode=display\">\\newcommand{\\Bold}[1]{\\mathbf{#1}}x - 1</script></html>"
      ],
      "text/plain": [
       "x - 1"
      ]
     },
     "execution_count": 21,
     "metadata": {},
     "output_type": "execute_result"
    }
   ],
   "source": [
    "G[0](z = 1, y = -sqrt(2))"
   ]
  },
  {
   "cell_type": "code",
   "execution_count": 22,
   "metadata": {},
   "outputs": [
    {
     "data": {
      "text/html": [
       "<html><script type=\"math/tex; mode=display\">\\newcommand{\\Bold}[1]{\\mathbf{#1}}x + 1</script></html>"
      ],
      "text/plain": [
       "x + 1"
      ]
     },
     "execution_count": 22,
     "metadata": {},
     "output_type": "execute_result"
    }
   ],
   "source": [
    "G[0](z = -1, y = sqrt(2))"
   ]
  },
  {
   "cell_type": "code",
   "execution_count": 23,
   "metadata": {},
   "outputs": [
    {
     "data": {
      "text/html": [
       "<html><script type=\"math/tex; mode=display\">\\newcommand{\\Bold}[1]{\\mathbf{#1}}x + 1</script></html>"
      ],
      "text/plain": [
       "x + 1"
      ]
     },
     "execution_count": 23,
     "metadata": {},
     "output_type": "execute_result"
    }
   ],
   "source": [
    "G[0](z = -1, y = -sqrt(2))"
   ]
  },
  {
   "cell_type": "code",
   "execution_count": 24,
   "metadata": {},
   "outputs": [
    {
     "data": {
      "text/html": [
       "<html><script type=\"math/tex; mode=display\">\\newcommand{\\Bold}[1]{\\mathbf{#1}}y^{2} - \\frac{3}{2}</script></html>"
      ],
      "text/plain": [
       "y^2 - 3/2"
      ]
     },
     "execution_count": 24,
     "metadata": {},
     "output_type": "execute_result"
    }
   ],
   "source": [
    "G[-2](z = 1/sqrt(2))"
   ]
  },
  {
   "cell_type": "code",
   "execution_count": 25,
   "metadata": {},
   "outputs": [
    {
     "data": {
      "text/html": [
       "<html><script type=\"math/tex; mode=display\">\\newcommand{\\Bold}[1]{\\mathbf{#1}}x - \\sqrt{2}</script></html>"
      ],
      "text/plain": [
       "x - sqrt(2)"
      ]
     },
     "execution_count": 25,
     "metadata": {},
     "output_type": "execute_result"
    }
   ],
   "source": [
    "G[0](z = 1/sqrt(2), y = sqrt(3/2))"
   ]
  },
  {
   "cell_type": "code",
   "execution_count": 26,
   "metadata": {},
   "outputs": [
    {
     "data": {
      "text/html": [
       "<html><script type=\"math/tex; mode=display\">\\newcommand{\\Bold}[1]{\\mathbf{#1}}x - \\sqrt{2}</script></html>"
      ],
      "text/plain": [
       "x - sqrt(2)"
      ]
     },
     "execution_count": 26,
     "metadata": {},
     "output_type": "execute_result"
    }
   ],
   "source": [
    "G[0](z = 1/sqrt(2), y = -sqrt(3/2))"
   ]
  },
  {
   "cell_type": "code",
   "execution_count": 27,
   "metadata": {},
   "outputs": [
    {
     "data": {
      "text/html": [
       "<html><script type=\"math/tex; mode=display\">\\newcommand{\\Bold}[1]{\\mathbf{#1}}y^{2} - \\frac{3}{2}</script></html>"
      ],
      "text/plain": [
       "y^2 - 3/2"
      ]
     },
     "execution_count": 27,
     "metadata": {},
     "output_type": "execute_result"
    }
   ],
   "source": [
    "G[-2](z = -1/sqrt(2))"
   ]
  },
  {
   "cell_type": "code",
   "execution_count": 28,
   "metadata": {},
   "outputs": [
    {
     "data": {
      "text/html": [
       "<html><script type=\"math/tex; mode=display\">\\newcommand{\\Bold}[1]{\\mathbf{#1}}x + \\sqrt{2}</script></html>"
      ],
      "text/plain": [
       "x + sqrt(2)"
      ]
     },
     "execution_count": 28,
     "metadata": {},
     "output_type": "execute_result"
    }
   ],
   "source": [
    "G[0](z = -1/sqrt(2), y = sqrt(3/2))"
   ]
  },
  {
   "cell_type": "code",
   "execution_count": 29,
   "metadata": {},
   "outputs": [
    {
     "data": {
      "text/html": [
       "<html><script type=\"math/tex; mode=display\">\\newcommand{\\Bold}[1]{\\mathbf{#1}}x + \\sqrt{2}</script></html>"
      ],
      "text/plain": [
       "x + sqrt(2)"
      ]
     },
     "execution_count": 29,
     "metadata": {},
     "output_type": "execute_result"
    }
   ],
   "source": [
    "G[0](z = -1/sqrt(2), y = -sqrt(3/2))"
   ]
  },
  {
   "cell_type": "markdown",
   "metadata": {},
   "source": [
    "Les solutions  $(x,y,z)$ dans $\\mathbb{C}^3$ sont alors $(1,\\sqrt{2},1), (1,-\\sqrt{2},1),(-1,\\sqrt{2},-1)$, $(-1,-\\sqrt{2},-1), (\\sqrt{2},\\sqrt{2/3},1/\\sqrt{2}), (-\\sqrt{2},-\\sqrt{2/3},-1/\\sqrt{2}), (\\sqrt{2},-\\sqrt{2/3},1/\\sqrt{2}), (-\\sqrt{2},\\sqrt{2/3},-1/\\sqrt{2}).$\n",
    " "
   ]
  },
  {
   "cell_type": "markdown",
   "metadata": {},
   "source": [
    "On peut vérifier les solutions :"
   ]
  },
  {
   "cell_type": "code",
   "execution_count": 50,
   "metadata": {},
   "outputs": [
    {
     "data": {
      "text/html": [
       "<html><script type=\"math/tex; mode=display\">\\newcommand{\\Bold}[1]{\\mathbf{#1}}\\left[\\verb|{y:|\\phantom{\\verb!x!}\\verb|-1.41421356237310,|\\phantom{\\verb!x!}\\verb|z:|\\phantom{\\verb!x!}\\verb|-1.00000000000000,|\\phantom{\\verb!x!}\\verb|x:|\\phantom{\\verb!x!}\\verb|-1.00000000000000}|, \\verb|{y:|\\phantom{\\verb!x!}\\verb|1.41421356237310,|\\phantom{\\verb!x!}\\verb|z:|\\phantom{\\verb!x!}\\verb|-1.00000000000000,|\\phantom{\\verb!x!}\\verb|x:|\\phantom{\\verb!x!}\\verb|-1.00000000000000}|, \\verb|{y:|\\phantom{\\verb!x!}\\verb|-1.22474487139159,|\\phantom{\\verb!x!}\\verb|z:|\\phantom{\\verb!x!}\\verb|-0.707106781186548,|\\phantom{\\verb!x!}\\verb|x:|\\phantom{\\verb!x!}\\verb|-1.41421356237310}|, \\verb|{y:|\\phantom{\\verb!x!}\\verb|1.22474487139159,|\\phantom{\\verb!x!}\\verb|z:|\\phantom{\\verb!x!}\\verb|-0.707106781186548,|\\phantom{\\verb!x!}\\verb|x:|\\phantom{\\verb!x!}\\verb|-1.41421356237310}|, \\verb|{y:|\\phantom{\\verb!x!}\\verb|-1.22474487139159,|\\phantom{\\verb!x!}\\verb|z:|\\phantom{\\verb!x!}\\verb|0.707106781186548,|\\phantom{\\verb!x!}\\verb|x:|\\phantom{\\verb!x!}\\verb|1.41421356237310}|, \\verb|{y:|\\phantom{\\verb!x!}\\verb|1.22474487139159,|\\phantom{\\verb!x!}\\verb|z:|\\phantom{\\verb!x!}\\verb|0.707106781186548,|\\phantom{\\verb!x!}\\verb|x:|\\phantom{\\verb!x!}\\verb|1.41421356237310}|, \\verb|{y:|\\phantom{\\verb!x!}\\verb|-1.41421356237310,|\\phantom{\\verb!x!}\\verb|z:|\\phantom{\\verb!x!}\\verb|1.00000000000000,|\\phantom{\\verb!x!}\\verb|x:|\\phantom{\\verb!x!}\\verb|1.00000000000000}|, \\verb|{y:|\\phantom{\\verb!x!}\\verb|1.41421356237310,|\\phantom{\\verb!x!}\\verb|z:|\\phantom{\\verb!x!}\\verb|1.00000000000000,|\\phantom{\\verb!x!}\\verb|x:|\\phantom{\\verb!x!}\\verb|1.00000000000000}|\\right]</script></html>"
      ],
      "text/plain": [
       "[{y: -1.41421356237310, z: -1.00000000000000, x: -1.00000000000000},\n",
       " {y: 1.41421356237310, z: -1.00000000000000, x: -1.00000000000000},\n",
       " {y: -1.22474487139159, z: -0.707106781186548, x: -1.41421356237310},\n",
       " {y: 1.22474487139159, z: -0.707106781186548, x: -1.41421356237310},\n",
       " {y: -1.22474487139159, z: 0.707106781186548, x: 1.41421356237310},\n",
       " {y: 1.22474487139159, z: 0.707106781186548, x: 1.41421356237310},\n",
       " {y: -1.41421356237310, z: 1.00000000000000, x: 1.00000000000000},\n",
       " {y: 1.41421356237310, z: 1.00000000000000, x: 1.00000000000000}]"
      ]
     },
     "execution_count": 50,
     "metadata": {},
     "output_type": "execute_result"
    }
   ],
   "source": [
    "I.variety(CC)"
   ]
  },
  {
   "cell_type": "markdown",
   "metadata": {},
   "source": [
    "### Exercice 11.4\n",
    "\n",
    "Utiliser le théorème d'élimination pour résoudre le système suivant\n",
    "dans $\\mathbb{R}^3$ puis dans $\\mathbb{C}^3$ :\n",
    "\n",
    "$$\\begin{cases}x^2+2y^2-y-2z & =0\\\\x^2-8y^2+10z-1 & =0\\\\ x^2-7xy & =0.\n",
    "  \\end{cases}$$"
   ]
  },
  {
   "cell_type": "code",
   "execution_count": 30,
   "metadata": {},
   "outputs": [],
   "source": [
    "A.<x,y,z> = PolynomialRing(QQ, order = 'lex')"
   ]
  },
  {
   "cell_type": "code",
   "execution_count": 31,
   "metadata": {},
   "outputs": [],
   "source": [
    "I = A.ideal(x^2 + 2*y^2 - y - 2*z, x^2 - 8*y^2 + 10*z - 1, x^2 - 7*x*y)"
   ]
  },
  {
   "cell_type": "code",
   "execution_count": 32,
   "metadata": {},
   "outputs": [],
   "source": [
    "G = I.groebner_basis()"
   ]
  },
  {
   "cell_type": "code",
   "execution_count": 33,
   "metadata": {},
   "outputs": [
    {
     "data": {
      "text/html": [
       "<html><script type=\"math/tex; mode=display\">\\newcommand{\\Bold}[1]{\\mathbf{#1}}\\left[x + \\frac{50993212928}{123645299} z^{3} - \\frac{2172325755884}{865517093} z^{2} + \\frac{451379245320}{865517093} z - \\frac{22958109681}{865517093}, y + \\frac{5007254400}{123645299} z^{3} - \\frac{30579292285}{123645299} z^{2} + \\frac{13816426921}{247290598} z - \\frac{370913089}{123645299}, z^{4} - \\frac{1081379}{175232} z^{3} + \\frac{156313}{87616} z^{2} - \\frac{120681}{700928} z + \\frac{15}{2738}\\right]</script></html>"
      ],
      "text/plain": [
       "[x + 50993212928/123645299*z^3 - 2172325755884/865517093*z^2 + 451379245320/865517093*z - 22958109681/865517093, y + 5007254400/123645299*z^3 - 30579292285/123645299*z^2 + 13816426921/247290598*z - 370913089/123645299, z^4 - 1081379/175232*z^3 + 156313/87616*z^2 - 120681/700928*z + 15/2738]"
      ]
     },
     "execution_count": 33,
     "metadata": {},
     "output_type": "execute_result"
    }
   ],
   "source": [
    "G"
   ]
  },
  {
   "cell_type": "markdown",
   "metadata": {},
   "source": [
    "La base de Gröbner obtenue n'est pas *très belle*. On re-essaie avec un ordre différent, par exemple en prenant l'ordre léxicographique avec $z > x > z$."
   ]
  },
  {
   "cell_type": "code",
   "execution_count": 36,
   "metadata": {},
   "outputs": [
    {
     "data": {
      "text/html": [
       "<html><script type=\"math/tex; mode=display\">\\newcommand{\\Bold}[1]{\\mathbf{#1}}\\left[z - 2 y + \\frac{5}{2} x^{2} - \\frac{1}{2}, y^{2} - \\frac{5}{2} y + 3 x^{2} - \\frac{1}{2}, y x - \\frac{1}{7} x^{2}, x^{3} - \\frac{35}{296} x^{2} - \\frac{49}{296} x\\right]</script></html>"
      ],
      "text/plain": [
       "[z - 2*y + 5/2*x^2 - 1/2, y^2 - 5/2*y + 3*x^2 - 1/2, y*x - 1/7*x^2, x^3 - 35/296*x^2 - 49/296*x]"
      ]
     },
     "execution_count": 36,
     "metadata": {},
     "output_type": "execute_result"
    }
   ],
   "source": [
    "J = I.change_ring(A.change_ring(names = 'z,y,x'))\n",
    "G = J.groebner_basis()\n",
    "G"
   ]
  },
  {
   "cell_type": "code",
   "execution_count": 37,
   "metadata": {},
   "outputs": [
    {
     "data": {
      "text/html": [
       "<html><script type=\"math/tex; mode=display\">\\newcommand{\\Bold}[1]{\\mathbf{#1}}\\left(\\frac{1}{296}\\right) \\cdot x \\cdot (296 x^{2} - 35 x - 49)</script></html>"
      ],
      "text/plain": [
       "(1/296) * x * (296*x^2 - 35*x - 49)"
      ]
     },
     "execution_count": 37,
     "metadata": {},
     "output_type": "execute_result"
    }
   ],
   "source": [
    "G[-1].factor()"
   ]
  },
  {
   "cell_type": "code",
   "execution_count": 38,
   "metadata": {},
   "outputs": [],
   "source": [
    "F = G[-1].univariate_polynomial()"
   ]
  },
  {
   "cell_type": "code",
   "execution_count": 42,
   "metadata": {},
   "outputs": [
    {
     "data": {
      "text/html": [
       "<html><script type=\"math/tex; mode=display\">\\newcommand{\\Bold}[1]{\\mathbf{#1}}\\left[\\left(-\\frac{7}{592} \\, \\sqrt{1209} + \\frac{35}{592}, 1\\right), \\left(\\frac{7}{592} \\, \\sqrt{1209} + \\frac{35}{592}, 1\\right), \\left(0, 1\\right)\\right]</script></html>"
      ],
      "text/plain": [
       "[(-7/592*sqrt(1209) + 35/592, 1), (7/592*sqrt(1209) + 35/592, 1), (0, 1)]"
      ]
     },
     "execution_count": 42,
     "metadata": {},
     "output_type": "execute_result"
    }
   ],
   "source": [
    "F.roots(SR)"
   ]
  },
  {
   "cell_type": "code",
   "execution_count": 43,
   "metadata": {},
   "outputs": [
    {
     "data": {
      "text/html": [
       "<html><script type=\"math/tex; mode=display\">\\newcommand{\\Bold}[1]{\\mathbf{#1}}\\left[\\left(-0.352018143766878, 1\\right), \\left(0.000000000000000, 1\\right), \\left(0.470261387010122, 1\\right)\\right]</script></html>"
      ],
      "text/plain": [
       "[(-0.352018143766878, 1), (0.000000000000000, 1), (0.470261387010122, 1)]"
      ]
     },
     "execution_count": 43,
     "metadata": {},
     "output_type": "execute_result"
    }
   ],
   "source": [
    "F.roots(CC)"
   ]
  },
  {
   "cell_type": "code",
   "execution_count": null,
   "metadata": {},
   "outputs": [],
   "source": []
  }
 ],
 "metadata": {
  "kernelspec": {
   "display_name": "SageMath 8.1",
   "language": "",
   "name": "sagemath"
  },
  "language_info": {
   "codemirror_mode": {
    "name": "ipython",
    "version": 2
   },
   "file_extension": ".py",
   "mimetype": "text/x-python",
   "name": "python",
   "nbconvert_exporter": "python",
   "pygments_lexer": "ipython2",
   "version": "2.7.15rc1"
  }
 },
 "nbformat": 4,
 "nbformat_minor": 2
}
