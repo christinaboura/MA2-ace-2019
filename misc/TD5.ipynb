{
 "cells": [
  {
   "cell_type": "markdown",
   "metadata": {},
   "source": [
    "### Exercice 8.5\n",
    "\n",
    "Soit $k[x_1, \\ldots, x_n]$ muni d'un ordre monomial $<$ tel que\n",
    "  $x_1 > \\ldots > x_n$.  Soient $\\ell_1, \\ldots, \\ell_m \\in k[x_1, \\ldots, x_n]$\n",
    "  des polynômes de degré $1$.  Montrer que la base de Gröbner réduite\n",
    "  de $I = \\langle \\ell_1, \\ldots, \\ell_m \\rangle$ ne contient que des\n",
    "  polynômes de degré $1$.  (On pourra considérer la réduction du système\n",
    "  d'équations linéaires défini par les $\\ell_1, \\ldots, \\ell_m$ et utiliser\n",
    "  l'unicité de la base de Gröbner réduite.)  Montrer que l'énoncé n'est plus\n",
    "  vrai avec des polynômes de degré $2$."
   ]
  },
  {
   "cell_type": "markdown",
   "metadata": {},
   "source": [
    "Correction."
   ]
  },
  {
   "cell_type": "markdown",
   "metadata": {},
   "source": [
    "Soient $\\ell_1, \\ldots, \\ell_m \\in k[x_1, \\ldots, x_n]$\n",
    "  des polynômes de degré $1$. On peut écrire \n",
    "  \n",
    "  \\begin{eqnarray*}\n",
    "  \\ell_1 &=& a_{11}x_1 + \\dots + a_{1n}x_n + c_1 \\\\\n",
    "  \\vdots && \\vdots \\\\\n",
    "  \\ell_m &=& a_{m 1}x_1 + \\dots + a_{mn}x_n + c_m \\\\\n",
    "  \\end{eqnarray*}\n",
    "  \n",
    "  En effectuant un pivot de Gauss, on peut trouver des polynômes de degré $1$, $\\ell^{'}_1, \\ldots, \\ell^{'}_m$ tels que si $\\ell^{'}_i \\neq 0$ et $\\ell^{'}_j \\neq 0$ et $i<j$, alors LT($\\ell^{'}_i$) $>$\n",
    "  LT($\\ell^{'}_j$), et $\\langle \\ell_1, \\ldots, \\ell_m \\rangle = \\langle \\ell^{'}_1, \\ldots, \\ell_m^{'} \\rangle$. On peut aussi supposer que si LT($\\ell^{'}_i$) = $x_h$, alors $x_h$ n'est un monôme dans aucun des autres $\\ell^{'}_j$.\n",
    "  \n",
    "  Ceci vient de la réduction de la matrice \n",
    "  \n",
    "  $$\\begin{pmatrix}\n",
    "  a_{11} & \\dots & a_{1n} & c_1 \\\\\n",
    "  \\vdots & \\dots & \\dots & \\vdots \\\\\n",
    "  a_{m1} & \\dots & a_{mn} & c_m \\\\\n",
    "  \\end{pmatrix}$$\n",
    "  à une matrice échelonnée réduite\n",
    "  \n",
    "  $$\\begin{pmatrix}\n",
    "  0 & \\dots & 0 & 1 & \\dots & 0 & \\dots 0 \\\\\n",
    "    &       &   &   &       & 1 & \\dots 0 \\\\\n",
    "    & & & & & & 1 \\\\\n",
    "  \\vdots & \\dots & \\dots & \\vdots & \\dots& \\dots &\\dots  \\\\\n",
    "   0 & \\dots & 0 & 0 \\dots& \\dots &\\dots & \\dots\\\\\n",
    "  \\end{pmatrix}.$$\n",
    "  \n",
    "  Soit $p$ le plus grand entier tel que $\\ell^{'}_p \\neq 0$. Alors $(\\ell^{'}_1, \\dots, \\ell^{'}_p)$ est la base de Gröbner réduite de l'idéal. Par ce qui précède, si c'est une base de Gröbner, alors elle est réduite. Il suffit donc de montrer que c'est une base de Gröbner.  On va utiliser le critère de Buchberger. Pour cela on va calculer le polynôme $S(\\ell^{'}_i, \\ell^{'}_j)$ pour $1 \\leq i,j \\leq p$. On a que $\\ell^{'}_i = x_{s} + C$, $\\ell^{'}_j = x_{\\ell} + C$, avec $C$ et $D$ des polynômes linéaires qui ne font intervenir aucune variable correspondant à un $1$ de tête dans le système réduit. On calcule :\n",
    "  \n",
    "  $$ S(\\ell^{'}_i, \\ell^{'}_j) = \\frac{x_sx_{\\ell}}{x_{s}}(x_s + C) - \\frac{x_sx_{\\ell}}{x_{\\ell}}(x_{\\ell} + D) = x_{\\ell}C - x_sD.$$\n",
    "  \n",
    "  Puisque $C$ et $D$ ne contiennent aucune variable qui correspond aux termes dominants de $\\ell^{'}_1, \\dots, \\ell^{'}_p$, la division de $S(\\ell^{'}_i, \\ell^{'}_j)$ par $(\\ell^{'}_1, \\dots, \\ell^{'}_p)$ se réduit à une division par $(\\ell^{'}_i, \\ell^{'}_j)$. Il reste  de montrer que $S(\\ell^{'}_i, \\ell^{'}_j) \\equiv 0 \\mod (\\ell^{'}_i, \\ell^{'}_j)$.\n",
    "  \n",
    "  "
   ]
  },
  {
   "cell_type": "markdown",
   "metadata": {},
   "source": [
    "### Exercice 9.1\n",
    "\n",
    "Soit l'idéal $$I=\\left\\langle y^4x+3x^3-y^4-3x^2,x^2y-2x^2,2y^4x-x^3-2y^4+x^2 \\right\\rangle$$.\n",
    "\n",
    "1. Montrer que $I\\cap \\mathbb{Q}[x]=\\left\\langle x^3-x^2 \\right\\rangle$.\n",
    "2. Montrer que $I\\cap \\mathbb{Q}[y]=\\left\\langle y^5-2y^4 \\right\\rangle$."
   ]
  },
  {
   "cell_type": "markdown",
   "metadata": {},
   "source": [
    "*Corrigé*. Soit $G$ une base de Gröbner pour $I$ pour l'ordre léxicographique avec $x_1> \\dots > x_n$. Par le théorème de l'élimination on sait que $G_{\\ell} = G \\cap k[x_{\\ell+1}, \\dots, x_n]$ est une base de Gröbner pour l'idéal de l'élimination $I_{\\ell} = I \\cap k[x_{\\ell+1}, \\dots, x_n]$."
   ]
  },
  {
   "cell_type": "code",
   "execution_count": 1,
   "metadata": {},
   "outputs": [
    {
     "data": {
      "text/plain": [
       "[x^2 - 1/16*y^4, x*y^4 - y^4, y^5 - 2*y^4]"
      ]
     },
     "execution_count": 1,
     "metadata": {},
     "output_type": "execute_result"
    }
   ],
   "source": [
    "A.<x,y> = PolynomialRing(QQ, order = 'lex')\n",
    "I = A.ideal(y^4*x + 3*x^3 - y^4 - 3*x^2, x^2*y - 2*x^2, 2*y^4*x - x^3 - 2*y^4 + x^2)\n",
    "G = I.groebner_basis()\n",
    "G"
   ]
  },
  {
   "cell_type": "code",
   "execution_count": 2,
   "metadata": {},
   "outputs": [
    {
     "data": {
      "text/plain": [
       "y^5 - 2*y^4"
      ]
     },
     "execution_count": 2,
     "metadata": {},
     "output_type": "execute_result"
    }
   ],
   "source": [
    "G[-1]"
   ]
  },
  {
   "cell_type": "markdown",
   "metadata": {},
   "source": [
    "$G\\cap \\mathbb{Q}[y]=\\langle y^5 - 2y^4 \\rangle$ est une base de Gröbner pour $I \\cap \\mathbb{Q}[y]$."
   ]
  },
  {
   "cell_type": "code",
   "execution_count": 3,
   "metadata": {},
   "outputs": [
    {
     "data": {
      "text/plain": [
       "[y^4 - 16*x^2, y*x^2 - 2*x^2, x^3 - x^2]"
      ]
     },
     "execution_count": 3,
     "metadata": {},
     "output_type": "execute_result"
    }
   ],
   "source": [
    "J = I.change_ring(A.change_ring(names = 'y,x'))\n",
    "G = J.groebner_basis()\n",
    "G"
   ]
  },
  {
   "cell_type": "code",
   "execution_count": 4,
   "metadata": {},
   "outputs": [
    {
     "data": {
      "text/plain": [
       "x^3 - x^2"
      ]
     },
     "execution_count": 4,
     "metadata": {},
     "output_type": "execute_result"
    }
   ],
   "source": [
    "G[-1]"
   ]
  },
  {
   "cell_type": "markdown",
   "metadata": {},
   "source": [
    "$G\\cap \\mathbb{Q}[x]=\\langle x^3 - x^2 \\rangle$ est une base de Gröbner pour $I \\cap \\mathbb{Q}[x]$."
   ]
  },
  {
   "cell_type": "markdown",
   "metadata": {},
   "source": [
    "On peut faire la même chose directement en *Sage*."
   ]
  },
  {
   "cell_type": "code",
   "execution_count": 5,
   "metadata": {},
   "outputs": [
    {
     "data": {
      "text/plain": [
       "Ideal (y^5 - 2*y^4) of Multivariate Polynomial Ring in x, y over Rational Field"
      ]
     },
     "execution_count": 5,
     "metadata": {},
     "output_type": "execute_result"
    }
   ],
   "source": [
    "I.elimination_ideal(x)"
   ]
  },
  {
   "cell_type": "code",
   "execution_count": 6,
   "metadata": {},
   "outputs": [
    {
     "data": {
      "text/plain": [
       "Ideal (x^3 - x^2) of Multivariate Polynomial Ring in x, y over Rational Field"
      ]
     },
     "execution_count": 6,
     "metadata": {},
     "output_type": "execute_result"
    }
   ],
   "source": [
    "I.elimination_ideal(y)"
   ]
  },
  {
   "cell_type": "markdown",
   "metadata": {},
   "source": [
    "### Exercice 9.2\n",
    "\n",
    "1. Calculer une base de Gröbner réduite de l’idéal engendré par $(x + y- z; x^2- 2t^2; y^2 -5t^2)$ pour l’ordre lexicographique induit par $x > y > z > t$.\n",
    "2. En déduire que $\\sqrt{2}+\\sqrt{5}$ est un nombre algébrique sur le corps des rationnels $\\mathbb{Q}$, en exhibant un  polynôme à une variable à coefficients rationnels dont il est racine.\n",
    "3. Quel est le résultant de $(y - z)^2 - 2$ et $y^2 - 5$ par rapport à $y$ ?\n",
    "4. En déduire que $\\mathbb{Q}(\\sqrt{2},\\sqrt{5})=\\mathbb{Q}(\\sqrt{2}+\\sqrt{5})$. Exprimer $\\sqrt{2}$ et $\\sqrt{5}$ en fonction de $\\sqrt{2}+ \\sqrt{5}$."
   ]
  },
  {
   "cell_type": "code",
   "execution_count": 7,
   "metadata": {},
   "outputs": [
    {
     "data": {
      "text/plain": [
       "[x + y - z, y^2 - 5*t^2, y*z - 1/2*z^2 - 3/2*t^2, y*t^2 + 1/6*z^3 - 17/6*z*t^2, z^4 - 14*z^2*t^2 + 9*t^4]"
      ]
     },
     "execution_count": 7,
     "metadata": {},
     "output_type": "execute_result"
    }
   ],
   "source": [
    "A.<x,y,z,t> = PolynomialRing(QQ, order = 'lex')\n",
    "I = A.ideal(x + y - z, x^2 - 2*t^2, y^2 - 5*t^2)\n",
    "G = I.groebner_basis()\n",
    "G"
   ]
  },
  {
   "cell_type": "markdown",
   "metadata": {},
   "source": [
    "En réalité seul le cas $t = 1$ nous intéresse. Recommençons."
   ]
  },
  {
   "cell_type": "code",
   "execution_count": 8,
   "metadata": {},
   "outputs": [
    {
     "data": {
      "text/plain": [
       "[x - 1/6*z^3 + 11/6*z, y + 1/6*z^3 - 17/6*z, z^4 - 14*z^2 + 9]"
      ]
     },
     "execution_count": 8,
     "metadata": {},
     "output_type": "execute_result"
    }
   ],
   "source": [
    "A.<x,y,z> = PolynomialRing(QQ, order = 'lex')\n",
    "I = A.ideal(x + y - z, x^2 - 2, y^2 - 5)\n",
    "G = I.groebner_basis()\n",
    "G"
   ]
  },
  {
   "cell_type": "markdown",
   "metadata": {},
   "source": [
    "On voit que $\\sqrt{2}$ est une racine de $x^2- 2 = 0$ et que $\\sqrt{5}$ est une racine de $y^2- 5 = 0$. On a que $z = x + y$ donc $\\sqrt{2} + \\sqrt{5}$ est racine de $z^4 - 14z^2 + 9 = 0$."
   ]
  },
  {
   "cell_type": "markdown",
   "metadata": {},
   "source": [
    "Le résultant nous donne le même résultat."
   ]
  },
  {
   "cell_type": "code",
   "execution_count": 9,
   "metadata": {},
   "outputs": [
    {
     "data": {
      "text/plain": [
       "z^4 - 14*z^2 + 9"
      ]
     },
     "execution_count": 9,
     "metadata": {},
     "output_type": "execute_result"
    }
   ],
   "source": [
    "f = (y - z)^2 - 2\n",
    "g = y^2 - 5\n",
    "f.resultant(g, y)"
   ]
  },
  {
   "cell_type": "markdown",
   "metadata": {},
   "source": [
    "Pour exprimer $x = \\pm \\sqrt{2}$ et $y = \\pm \\sqrt{5}$ en fonction de $z$, il suffit de regarder les autres polynômes de la base de Gröbner."
   ]
  },
  {
   "cell_type": "code",
   "execution_count": 10,
   "metadata": {},
   "outputs": [
    {
     "data": {
      "text/plain": [
       "x - 1/6*z^3 + 11/6*z"
      ]
     },
     "execution_count": 10,
     "metadata": {},
     "output_type": "execute_result"
    }
   ],
   "source": [
    "f = G[0]\n",
    "f"
   ]
  },
  {
   "cell_type": "markdown",
   "metadata": {},
   "source": [
    "On voit donc que $x = \\frac{1}{6}(z^3 - 11z)$. De la même façon :"
   ]
  },
  {
   "cell_type": "code",
   "execution_count": 11,
   "metadata": {},
   "outputs": [
    {
     "data": {
      "text/plain": [
       "y + 1/6*z^3 - 17/6*z"
      ]
     },
     "execution_count": 11,
     "metadata": {},
     "output_type": "execute_result"
    }
   ],
   "source": [
    "f = G[1]\n",
    "f"
   ]
  },
  {
   "cell_type": "markdown",
   "metadata": {},
   "source": [
    "On a donc que $y = \\frac{1}{6}(-z^3 + 17z)$."
   ]
  },
  {
   "cell_type": "markdown",
   "metadata": {},
   "source": [
    "Ceci suffit pour montrer que $\\mathbb{Q}(\\sqrt{2},\\sqrt{5}) \\subseteq \\mathbb{Q}(\\sqrt{2}+\\sqrt{5})$ et que donc $\\mathbb{Q}(\\sqrt{2},\\sqrt{5}) = \\mathbb{Q}(\\sqrt{2}+\\sqrt{5})$."
   ]
  },
  {
   "cell_type": "markdown",
   "metadata": {},
   "source": [
    "### Exercice 9.6\n",
    "\n",
    "Donner l’aire d’un triangle en fonction des longueurs $a$, $b$, $c$ de ses trois côtés."
   ]
  },
  {
   "cell_type": "markdown",
   "metadata": {},
   "source": [
    "<img src=\"triangle.png\" width=\"400\">"
   ]
  },
  {
   "cell_type": "code",
   "execution_count": 13,
   "metadata": {},
   "outputs": [
    {
     "data": {
      "text/plain": [
       "[h^2 + t^2 - a^2, h*D + 1/4*t*a^2 - 1/4*t*c^2 - 3/8*a^2*b + 1/8*b^3 - 1/8*b*c^2, h*a^2 - h*c^2 - 4*t*D + 2*D*b, h*b - 2*D, t*b - 1/2*a^2 - 1/2*b^2 + 1/2*c^2, D^2 + 1/16*a^4 - 1/8*a^2*b^2 - 1/8*a^2*c^2 + 1/16*b^4 - 1/8*b^2*c^2 + 1/16*c^4]"
      ]
     },
     "execution_count": 13,
     "metadata": {},
     "output_type": "execute_result"
    }
   ],
   "source": [
    "A.<h,t,D,a,b,c> = PolynomialRing(QQ, order = 'lex')\n",
    "I = A.ideal(D - b*h/2, a^2 - h^2 - t^2, c^2 - h^2 - (b-t)^2)\n",
    "G = I.groebner_basis()\n",
    "G"
   ]
  },
  {
   "cell_type": "markdown",
   "metadata": {},
   "source": [
    "On voit donc que $$D^2 + \\frac{1}{16}a^4 - \\frac{1}{8}a^2b^2 - \\frac{1}{8}a^2c^2 + \\frac{1}{16}b^4 - \\frac{1}{8}b^2c^2 + \\frac{1}{16}c^4 = 0$$"
   ]
  },
  {
   "cell_type": "markdown",
   "metadata": {},
   "source": [
    "C'est plus lisible si on factorise."
   ]
  },
  {
   "cell_type": "code",
   "execution_count": 14,
   "metadata": {},
   "outputs": [
    {
     "data": {
      "text/plain": [
       "(1/16) * (-a + b - c) * (-a + b + c) * (a + b - c) * (a + b + c)"
      ]
     },
     "execution_count": 14,
     "metadata": {},
     "output_type": "execute_result"
    }
   ],
   "source": [
    "f = G[-1]\n",
    "(f-D^2).factor()"
   ]
  },
  {
   "cell_type": "markdown",
   "metadata": {},
   "source": [
    "### Exercice 10.2\n",
    "\n",
    "En utilisant Sage, donner les solutions des systèmes d'équations suivants :\n",
    "  \n",
    "\n",
    "  1. $$\\left\\{\\begin{array}{cc} x^2+y^2=25,\\cr x^2-9=y.\\cr\\end{array}\\right.$$\n",
    "  1. $$\\left\\{\\begin{array}{cc}x^2+y^2=1,\\cr z=x-y,\\cr z^2=x+y.\\cr\\end{array}\\right.$$"
   ]
  },
  {
   "cell_type": "markdown",
   "metadata": {},
   "source": [
    "*Correction.* 1."
   ]
  },
  {
   "cell_type": "code",
   "execution_count": 15,
   "metadata": {},
   "outputs": [
    {
     "data": {
      "text/plain": [
       "[x^2 - y - 9, y^2 + y - 16]"
      ]
     },
     "execution_count": 15,
     "metadata": {},
     "output_type": "execute_result"
    }
   ],
   "source": [
    "A.<x,y> = PolynomialRing(QQ, order = 'lex')\n",
    "I = A.ideal(x^2 + y^2 - 25, x^2 - y - 9)\n",
    "G = I.groebner_basis()\n",
    "G"
   ]
  },
  {
   "cell_type": "code",
   "execution_count": 16,
   "metadata": {},
   "outputs": [
    {
     "data": {
      "text/plain": [
       "[(-4.53112887414927, 1), (3.53112887414928, 1)]"
      ]
     },
     "execution_count": 16,
     "metadata": {},
     "output_type": "execute_result"
    }
   ],
   "source": [
    "H = G[-1].univariate_polynomial()\n",
    "H.roots(RR)"
   ]
  },
  {
   "cell_type": "markdown",
   "metadata": {},
   "source": [
    "On va remplacer ces valeurs dans la première équation."
   ]
  },
  {
   "cell_type": "code",
   "execution_count": 17,
   "metadata": {},
   "outputs": [
    {
     "name": "stdout",
     "output_type": "stream",
     "text": [
      "-4.53112887414927 [-2.11397046475364, 2.11397046475364]\n",
      "3.53112887414928 [-3.53993345617531, 3.53993345617531]\n"
     ]
    }
   ],
   "source": [
    "for r in H.roots(RR, multiplicities = false) :\n",
    "    F = G[0](y = r).univariate_polynomial()\n",
    "    print r, F.roots(RR, multiplicities = false)"
   ]
  },
  {
   "cell_type": "markdown",
   "metadata": {},
   "source": [
    "On voit donc que le système a 4 solutions réelles. On peut les visualiser."
   ]
  },
  {
   "cell_type": "code",
   "execution_count": 18,
   "metadata": {},
   "outputs": [
    {
     "data": {
      "image/png": "[encoded data removed]",
      "text/plain": [
       "Graphics object consisting of 2 graphics primitives"
      ]
     },
     "execution_count": 18,
     "metadata": {},
     "output_type": "execute_result"
    }
   ],
   "source": [
    "implicit_plot(I.gens()[0], (x, -10, 10), (y, -10, 10), color = 'red') + implicit_plot(I.gens()[1], (x, -10, 10), (y, -10, 10))"
   ]
  },
  {
   "cell_type": "markdown",
   "metadata": {},
   "source": [
    "On peut autrement demander directement à *Sage* de calculer la variété."
   ]
  },
  {
   "cell_type": "code",
   "execution_count": 19,
   "metadata": {},
   "outputs": [
    {
     "data": {
      "text/plain": [
       "[]"
      ]
     },
     "execution_count": 19,
     "metadata": {},
     "output_type": "execute_result"
    }
   ],
   "source": [
    "V = I.variety()\n",
    "V"
   ]
  },
  {
   "cell_type": "code",
   "execution_count": 20,
   "metadata": {},
   "outputs": [
    {
     "data": {
      "text/plain": [
       "[{y: -4.53112887414927, x: -2.11397046475364},\n",
       " {y: -4.53112887414927, x: 2.11397046475364},\n",
       " {y: 3.53112887414928, x: -3.53993345617531},\n",
       " {y: 3.53112887414928, x: 3.53993345617531}]"
      ]
     },
     "execution_count": 20,
     "metadata": {},
     "output_type": "execute_result"
    }
   ],
   "source": [
    "I.variety(RR)"
   ]
  },
  {
   "cell_type": "markdown",
   "metadata": {},
   "source": [
    "2. "
   ]
  },
  {
   "cell_type": "code",
   "execution_count": 21,
   "metadata": {},
   "outputs": [
    {
     "data": {
      "text/plain": [
       "[x - 1/2*z^2 - 1/2*z, y - 1/2*z^2 + 1/2*z, z^4 + z^2 - 2]"
      ]
     },
     "execution_count": 21,
     "metadata": {},
     "output_type": "execute_result"
    }
   ],
   "source": [
    "A.<x,y,z> = PolynomialRing(QQ, order = 'lex')\n",
    "I = A.ideal(x^2 + y^2 - 1, z - x + y, z^2 - x - y)\n",
    "G = I.groebner_basis()\n",
    "G"
   ]
  },
  {
   "cell_type": "code",
   "execution_count": 22,
   "metadata": {},
   "outputs": [
    {
     "data": {
      "text/plain": [
       "(z - 1) * (z + 1) * (z^2 + 2)"
      ]
     },
     "execution_count": 22,
     "metadata": {},
     "output_type": "execute_result"
    }
   ],
   "source": [
    "H = G[-1].univariate_polynomial()\n",
    "H.factor()"
   ]
  },
  {
   "cell_type": "code",
   "execution_count": 23,
   "metadata": {},
   "outputs": [
    {
     "data": {
      "text/plain": [
       "[(1, 1), (-1, 1)]"
      ]
     },
     "execution_count": 23,
     "metadata": {},
     "output_type": "execute_result"
    }
   ],
   "source": [
    "H.roots(QQ)"
   ]
  },
  {
   "cell_type": "code",
   "execution_count": 24,
   "metadata": {},
   "outputs": [
    {
     "data": {
      "text/plain": [
       "[(-1.00000000000000, 1),\n",
       " (1.00000000000000, 1),\n",
       " (-1.41421356237310*I, 1),\n",
       " (1.41421356237310*I, 1)]"
      ]
     },
     "execution_count": 24,
     "metadata": {},
     "output_type": "execute_result"
    }
   ],
   "source": [
    "H.roots(CC)"
   ]
  },
  {
   "cell_type": "markdown",
   "metadata": {},
   "source": [
    "On voit que le polynôme $z^4 + z^2 - 2$ a 4 solutions dans $\\mathbb{C}$ dont 2 entières. On va les remonter."
   ]
  },
  {
   "cell_type": "code",
   "execution_count": 25,
   "metadata": {},
   "outputs": [
    {
     "name": "stdout",
     "output_type": "stream",
     "text": [
      "-1.00000000000000 [0.000000000000000]\n",
      "1.00000000000000 [1.00000000000000]\n",
      "-1.41421356237310*I [-1.00000000000000 - 0.707106781186548*I]\n",
      "1.41421356237310*I [-1.00000000000000 + 0.707106781186548*I]\n"
     ]
    }
   ],
   "source": [
    "for r in H.roots(CC, multiplicities = false) :\n",
    "    F = G[0](z = r).univariate_polynomial()\n",
    "    print r, F.roots(CC, multiplicities = false)"
   ]
  },
  {
   "cell_type": "markdown",
   "metadata": {},
   "source": [
    "En regardant les deux premièrs polynômes de la base de Gröbner, on voit que $x$ et $y$ ont un rôle symétrique, donc les solutions ci-dessus pour $y$ le sont pour $x$ aussi. On voit donc qu'il y a 4 solutions."
   ]
  },
  {
   "cell_type": "markdown",
   "metadata": {},
   "source": [
    "Plus rapidement, on peut arriver à la même conclusion en faisant :"
   ]
  },
  {
   "cell_type": "code",
   "execution_count": 26,
   "metadata": {},
   "outputs": [
    {
     "data": {
      "text/plain": [
       "[{y: 1.00000000000000, z: -1.00000000000000, x: 0.000000000000000},\n",
       " {y: -1.00000000000000 + 0.707106781186548*I, z: -1.41421356237310*I, x: -1.00000000000000 - 0.707106781186548*I},\n",
       " {y: -1.00000000000000 - 0.707106781186548*I, z: 1.41421356237310*I, x: -1.00000000000000 + 0.707106781186548*I},\n",
       " {y: 0.000000000000000, z: 1.00000000000000, x: 1.00000000000000}]"
      ]
     },
     "execution_count": 26,
     "metadata": {},
     "output_type": "execute_result"
    }
   ],
   "source": [
    "V = I.variety(CC)\n",
    "V"
   ]
  },
  {
   "cell_type": "markdown",
   "metadata": {},
   "source": [
    "### Exercice 10.4\n",
    "\n",
    "On considère la surface $S$ paramétrée par\n",
    "\n",
    "$$\\left\\{\\begin{aligned}\n",
    "  x & = (2 + \\cos u) \\cos t,\\\\\n",
    "  y & = (2 + \\cos u) \\sin t,\\\\\n",
    "  z & = \\sin u\n",
    "\\end{aligned}\\right.$$\n",
    "\n",
    "et la courbe $C$ tracée sur $S$ et paramétrée par\n",
    "\n",
    "$$\\left\\{\\begin{aligned}\n",
    "x &  = (2 + \\cos 2s) \\cos 3s,\\\\\n",
    "y & = (2 + \\cos 2s) \\sin 3s,\\\\\n",
    "z & = \\sin 2s.\n",
    "\\end{aligned}\\right.$$\n",
    "\n",
    "1. Obtenir une équation implicite de $S$.\n",
    "1. Obtenir des équations implicites de $C$.\n",
    "1. Vérifier à l'aide de ces équations que $C\\subset S$."
   ]
  },
  {
   "cell_type": "markdown",
   "metadata": {},
   "source": [
    "*Correction.* L'astuce consiste à ajouter des variables represenant $sin(u),cos(u),sin(t),cos(t)$, et les relations algébriques connues entre elles."
   ]
  },
  {
   "cell_type": "code",
   "execution_count": 27,
   "metadata": {},
   "outputs": [
    {
     "data": {
      "text/plain": [
       "[cosu - 1/4*x^2 - 1/4*y^2 - 1/4*z^2 + 5/4, sinu - z, cost^2 + sint^2 - 1, cost*x + sint*y - 1/4*x^2 - 1/4*y^2 - 1/4*z^2 - 3/4, cost*y - sint*x, cost*z^2 + 3*cost + 1/4*x^3 + 1/4*x*y^2 + 1/4*x*z^2 - 13/4*x, sint*x^2 + sint*y^2 - 1/4*x^2*y - 1/4*y^3 - 1/4*y*z^2 - 3/4*y, sint*z^2 + 3*sint + 1/4*x^2*y + 1/4*y^3 + 1/4*y*z^2 - 13/4*y, x^4 + 2*x^2*y^2 + 2*x^2*z^2 - 10*x^2 + y^4 + 2*y^2*z^2 - 10*y^2 + z^4 + 6*z^2 + 9]"
      ]
     },
     "execution_count": 27,
     "metadata": {},
     "output_type": "execute_result"
    }
   ],
   "source": [
    "A.<cosu,sinu,cost,sint,x,y,z> = PolynomialRing(QQ, order = 'lex')\n",
    "S = A.ideal(x - (2 + cosu)*cost, y - (2 + cosu)*sint, z - sinu, sinu^2 + cosu^2 - 1, sint^2 + cost^2 - 1)\n",
    "GS = S.groebner_basis()\n",
    "GS"
   ]
  },
  {
   "cell_type": "code",
   "execution_count": 28,
   "metadata": {},
   "outputs": [
    {
     "data": {
      "text/plain": [
       "x^4 + 2*x^2*y^2 + 2*x^2*z^2 - 10*x^2 + y^4 + 2*y^2*z^2 - 10*y^2 + z^4 + 6*z^2 + 9"
      ]
     },
     "execution_count": 28,
     "metadata": {},
     "output_type": "execute_result"
    }
   ],
   "source": [
    "GS[-1]"
   ]
  },
  {
   "cell_type": "markdown",
   "metadata": {},
   "source": [
    "On voit que $S_4 = S\\cap\\mathbb{R}[x,y,z] = \\langle x^4 + 2x^2y^2 + 2x^2z^2 - 10x^2 + y^4 + 2y^2z^2 - 10y^2 + z^4 + 6z^2 + 9 \\rangle$ et donc $V(x^4 + 2x^2y^2 + 2x^2z^2 - 10x^2 + y^4 + 2y^2z^2 - 10y^2 + z^4 + 6z^2 + 9)$ est la variété déterminée par la paramétrisation donnée."
   ]
  },
  {
   "cell_type": "markdown",
   "metadata": {},
   "source": [
    "On peut dessiner avec la surface avec `implicit_plot3d()`, découvrant ainsi qu'il s'agit d'un tore (attention à passer dans l'anneau à 3 variables, sinon *Sage* va avoir du mal à representer une hypersurface dans un espace de dimension 7)."
   ]
  },
  {
   "cell_type": "code",
   "execution_count": 29,
   "metadata": {},
   "outputs": [
    {
     "data": {
      "image/png": "[encoded data removed]",
      "text/plain": [
       "Graphics3d Object"
      ]
     },
     "execution_count": 29,
     "metadata": {},
     "output_type": "execute_result"
    }
   ],
   "source": [
    "B.<x,y,z> = QQ[]\n",
    "tore = implicit_plot3d(B(GS[-1]), (x, -5, 5), (y, -5, 5), (z, -5, 5), viewer = \"tachyon\")\n",
    "tore"
   ]
  },
  {
   "cell_type": "markdown",
   "metadata": {},
   "source": [
    "Pour la deuxième partie, on utilise la même astuce. Il nous faut trouver les relations algébriques entre $sin(2s),sin(3s)$, etc. Le moteur de calcul symbolique de Sage nous aide pour ça. On peut ensuite définir toutes les relations d'un coup."
   ]
  },
  {
   "cell_type": "code",
   "execution_count": 30,
   "metadata": {},
   "outputs": [
    {
     "data": {
      "text/plain": [
       "s"
      ]
     },
     "execution_count": 30,
     "metadata": {},
     "output_type": "execute_result"
    }
   ],
   "source": [
    "var('s')\n",
    "s"
   ]
  },
  {
   "cell_type": "code",
   "execution_count": 31,
   "metadata": {},
   "outputs": [
    {
     "data": {
      "text/plain": [
       "2*cos(s)^2 - 1"
      ]
     },
     "execution_count": 31,
     "metadata": {},
     "output_type": "execute_result"
    }
   ],
   "source": [
    "expr = cos(2*s)\n",
    "expr.simplify_trig()"
   ]
  },
  {
   "cell_type": "code",
   "execution_count": 32,
   "metadata": {},
   "outputs": [
    {
     "data": {
      "text/plain": [
       "[cos(2*s) == 2*cos(s)^2 - 1,\n",
       " sin(2*s) == 2*cos(s)*sin(s),\n",
       " cos(3*s) == 4*cos(s)^3 - 3*cos(s),\n",
       " sin(3*s) == (4*cos(s)^2 - 1)*sin(s)]"
      ]
     },
     "execution_count": 32,
     "metadata": {},
     "output_type": "execute_result"
    }
   ],
   "source": [
    "[trig(n*s) == trig(n*s).simplify_trig() for n in [2,3] for trig in [cos, sin]]"
   ]
  },
  {
   "cell_type": "code",
   "execution_count": 33,
   "metadata": {},
   "outputs": [],
   "source": [
    "A.<cos2s, sin2s, cos3s, sin3s, coss, sins, x, y, z> = PolynomialRing(QQ, order = 'lex')\n",
    "C = A.ideal(x - (2 + cos2s)*cos3s, \n",
    "            y - (2 + cos2s)*sin3s,\n",
    "            z - sin2s,\n",
    "            coss^2 + sins^2 - 1,\n",
    "            sin2s - 2*coss*sins, \n",
    "            cos2s - 2*coss^2 + 1, \n",
    "            sin3s - (4*coss^2 - 1)*sins, \n",
    "            cos3s - 4*coss^3 + 3*coss)"
   ]
  },
  {
   "cell_type": "code",
   "execution_count": 34,
   "metadata": {},
   "outputs": [
    {
     "name": "stdout",
     "output_type": "stream",
     "text": [
      "[cos2s + 18/25*x*y*z^3 - 187/50*x*y*z - 72/25*y^2*z^2 + 2*y^2 - 36/25*z^8 - 182/25*z^6 - 101/20*z^4 + 1049/100*z^2 - 1, sin2s - z, cos3s + 5/3*sins*z - 2/3*x*z^6 + 23/6*x*z^4 - 11/6*x*z^2 - 1/3*x - 1/3*y^3*z - 8/3*y*z^5 + 3*y*z^3 + y*z, sin3s + 3*sins - 2*x*z^5 + 23/2*x*z^3 - 11/2*x*z - y^3 - 8*y*z^4 + 9*y*z^2 + 3*y, coss - 1/3*sins*z - 2/3*x*z^6 + 23/6*x*z^4 - 11/6*x*z^2 - 1/3*x - 1/3*y^3*z - 8/3*y*z^5 + 3*y*z^3 + y*z, sins^2 - 9/25*x*y*z^3 + 187/100*x*y*z + 36/25*y^2*z^2 - y^2 + 18/25*z^8 + 91/25*z^6 + 101/40*z^4 - 1049/200*z^2, sins*x + 3/50*x*y*z^2 - 27/100*x*y - 6/25*y^2*z - 3/25*z^7 - 69/100*z^5 - 11/40*z^3 + 429/200*z, sins*y + 2/5*x*y*z^3 - 41/20*x*y*z - 8/5*y^2*z^2 + y^2 - 4/5*z^8 - 41/10*z^6 - 27/8*z^4 + 207/40*z^2, sins*z^2 + 3*sins - 5/2*x*z^5 + 115/8*x*z^3 - 55/8*x*z - 5/4*y^3 - 10*y*z^4 + 45/4*y*z^2 + 17/4*y, x^2 + 72/25*x*y*z^3 - 374/25*x*y*z - 288/25*y^2*z^2 + 9*y^2 - 144/25*z^8 - 728/25*z^6 - 101/5*z^4 + 1074/25*z^2 - 9, x*y^2 - 4*x*z^6 + 31*x*z^4 - 21*x*z^2 - 2*y^3*z - 18*y*z^5 + 59/2*y*z^3 + 1/2*y*z, x*y*z^4 - 21/4*x*y*z^2 + 1/4*x*y - 4*y^2*z^3 + 3*y^2*z - 2*z^9 - 10*z^7 - 51/8*z^5 + 63/4*z^3 - 27/8*z, x*z^7 - 6*x*z^5 + 67/16*x*z^3 - 3/16*x*z + 1/2*y^3*z^2 - 1/8*y^3 + 4*y*z^6 - 11/2*y*z^4 - 3/8*y*z^2 + 1/8*y, y^4 + 16*y^2*z^4 - 19*y^2*z^2 - y^2 + 4*z^10 + 18*z^8 + 9/4*z^6 - 81/2*z^4 + 81/4*z^2]\n"
     ]
    }
   ],
   "source": [
    "GC = C.groebner_basis()\n",
    "print GC"
   ]
  },
  {
   "cell_type": "markdown",
   "metadata": {},
   "source": [
    "Ici, nous ne pouvons pas nous limiter à prendre le dernier polynôme de la base :  en effet, les 5 derniers polynômes ne font intervenir que les variables $x,y,z$. L'ideal implicitant la courbe $C$ est donc"
   ]
  },
  {
   "cell_type": "code",
   "execution_count": 35,
   "metadata": {},
   "outputs": [
    {
     "data": {
      "text/plain": [
       "Ideal (4*y^4 + 64*y^2*z^4 - 76*y^2*z^2 - 4*y^2 + 16*z^10 + 72*z^8 + 9*z^6 - 162*z^4 + 81*z^2, 16*x*z^7 - 96*x*z^5 + 67*x*z^3 - 3*x*z + 8*y^3*z^2 - 2*y^3 + 64*y*z^6 - 88*y*z^4 - 6*y*z^2 + 2*y, 8*x*y*z^4 - 42*x*y*z^2 + 2*x*y - 32*y^2*z^3 + 24*y^2*z - 16*z^9 - 80*z^7 - 51*z^5 + 126*z^3 - 27*z, 2*x*y^2 - 8*x*z^6 + 62*x*z^4 - 42*x*z^2 - 4*y^3*z - 36*y*z^5 + 59*y*z^3 + y*z, 25*x^2 + 72*x*y*z^3 - 374*x*y*z - 288*y^2*z^2 + 225*y^2 - 144*z^8 - 728*z^6 - 505*z^4 + 1074*z^2 - 225) of Multivariate Polynomial Ring in cos2s, sin2s, cos3s, sin3s, coss, sins, x, y, z over Rational Field"
      ]
     },
     "execution_count": 35,
     "metadata": {},
     "output_type": "execute_result"
    }
   ],
   "source": [
    "CEI = C.elimination_ideal([cos2s, sin2s, cos3s, sin3s, coss, sins])\n",
    "CEI"
   ]
  },
  {
   "cell_type": "markdown",
   "metadata": {},
   "source": [
    "Ici, pour vérifier que $C\\subset S$, nous allons vérifier que $I(S) \\subset I(C)$. En effet, $C \\subset S$ est équivalent à $I(S) \\subset I(C)$."
   ]
  },
  {
   "cell_type": "code",
   "execution_count": 36,
   "metadata": {},
   "outputs": [
    {
     "name": "stdout",
     "output_type": "stream",
     "text": [
      "Ideal (-144/25*z^8 - 728/25*z^6 + 72/25*x*y*z^3 - 288/25*y^2*z^2 - 101/5*z^4 - 374/25*x*y*z + x^2 + 9*y^2 + 1074/25*z^2 - 9, -4*x*z^6 - 18*y*z^5 + 31*x*z^4 - 2*y^3*z + 59/2*y*z^3 + x*y^2 - 21*x*z^2 + 1/2*y*z, -2*z^9 - 10*z^7 + x*y*z^4 - 4*y^2*z^3 - 51/8*z^5 - 21/4*x*y*z^2 + 3*y^2*z + 63/4*z^3 + 1/4*x*y - 27/8*z, x*z^7 + 4*y*z^6 - 6*x*z^5 + 1/2*y^3*z^2 - 11/2*y*z^4 + 67/16*x*z^3 - 1/8*y^3 - 3/8*y*z^2 - 3/16*x*z + 1/8*y, 4*z^10 + 18*z^8 + 16*y^2*z^4 + 9/4*z^6 + y^4 - 19*y^2*z^2 - 81/2*z^4 - y^2 + 81/4*z^2) of Multivariate Polynomial Ring in x, y, z over Rational Field\n"
     ]
    },
    {
     "data": {
      "text/plain": [
       "True"
      ]
     },
     "execution_count": 36,
     "metadata": {},
     "output_type": "execute_result"
    }
   ],
   "source": [
    "IS = B.ideal(GS[-1])\n",
    "IC = B.ideal(GC[-5:])\n",
    "\n",
    "print(IC)\n",
    "\n",
    "all(g in IC for g in IS.gens())"
   ]
  },
  {
   "cell_type": "markdown",
   "metadata": {},
   "source": [
    "Pour dessiner la courbe, `implicit_plot3d` ne marche pas, étant réservé aux surfaces. Nous pouvons utiliser `parametric_plot3d` avec le système d'origine pour avoir un dessin de $C$."
   ]
  },
  {
   "cell_type": "code",
   "execution_count": 37,
   "metadata": {},
   "outputs": [
    {
     "data": {
      "image/png": "[encoded data removed]",
      "text/plain": [
       "Graphics3d Object"
      ]
     },
     "execution_count": 37,
     "metadata": {},
     "output_type": "execute_result"
    }
   ],
   "source": [
    "var(s)\n",
    "x = (2 + cos(2*s))*cos(3*s)\n",
    "y = (2 + cos(2*s))*sin(3*s)\n",
    "z = sin(2*s)\n",
    "\n",
    "tore + parametric_plot3d([x,y,z], (-pi, pi), color = 'red')"
   ]
  },
  {
   "cell_type": "markdown",
   "metadata": {},
   "source": [
    "### Exercice 10.7\n",
    "\n",
    "Soient $a,b,c$ satisfaisant le système :\n",
    "\n",
    "$$\\left\\{\\begin{aligned}\n",
    "a+b+c & =3\\\\\n",
    "a^2+b^2+c^2 & =5\\\\\n",
    "a^3+b^3+c^3 & =7\n",
    "\\end{aligned}\\right.$$\n",
    "\n",
    "1. Montrer que $a^4+b^4+c^4=9.$\n",
    "1. Montrer que $a^5+b^5+c^5\\neq 11$.\n",
    "1. Que valent $a^5+b^5+c^5$ et $a^6+b^6+c^6$ ?"
   ]
  },
  {
   "cell_type": "code",
   "execution_count": 38,
   "metadata": {},
   "outputs": [
    {
     "data": {
      "text/plain": [
       "[a + b + c - 3, b^2 + b*c - 3*b + c^2 - 3*c + 2, c^3 - 3*c^2 + 2*c + 2/3]"
      ]
     },
     "execution_count": 38,
     "metadata": {},
     "output_type": "execute_result"
    }
   ],
   "source": [
    "A.<a,b,c> = PolynomialRing(QQ, order = 'lex')\n",
    "I = A.ideal(a + b + c - 3, a^2 + b^2 + c^2 - 5, a^3 + b^3 + c^3 - 7)\n",
    "G = I.groebner_basis()\n",
    "G"
   ]
  },
  {
   "cell_type": "code",
   "execution_count": 39,
   "metadata": {},
   "outputs": [
    {
     "data": {
      "text/plain": [
       "0"
      ]
     },
     "execution_count": 39,
     "metadata": {},
     "output_type": "execute_result"
    }
   ],
   "source": [
    "P = a^4 + b^4 + c^4 - 9\n",
    "P.reduce(G)"
   ]
  },
  {
   "cell_type": "code",
   "execution_count": null,
   "metadata": {},
   "outputs": [],
   "source": []
  }
 ],
 "metadata": {
  "kernelspec": {
   "display_name": "SageMath 8.1",
   "language": "",
   "name": "sagemath"
  },
  "language_info": {
   "codemirror_mode": {
    "name": "ipython",
    "version": 2
   },
   "file_extension": ".py",
   "mimetype": "text/x-python",
   "name": "python",
   "nbconvert_exporter": "python",
   "pygments_lexer": "ipython2",
   "version": "2.7.15rc1"
  }
 },
 "nbformat": 4,
 "nbformat_minor": 2
}
