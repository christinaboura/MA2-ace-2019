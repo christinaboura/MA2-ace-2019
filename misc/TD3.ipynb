{
 "cells": [
  {
   "cell_type": "markdown",
   "metadata": {},
   "source": [
    "### Fin de l'exercice 4.5"
   ]
  },
  {
   "cell_type": "markdown",
   "metadata": {},
   "source": [
    "*Le lemme de Dickson peut être utilisé pour démontrer le théorème de la base de Hilbert pour $k[x_1, \\ldots, x_n]$.*\n",
    "\n",
    "*Soit $I$ un idéal de $k[x_1, \\ldots, x_n]$.*\n",
    "\n",
    "*A. Montrer qu'on peut appliquer le lemme de Dickson à $\\langle \\mathrm{LT}(I) \\rangle$. En déduire qu'il existe $f_1, \\ldots, f_r \\in I$ tels que $\\langle \\mathrm{LT}(I) \\rangle = \\langle \\mathrm{LT}(f_1), \\ldots, \\mathrm{LT}(f_r) \\rangle$.*\n",
    "\n",
    "*Correction.* $\\langle \\mathrm{LT}(I) \\rangle$ est un idéal monomial, le lemme de Dickson s'applique.\n",
    "Il existe donc $\\mathrm{LT}(f_1), \\ldots, \\mathrm{LT}(f_r) \\in \\mathrm{LT}(I)$ tels que $\\langle \\mathrm{LT}(I) \\rangle = \\langle \\mathrm{LT}(f_1), \\ldots, \\mathrm{LT}(f_r) \\rangle$ où $f_1, \\dots, f_r \\in I$.\n",
    "\n",
    "*B. Montrer que si $f\\in I$, alors l'algorithme de division de $f$ par $f_1, \\ldots, f_r$ donne un reste nul.*"
   ]
  },
  {
   "cell_type": "markdown",
   "metadata": {},
   "source": [
    "*Correction.*"
   ]
  },
  {
   "cell_type": "markdown",
   "metadata": {},
   "source": [
    "Soit $f\\in I$. Par l'algorithme de division, il existe des polynômes $b_1,\\dots, b_r$ et $r$ tels que \n",
    "$$f = b_1f_1 + \\dots + b_rf_r + r,$$ où $r$ a la propriété qu'aucun de ses termes n'est divisible par $\\mathrm{LT}(f_1), \\dots, \\mathrm{LT}(f_r)$. On va montrer que $r = 0$.\n",
    "\n",
    "On a que $$r = f - b_1f_1 - \\dots - b_rf_r \\in I.$$ On suppose que $r \\neq 0$. Dans ce cas $\\mathrm{LT}(r) \\in \\langle \\mathrm{LT}(I) \\rangle = \\langle \\mathrm{LT}(f_1), \\ldots, \\mathrm{LT}(f_r) \\rangle$ et par l'exercice 4.4(a) $\\mathrm{LT}(r)$ doit être divisible par un des $\\mathrm{LT}(f_i)$. Contradiction. Alors, $r = 0$."
   ]
  },
  {
   "cell_type": "markdown",
   "metadata": {},
   "source": [
    "**Conclure.** On vient de montrer que si $f\\in I$ alors $f \\in \\langle f_1, \\ldots, f_r \\rangle$ et donc que $I \\subseteq \\langle f_1, \\ldots, f_r \\rangle$. L'inclusion inverse, $\\langle f_1, \\ldots, f_r \\rangle \\subseteq I$, est immédiate puisque pour tout $1\\leq i \\leq q$, $f_i \\in I$. On conclut alors que $I = \\langle f_1, \\ldots, f_r \\rangle$ ce qui prouve que tout idéal $I$ de $k[x_1, \\dots, x_n]$ est généré par un nombre fini d'éléments."
   ]
  },
  {
   "cell_type": "markdown",
   "metadata": {},
   "source": [
    "### Exercice 6.1\n",
    "\n",
    "Soit l'idéal $I$ de $\\mathbb{Q}[x,y]$ défini par\n",
    "\n",
    "$$I=\\langle x^2y^2-x,xy^3+y\\rangle.$$\n",
    "\n",
    "1. Donner une base de Gröbner de $I$ pour l'ordre lexicographique.\n",
    "2. Vérifier que les éléments obtenus appartiennent effectivement à $I$.\n",
    "3. Soit $P=x^3y^2+2xy^4$. Calculer $\\overline{P}^G$.\n"
   ]
  },
  {
   "cell_type": "markdown",
   "metadata": {},
   "source": [
    "1."
   ]
  },
  {
   "cell_type": "code",
   "execution_count": 1,
   "metadata": {},
   "outputs": [
    {
     "data": {
      "text/plain": [
       "[x, y]"
      ]
     },
     "execution_count": 1,
     "metadata": {},
     "output_type": "execute_result"
    }
   ],
   "source": [
    "A.<x,y> = PolynomialRing(QQ, order = \"lex\")\n",
    "I = A.ideal(x^2*y^2 - x, x*y^3 + y)\n",
    "G = I.groebner_basis()\n",
    "G"
   ]
  },
  {
   "cell_type": "markdown",
   "metadata": {},
   "source": [
    "2."
   ]
  },
  {
   "cell_type": "code",
   "execution_count": 2,
   "metadata": {},
   "outputs": [
    {
     "data": {
      "text/plain": [
       "[True, True]"
      ]
     },
     "execution_count": 2,
     "metadata": {},
     "output_type": "execute_result"
    }
   ],
   "source": [
    "[g in I for g in G]"
   ]
  },
  {
   "cell_type": "markdown",
   "metadata": {},
   "source": [
    "3. "
   ]
  },
  {
   "cell_type": "code",
   "execution_count": 3,
   "metadata": {},
   "outputs": [
    {
     "data": {
      "text/plain": [
       "0"
      ]
     },
     "execution_count": 3,
     "metadata": {},
     "output_type": "execute_result"
    }
   ],
   "source": [
    "P = x^3*y^2 + 2*x*y^4\n",
    "P.reduce(G)"
   ]
  },
  {
   "cell_type": "markdown",
   "metadata": {},
   "source": [
    "En effet, on peut vérifier que"
   ]
  },
  {
   "cell_type": "code",
   "execution_count": 4,
   "metadata": {},
   "outputs": [
    {
     "data": {
      "text/plain": [
       "True"
      ]
     },
     "execution_count": 4,
     "metadata": {},
     "output_type": "execute_result"
    }
   ],
   "source": [
    "P in I"
   ]
  },
  {
   "cell_type": "markdown",
   "metadata": {},
   "source": [
    "### Exercice 6.2\n",
    "\n",
    "Dans $k[x,y,z]$, on choisit l'ordre degrevlex. Calculer une base de Gröbner de l'idéal $I=(xyz+z^3,y^2)$."
   ]
  },
  {
   "cell_type": "code",
   "execution_count": 5,
   "metadata": {},
   "outputs": [
    {
     "data": {
      "text/plain": [
       "[z^5, y*z^3, x*y*z + z^3, y^2]"
      ]
     },
     "execution_count": 5,
     "metadata": {},
     "output_type": "execute_result"
    }
   ],
   "source": [
    "A.<x,y,z> = QQ[]\n",
    "I = A.ideal(x*y*z + z^3, y^2)\n",
    "G = I.groebner_basis()\n",
    "G"
   ]
  },
  {
   "cell_type": "markdown",
   "metadata": {},
   "source": [
    "### Exercice 6.3\n",
    "\n",
    "Soit $G$ une base de Gröbner pour l'idéal $I\\subset k[x_1,\\ldots,x_n]$ et supposons qu'il existe $P\\neq Q\\in G$ tels que $\\mathrm{LT}(P)$ divise $\\mathrm{LT}(Q)$. Montrer que $G\\setminus{Q}$ est encore une base de Gröbner pour $I$."
   ]
  },
  {
   "cell_type": "markdown",
   "metadata": {},
   "source": [
    "*Correction*. Puisque $G$ est une base de Gröbner pour $I$ nous avons que  $\\langle \\mathrm{LT}(G) \\rangle = \\langle \\mathrm{LT}(I) \\rangle$. On a que $\\mathrm{LT}(Q) = x^a\\mathrm{LT}(P) \\in \\langle \\mathrm{LT}(G\\setminus\\{Q\\}) \\rangle$ et donc que $\\langle \\mathrm{LT}(G\\setminus\\{Q\\}) \\rangle = \\langle \\mathrm{LT}(G) \\rangle$. Par définition $G\\setminus\\{Q\\}$ est donc aussi une base de Gröbner pour $I$."
   ]
  },
  {
   "cell_type": "markdown",
   "metadata": {},
   "source": [
    "### Exercice 6.4\n",
    "\n",
    "Le polynôme $x^3+1$ est-il dans l'idéal engendré par $x + y + z$, $xy + yz + zx$ et $xyz+1$ ?"
   ]
  },
  {
   "cell_type": "code",
   "execution_count": 6,
   "metadata": {},
   "outputs": [
    {
     "data": {
      "text/plain": [
       "True"
      ]
     },
     "execution_count": 6,
     "metadata": {},
     "output_type": "execute_result"
    }
   ],
   "source": [
    "A.<x,y,z> = QQ[]\n",
    "I = A.ideal(x + y + z, x*y + y*z + z*x, x*y*z + 1)\n",
    "P = x^3 + 1\n",
    "\n",
    "P in I"
   ]
  },
  {
   "cell_type": "code",
   "execution_count": 7,
   "metadata": {},
   "outputs": [],
   "source": [
    "a, b, c = P.lift(I.gens())"
   ]
  },
  {
   "cell_type": "code",
   "execution_count": 8,
   "metadata": {},
   "outputs": [
    {
     "data": {
      "text/plain": [
       "(x^2 - x*y - x*z - y*z, y + z, 1)"
      ]
     },
     "execution_count": 8,
     "metadata": {},
     "output_type": "execute_result"
    }
   ],
   "source": [
    "a, b, c"
   ]
  },
  {
   "cell_type": "markdown",
   "metadata": {},
   "source": [
    "*Vérification.*"
   ]
  },
  {
   "cell_type": "code",
   "execution_count": null,
   "metadata": {},
   "outputs": [],
   "source": [
    "a*I.gens()[0] + b*I.gens()[1] + c*I.gens()[2]"
   ]
  },
  {
   "cell_type": "markdown",
   "metadata": {},
   "source": [
    "### Exercice 6.5\n",
    "\n",
    "Soit $I\\in k[x_1,\\ldots,x_n]$ un idéal principal. Montrer que tout sous-ensemble fini contenant un générateur de $I$ est une base de Gröbner pour $I$."
   ]
  },
  {
   "cell_type": "markdown",
   "metadata": {},
   "source": [
    "Soit $G = \\{g_1, \\dots, g_t\\} \\subseteq I$, où $g_1$ est un générateur de $I$. Pour montrer que  $G$ est une base de Gröbner pour $I$, il suffit de montrer que $\\langle \\mathrm{LT}(G) \\rangle = \\langle \\mathrm{LT}(I) \\rangle.$ \n",
    " \n",
    "*  Comme pour tout $i \\in \\{1,\\dots, t\\}$ on a que $g_i \\in I$. Par conséquent, $LT(g_i) \\in \\langle LT(I) \\rangle$ ce qui montre que $\\langle \\mathrm{LT}(G) \\rangle \\subseteq \\langle \\mathrm{LT}(I) \\rangle.$\n",
    "\n",
    "Invérsement, soit $f\\in I$. Puisque $g_1$ est un générateur de $I$ on a que $f = g_1\\cdot h$ pour un certain polynôme $h$. On obtient alors que $\\mathrm{LT}(f) = \\mathrm{LT}(g_1\\cdot h) = \\mathrm{LT}(h)\\cdot \\mathrm{LT}(g_1)$, donc $\\mathrm{LT}(f) \\in \\langle \\mathrm{LT}(G) \\rangle$ ce qui montre que \n",
    "$\\langle \\mathrm{LT}(I) \\rangle \\subseteq \\langle \\mathrm{LT}(G) \\rangle$.\n"
   ]
  },
  {
   "cell_type": "markdown",
   "metadata": {},
   "source": [
    "### Exercice 6.6\n",
    "\n",
    "Soit l’ideal \n",
    "$$I = \\left\\langle z^5-y^3t^2, x^2t-yz^2, x^2z^3-y^4t, x^4z-y^5\n",
    "\\right\\rangle$$ de $k[x, y, z, t]$.\n",
    "\n",
    "1. Montrer que le système générateur de $I$ est une base de Gröbner pour l’ordre lexicographique avec $x > y > z > t$.\n",
    "2. Trouver un ordre sur les variables tel que $\\left\\langle z^{11}, yz^2, y^3t^2, y^4t, y^5, x^2y^2t^3, x^4yt^4 \\right\\rangle$ soit $\\left\\langle\\mathrm{LT}(I) \\right\\rangle$."
   ]
  },
  {
   "cell_type": "code",
   "execution_count": 9,
   "metadata": {},
   "outputs": [],
   "source": [
    "A.<x,y,z,t> = PolynomialRing(QQ, order = \"lex\")"
   ]
  },
  {
   "cell_type": "code",
   "execution_count": 10,
   "metadata": {},
   "outputs": [],
   "source": [
    "I = A.ideal(z^5 - y^3*t^2, \n",
    "            x^2*t - y*z^2, \n",
    "            x^2*z^3 - y^4*t,\n",
    "            x^4*z - y^5)"
   ]
  },
  {
   "cell_type": "code",
   "execution_count": 11,
   "metadata": {},
   "outputs": [
    {
     "data": {
      "text/plain": [
       "True"
      ]
     },
     "execution_count": 11,
     "metadata": {},
     "output_type": "execute_result"
    }
   ],
   "source": [
    "I.basis_is_groebner()"
   ]
  },
  {
   "cell_type": "markdown",
   "metadata": {},
   "source": [
    "On note la liste des monômes qu'on veut trouver, pour l'utiliser plus tard :\n",
    " \n",
    "target =$\\mathtt{[z^{11}, yz^2, y^3t^2, y^4t, y^5, x^2y^2t^3, x^4yt^4]}$."
   ]
  },
  {
   "cell_type": "code",
   "execution_count": 13,
   "metadata": {},
   "outputs": [],
   "source": [
    "target = {z^11, y*z^2, y^3*t^2, y^4*t, y^5, x^2*y^2*t^3, x^4*y*t^4}"
   ]
  },
  {
   "cell_type": "markdown",
   "metadata": {},
   "source": [
    "Quelques essaies ratés :"
   ]
  },
  {
   "cell_type": "code",
   "execution_count": 14,
   "metadata": {},
   "outputs": [],
   "source": [
    "G = I.change_ring(A.change_ring(order = \"deglex\")).groebner_basis()"
   ]
  },
  {
   "cell_type": "code",
   "execution_count": 15,
   "metadata": {},
   "outputs": [
    {
     "data": {
      "text/plain": [
       "[x^4*z, x^2*z^3, y^3*t^2, x^2*t]"
      ]
     },
     "execution_count": 15,
     "metadata": {},
     "output_type": "execute_result"
    }
   ],
   "source": [
    "[g.lt() for g in G]"
   ]
  },
  {
   "cell_type": "code",
   "execution_count": 16,
   "metadata": {},
   "outputs": [
    {
     "data": {
      "text/plain": [
       "[y^5, x^2*z^3, z^5, y*z^2]"
      ]
     },
     "execution_count": 16,
     "metadata": {},
     "output_type": "execute_result"
    }
   ],
   "source": [
    "G = I.change_ring(A.change_ring(order = \"degrevlex\")).groebner_basis()\n",
    "[g.lt() for g in G]"
   ]
  },
  {
   "cell_type": "code",
   "execution_count": 17,
   "metadata": {},
   "outputs": [
    {
     "data": {
      "text/plain": [
       "[y^3*t^2, y^4*t, x^2*t, x^4*z]"
      ]
     },
     "execution_count": 17,
     "metadata": {},
     "output_type": "execute_result"
    }
   ],
   "source": [
    "G = I.change_ring(A.change_ring(order = \"invlex\")).groebner_basis()\n",
    "[g.lt() for g in G]"
   ]
  },
  {
   "cell_type": "markdown",
   "metadata": {},
   "source": [
    "On peut tenter de changer l’ordre des variables au sein des différents ordres. Soit on récrit la définition de $A$ avec les variables dans un ordre différent, soit on utilise le paramètre `names=:`"
   ]
  },
  {
   "cell_type": "code",
   "execution_count": 18,
   "metadata": {},
   "outputs": [],
   "source": [
    "B = A.change_ring(names = 'y,z,t,x')"
   ]
  },
  {
   "cell_type": "code",
   "execution_count": 19,
   "metadata": {},
   "outputs": [
    {
     "data": {
      "text/plain": [
       "(y, z, True)"
      ]
     },
     "execution_count": 19,
     "metadata": {},
     "output_type": "execute_result"
    }
   ],
   "source": [
    "B.gen(0), B.gen(1), B.gen(0) > B.gen(1)"
   ]
  },
  {
   "cell_type": "code",
   "execution_count": 20,
   "metadata": {},
   "outputs": [
    {
     "data": {
      "text/plain": [
       "[y^5, y^4*t, y^3*t^2, y^2*t^3*x^2, y*z^2, y*t^4*x^4, z^11]"
      ]
     },
     "execution_count": 20,
     "metadata": {},
     "output_type": "execute_result"
    }
   ],
   "source": [
    "G = I.change_ring(B).groebner_basis()\n",
    "[g.lt() for g in G]"
   ]
  },
  {
   "cell_type": "markdown",
   "metadata": {},
   "source": [
    "Ça ressemble à ce qu'on cherche. Pour une meilleure lisibilité, on peut convertir les termes de tête de $G$ à nouveau en des éléments de $A$; de cette façon les variables au sein d'un monôme seront affichées dans le même ordre que dans `target`."
   ]
  },
  {
   "cell_type": "code",
   "execution_count": 21,
   "metadata": {},
   "outputs": [
    {
     "data": {
      "text/plain": [
       "[y^5, y^4*t, y^3*t^2, x^2*y^2*t^3, y*z^2, x^4*y*t^4, z^11]"
      ]
     },
     "execution_count": 21,
     "metadata": {},
     "output_type": "execute_result"
    }
   ],
   "source": [
    "a = [A(g.lt()) for g in G]\n",
    "a"
   ]
  },
  {
   "cell_type": "markdown",
   "metadata": {},
   "source": [
    "Néamnois, la liste `a` et la liste `target` ne sont pas égales, puisque les éléments n'apparaissent pas dans le même ordre."
   ]
  },
  {
   "cell_type": "code",
   "execution_count": 22,
   "metadata": {},
   "outputs": [
    {
     "data": {
      "text/plain": [
       "False"
      ]
     },
     "execution_count": 22,
     "metadata": {},
     "output_type": "execute_result"
    }
   ],
   "source": [
    "a == target"
   ]
  },
  {
   "cell_type": "markdown",
   "metadata": {},
   "source": [
    "Mais on peut utiliser la commande `set()`"
   ]
  },
  {
   "cell_type": "code",
   "execution_count": 23,
   "metadata": {},
   "outputs": [
    {
     "data": {
      "text/plain": [
       "True"
      ]
     },
     "execution_count": 23,
     "metadata": {},
     "output_type": "execute_result"
    }
   ],
   "source": [
    "set(a) == set(target)"
   ]
  },
  {
   "cell_type": "markdown",
   "metadata": {},
   "source": [
    "### Exercice 6.7\n",
    "\n",
    "On se place dans un anneau $R=k[x_1,\\ldots,x_n]$ où $k$ est un corps commutatif. Soit $I$ un idéal de $R$ non nul. Une base de Gröbner universelle est un ensemble qui est une base de Gröbner de $I$ pour tous les ordres admissibles de $R$. Calculer une base de Gröbner universelle de l’idéal de $\\mathbb{Q}[x,y]$ engendré par $x-y^2$ et $xy-x$."
   ]
  },
  {
   "cell_type": "code",
   "execution_count": 26,
   "metadata": {},
   "outputs": [],
   "source": [
    "A.<x,y> = PolynomialRing(QQ, order = \"lex\")"
   ]
  },
  {
   "cell_type": "code",
   "execution_count": 27,
   "metadata": {},
   "outputs": [
    {
     "data": {
      "text/plain": [
       "[x - y^2, y^3 - y^2]"
      ]
     },
     "execution_count": 27,
     "metadata": {},
     "output_type": "execute_result"
    }
   ],
   "source": [
    "I = A.ideal(x-y^2, x*y-x)\n",
    "G = I.groebner_basis()\n",
    "G"
   ]
  },
  {
   "cell_type": "code",
   "execution_count": 29,
   "metadata": {},
   "outputs": [
    {
     "data": {
      "text/plain": [
       "[x^2 - x, x*y - x, y^2 - x]"
      ]
     },
     "execution_count": 29,
     "metadata": {},
     "output_type": "execute_result"
    }
   ],
   "source": [
    "I.change_ring(A.change_ring(order = \"degrevlex\")).groebner_basis()"
   ]
  },
  {
   "cell_type": "code",
   "execution_count": 30,
   "metadata": {},
   "outputs": [
    {
     "data": {
      "text/plain": [
       "[x^2 - x, x*y - x, y^2 - x]"
      ]
     },
     "execution_count": 30,
     "metadata": {},
     "output_type": "execute_result"
    }
   ],
   "source": [
    "I.change_ring(A.change_ring(order = \"deglex\")).groebner_basis()"
   ]
  },
  {
   "cell_type": "code",
   "execution_count": 31,
   "metadata": {},
   "outputs": [
    {
     "data": {
      "text/plain": [
       "[y^2 - x, x*y - x, x^2 - x]"
      ]
     },
     "execution_count": 31,
     "metadata": {},
     "output_type": "execute_result"
    }
   ],
   "source": [
    "I.change_ring(A.change_ring(order = \"invlex\")).groebner_basis()"
   ]
  },
  {
   "cell_type": "markdown",
   "metadata": {},
   "source": [
    "On peut essayer des ordres plus compliqués avec `help(TermOrder)`."
   ]
  },
  {
   "cell_type": "markdown",
   "metadata": {},
   "source": [
    "La BdG universelle de $I$ est l'union de toutes les BdG de $I$ pour tout ordre admissible.\n",
    "\n",
    "Nous ne pouvons pas tester l'infinité des ordres admissibles, mais, au vu des calculs précédents, nous pouvons conjecturer que\n",
    "\n",
    "$$G=\\{x-y^2,y^3-y^2,xy-x,x^2-x\\}$$\n",
    "est une BdG universelle pour $I=\\langle x-y^2,xy-x\\rangle.$\n",
    "\n",
    "Pour le prouver, on observe que $\\mathrm{LT}(G)$ ne dépend que de l'ordre relatif de $x$ et $y^2$, en effet, à l'exclusion de $x-y^2$, tous les polynômes de $G$ ont un unique monôme divisible par tous les autres, qui se trouve donc être le monôme de tête dans tout ordre admissible. On a donc :\n",
    "\n",
    "$$\\langle \\mathrm{LT}(G) \\rangle = \\left \\{\n",
    "   \\begin{array}{l l }\n",
    "          \\langle x,y^3 \\rangle &\\text{si } x>y^2 \\\\\n",
    "         \\langle x^2,xy,y^2 \\rangle &\\text{sinon}.  \\\\\n",
    "   \\end{array}\n",
    "   \\right .$$\n",
    "\n",
    "Puisque $G\\subseteq I$, il est immédiat que $\\langle \\mathrm{LT}(G) \\rangle \\subset \\langle \\mathrm{LT}(I) \\rangle$ ; il reste donc à montrer l'inclusion inverse.\n",
    "\n",
    "Commençons par le cas $x>y^2$ et supposons que $\\langle \\mathrm{LT}(I) \\rangle \\not \\subset \\langle \\mathrm{LT}(G) \\rangle$, ceci implique qu'il existe un polynôme $ay^2+by+c \\in I$, avec $a,b,c$ non tous nuls (remarque: les monômes $1,y,y^2$ sont les monômes de l'escalier de $\\langle \\mathrm{LT}(G) \\rangle$). Mais la BdG pour l'ordre *lex* nous montre qu'il n'existe pas de tel polynôme.\n",
    "\n",
    "De façon similaire, si $y^2>x$, on vérifie en regardant la BdG pour l'ordre *invlex* qu'il n'existe pas de polynôme $ay+bx+c$ avec $a,b,c$ non tous nuls.\n",
    "\n",
    "Nous pouvons donc conclure que $\\langle \\mathrm{LT}(G) \\rangle = \\langle \\mathrm{LT}(I) \\rangle$ pour tout ordre admissible."
   ]
  },
  {
   "cell_type": "markdown",
   "metadata": {},
   "source": [
    "### Exercice 7.1\n",
    "\n",
    "Soient les polynômes $P_1=x^3y-2x^2y^2+x$ et $P_2=3x^4-y$ de $\\mathbb{Q}[x,y]$ avec l’ordre lexicographique."
   ]
  },
  {
   "cell_type": "markdown",
   "metadata": {},
   "source": [
    "1. Calculer $P= {\\rm Syz}(P_1,P_2)$.\n",
    "1. Soit $I=\\left\\langle P_1,P_2 \\right\\rangle$. La base\n",
    "    $(P_1,P_2)$ est-elle de Gröbner ?"
   ]
  },
  {
   "cell_type": "markdown",
   "metadata": {},
   "source": [
    "*Correction.* "
   ]
  },
  {
   "cell_type": "markdown",
   "metadata": {},
   "source": [
    "1. On a que LCM$(\\mathrm{LM}(P_1), \\mathrm{LM}(P_2)) = \\mathrm{LCM}(x^3y, x^4) = x^4y$. On calcule\n",
    "\\begin{eqnarray*}\n",
    "S(P_1,P_2) &=& \\frac{x^4y}{x^3y}P_1 - \\frac{x^4y}{3x^4}P_2 \\\\\n",
    "&=& x (x^3y-2x^2y^2+x) - \\frac{y}{3}(3x^4-y)\\\\\n",
    "&=& x^4y - 2x^3y^2 + x^2 - x^4y + \\frac{1}{3}y^2 \\\\\n",
    "&=& - 2x^3y^2 + x^2 + \\frac{1}{3}y^2.\n",
    "\\end{eqnarray*}"
   ]
  },
  {
   "cell_type": "markdown",
   "metadata": {},
   "source": [
    "Pour voir si $(P_1,P_2)$ est-elle de Gröbner, on peut utiliser le criètere de Buchberger. Pour cela il suffit de calculer le reste de la division de $S(P_1,P_2)$ par $(P_1,P_2)$.\n",
    "On fait cette division  et on obtient que \n",
    "\n",
    "$$S(P_1,P_2) = -2yP_1 + 0\\cdot P2 + (-4x^2y^3 + x^2 + \\frac{1}{3}y^2+6xy)$$\n",
    "  et comme le reste n'est pas $0$ on conclut que $(P_1,P_2)$ n'est pas une base de Gröbner pour $I$."
   ]
  },
  {
   "cell_type": "code",
   "execution_count": 32,
   "metadata": {},
   "outputs": [],
   "source": [
    "A.<x,y> = PolynomialRing(QQ, order = 'lex')\n",
    "P1 = x^3*y - 2*x^2*y^2 + x\n",
    "P2 = 3*x^4 - y\n",
    "\n",
    "I = A.ideal(P1,P2)"
   ]
  },
  {
   "cell_type": "code",
   "execution_count": 33,
   "metadata": {},
   "outputs": [
    {
     "data": {
      "text/plain": [
       "False"
      ]
     },
     "execution_count": 33,
     "metadata": {},
     "output_type": "execute_result"
    }
   ],
   "source": [
    "I.basis_is_groebner()"
   ]
  },
  {
   "cell_type": "markdown",
   "metadata": {},
   "source": [
    "### Exercice 7.2\n",
    "\n",
    "Déterminer si les ensembles suivants sont des bases de Gröbner\n",
    "  des idéaux qu'ils engendrent.\n",
    "  \n",
    "\n",
    "  1. $\\{x^2-y,x^3-z\\}$ pour l'ordre lexicographique gradué.\n",
    "  1. $\\{x^2-y,x^3-z\\}$ pour l'ordre lexicographique avec $x<y<z$\n",
    "    puis $x>y>z$.\n",
    "  1. $\\{xy^2-xz+y,xy-z^2,x-yz^4\\}$ avec l'ordre lexicographique."
   ]
  },
  {
   "cell_type": "markdown",
   "metadata": {},
   "source": [
    "*Correction.*"
   ]
  },
  {
   "cell_type": "markdown",
   "metadata": {},
   "source": [
    "1. On a  que LCM$(\\mathrm{LM}(f_1), \\mathrm{LM}(f_2)) = \\mathrm{LCM}(x^2,x^3) = x^3$. On calcule\n",
    "\\begin{eqnarray*}\n",
    "S(f_1,f_2) &=& \\frac{x^3}{x^2}f_1 - \\frac{x^3}{x^3}f_2 \\\\\n",
    "&=& x (x^2-y) - (x^3-z)\\\\\n",
    "&=& x^3-xy - x^3 + z \\\\\n",
    "&=&-xy + z.\n",
    "\\end{eqnarray*}\n",
    "On voit qu'aucun terme de $S(f_1,f_2)$ n'est divisible par $x^2$ ou $x^3$ alors il ne s'agit pas d'une base de Gröbner.\n",
    "\n",
    "On vérifie avec *Sage*.\n"
   ]
  },
  {
   "cell_type": "code",
   "execution_count": 34,
   "metadata": {},
   "outputs": [
    {
     "data": {
      "text/plain": [
       "False"
      ]
     },
     "execution_count": 34,
     "metadata": {},
     "output_type": "execute_result"
    }
   ],
   "source": [
    "A.<x,y,z> = PolynomialRing(QQ, order = \"deglex\")\n",
    "P1 = x^2 - y\n",
    "P2 = x^3 - z\n",
    "\n",
    "I = A.ideal(P1,P2)\n",
    "I.basis_is_groebner()"
   ]
  },
  {
   "cell_type": "markdown",
   "metadata": {},
   "source": [
    "2a) Cas $x < y < z$.\n",
    "\n",
    "On va écrire une fonction en *Sage* qui prend en entrée deux polynômes $f$ et $g$ et qui calcule Syz$(f,g)$.  "
   ]
  },
  {
   "cell_type": "code",
   "execution_count": 36,
   "metadata": {},
   "outputs": [],
   "source": [
    "def Syz(f,g) : \n",
    "    f_lm = f.lm() #leading monomial of f\n",
    "    g_lm = g.lm() #leading monomial of g\n",
    "    l = lcm(f_lm, g_lm) # computation of the lcm\n",
    "    \n",
    "    S = (l // f_lm)*f - (l // g_lm)*g\n",
    "    return S"
   ]
  },
  {
   "cell_type": "code",
   "execution_count": 37,
   "metadata": {},
   "outputs": [
    {
     "data": {
      "text/plain": [
       "z*x^2 - y*x^3"
      ]
     },
     "execution_count": 37,
     "metadata": {},
     "output_type": "execute_result"
    }
   ],
   "source": [
    "A.<z,y,x> = PolynomialRing(QQ, order = \"lex\")\n",
    "P1 = x^2 - y\n",
    "P2 = x^3 - z\n",
    "\n",
    "S = Syz(P1,P2)\n",
    "S"
   ]
  },
  {
   "cell_type": "markdown",
   "metadata": {},
   "source": [
    "On va diviser Syz$(P1,P2)$ par $G = (P1,P2)$.\n",
    "\n",
    "On voit que $zx^2 - yx^3 = x^3(x^2-y) - x^2(x^3-z)$ et donc il s'agit d'une base de Gröbner."
   ]
  },
  {
   "cell_type": "code",
   "execution_count": 38,
   "metadata": {},
   "outputs": [
    {
     "data": {
      "text/plain": [
       "True"
      ]
     },
     "execution_count": 38,
     "metadata": {},
     "output_type": "execute_result"
    }
   ],
   "source": [
    "I = A.ideal(P1,P2)\n",
    "I.basis_is_groebner()"
   ]
  },
  {
   "cell_type": "markdown",
   "metadata": {},
   "source": [
    "### Exercice 7.4 \n",
    "\n",
    "Soit $I\\subset k[x_1,\\ldots, x_n]$ un idéal et $G=\\{g_1,\\ldots, g_m\\}$ une base de Gröbner de $I$.\n",
    "\n",
    "1. Montrer que $\\overline{f_1}^G=\\overline{f_2}^G$ si et seulement si $f_1-f_2\\in I$.\n",
    "\n",
    "2. En déduire que $\\overline{f_1+f_2}^G=\\overline{f_1}^G+\\overline{f_2}^G$.\n",
    "\n",
    "3. En déduire que $\\overline{f_1f_2}^G=\\overline{\\overline{f_1}^G\\overline{f_2}^G}^G$."
   ]
  },
  {
   "cell_type": "markdown",
   "metadata": {},
   "source": [
    "*Correction*. On peut écrire\n",
    "\\begin{eqnarray*}\n",
    "f_1 &=& h_1 + r_1 \\\\\n",
    "f_2 &=& h_2 + r_2,\n",
    "\\end{eqnarray*}\n",
    "avec $h_1, h_2 \\in I$. On note $r_1 = \\overline{f_1}^G$ et $r_2 = \\overline{f_2}^G$ avec la propriété qu'aucun terme de $r_1$ et $r_2$ n'est divisible par aucun $\\mathrm{LT}(g_i), i = 1, \\dots, m.$ \n",
    "\n",
    "- On développe :\n",
    "$$ f_1 - f_2 = (h_1 - h_2) + (r_1 - r_2). $$\n",
    "Si $r_1 = r_2$ alors $f_1 - f_2 \\in I$. Inversement, si $f_1 - f_2 \\in I$, on peut écrire $ f_1 - f_2 $ de deux façons différentes :\n",
    "$$ f_1 - f_2 = (h_1 - h_2) + (r_1 - r_2) = (f_1 - f_2) + 0,$$\n",
    "où $f_1 - f_2, h_1 - h_2 \\in I$ et aucun terme de $(r_1 - r_2)$ ou de $0$ n'est divisible par aucun $\\mathrm{LT}(g_i), i = 1, \\dots, m.$ Puisque $G$ est une base de Gröbner on conclut que $r_1 - r_2 = 0$ et donc que $r_1 = r_2$.\n",
    "\n",
    "- On a \n",
    "\\begin{eqnarray*}\n",
    "f_1 + f_2 &=& h_1 + r_1 + h_2 + r_2 \\\\\n",
    "&=& (h_1 + h_2) + (r_1 + r_2)\n",
    "\\end{eqnarray*}\n",
    "avec aucun terme de $(r_1 + r_2)$ divisible par aucun élément de $\\mathrm{LT}(I)$. Par l'unicité du reste on a que $r_1 + r_2 = \\overline{f_1+f_2}^G = \\overline{f_1}^G+\\overline{f_2}^G$.\n",
    "\n",
    "- \n",
    "\\begin{eqnarray*}\n",
    "f_1 f_2 &=& (h_1 + r_1)(h_2 + r_2) \\\\\n",
    "&=& (h_1h_2 + r_1h_2 + r_2h_1) + (r_1r_2).\n",
    "\\end{eqnarray*}\n",
    "Par le même type de réflexion on a que $f_1f_2 - r_1r_2 \\in I$, et donc par la partie (a) on a que  $\\overline{f_1f_2}^G = \\overline{r_1r_2}^G = \\overline{\\overline{f_1}^G\\overline{f_2}^G}^G$."
   ]
  },
  {
   "cell_type": "code",
   "execution_count": null,
   "metadata": {},
   "outputs": [],
   "source": []
  }
 ],
 "metadata": {
  "kernelspec": {
   "display_name": "SageMath 8.1",
   "language": "",
   "name": "sagemath"
  },
  "language_info": {
   "codemirror_mode": {
    "name": "ipython",
    "version": 2
   },
   "file_extension": ".py",
   "mimetype": "text/x-python",
   "name": "python",
   "nbconvert_exporter": "python",
   "pygments_lexer": "ipython2",
   "version": "2.7.15rc1"
  }
 },
 "nbformat": 4,
 "nbformat_minor": 2
}
