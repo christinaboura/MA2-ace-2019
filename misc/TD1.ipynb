{
 "cells": [
  {
   "cell_type": "markdown",
   "metadata": {},
   "source": [
    "## Introduction rapide à Jupyter"
   ]
  },
  {
   "cell_type": "markdown",
   "metadata": {},
   "source": [
    "Utilisation comme calculatrice"
   ]
  },
  {
   "cell_type": "code",
   "execution_count": 1,
   "metadata": {},
   "outputs": [
    {
     "data": {
      "text/plain": [
       "7"
      ]
     },
     "execution_count": 1,
     "metadata": {},
     "output_type": "execute_result"
    }
   ],
   "source": [
    "2+5"
   ]
  },
  {
   "cell_type": "code",
   "execution_count": 2,
   "metadata": {},
   "outputs": [
    {
     "data": {
      "text/plain": [
       "0"
      ]
     },
     "execution_count": 2,
     "metadata": {},
     "output_type": "execute_result"
    }
   ],
   "source": [
    "1932 % 3"
   ]
  },
  {
   "cell_type": "markdown",
   "metadata": {},
   "source": [
    "On peut écrire du texte stylisé."
   ]
  },
  {
   "cell_type": "markdown",
   "metadata": {},
   "source": [
    "*Ce texte est en italics.*"
   ]
  },
  {
   "cell_type": "markdown",
   "metadata": {},
   "source": [
    "**Ce texte est en gras**"
   ]
  },
  {
   "cell_type": "markdown",
   "metadata": {},
   "source": [
    "On peut écrire du *latex*."
   ]
  },
  {
   "cell_type": "markdown",
   "metadata": {},
   "source": [
    "$\\sum_{i=0}^n x^i$"
   ]
  },
  {
   "cell_type": "markdown",
   "metadata": {},
   "source": [
    "## Quelques rappels de Sage"
   ]
  },
  {
   "cell_type": "markdown",
   "metadata": {},
   "source": [
    "Sage est un langage de programmation mathématique qui est basé sur Python."
   ]
  },
  {
   "cell_type": "markdown",
   "metadata": {},
   "source": [
    "On peut manipuler des entiers, des chaînes de caractères, des listes mais surtout des objects mathématiques plus complèxes."
   ]
  },
  {
   "cell_type": "code",
   "execution_count": 3,
   "metadata": {},
   "outputs": [
    {
     "name": "stdout",
     "output_type": "stream",
     "text": [
      "4 est pair\n"
     ]
    }
   ],
   "source": [
    "if 4 % 2 == 0 :\n",
    "    print '4 est pair'"
   ]
  },
  {
   "cell_type": "markdown",
   "metadata": {},
   "source": [
    "Une caractèristique particulière de Sage est qu'une variable n'est pas typée et son type peut changer en cours d'execution sans besoin de définir son type."
   ]
  },
  {
   "cell_type": "code",
   "execution_count": 4,
   "metadata": {},
   "outputs": [
    {
     "name": "stdout",
     "output_type": "stream",
     "text": [
      "5\n"
     ]
    },
    {
     "data": {
      "text/plain": [
       "<type 'sage.rings.integer.Integer'>"
      ]
     },
     "execution_count": 4,
     "metadata": {},
     "output_type": "execute_result"
    }
   ],
   "source": [
    "a = 5\n",
    "print a\n",
    "type(a)"
   ]
  },
  {
   "cell_type": "code",
   "execution_count": 5,
   "metadata": {},
   "outputs": [
    {
     "name": "stdout",
     "output_type": "stream",
     "text": [
      "[3, 5, 1]\n"
     ]
    },
    {
     "data": {
      "text/plain": [
       "<type 'list'>"
      ]
     },
     "execution_count": 5,
     "metadata": {},
     "output_type": "execute_result"
    }
   ],
   "source": [
    "a = [3,5,1]\n",
    "print a\n",
    "type(a)"
   ]
  },
  {
   "cell_type": "code",
   "execution_count": 6,
   "metadata": {},
   "outputs": [
    {
     "data": {
      "text/plain": [
       "<type 'bool'>"
      ]
     },
     "execution_count": 6,
     "metadata": {},
     "output_type": "execute_result"
    }
   ],
   "source": [
    "a = (5 == 3)\n",
    "type(a)"
   ]
  },
  {
   "cell_type": "markdown",
   "metadata": {},
   "source": [
    "On va travailler avec des structures de données"
   ]
  },
  {
   "cell_type": "code",
   "execution_count": 7,
   "metadata": {},
   "outputs": [
    {
     "data": {
      "text/plain": [
       "Real Field with 53 bits of precision"
      ]
     },
     "execution_count": 7,
     "metadata": {},
     "output_type": "execute_result"
    }
   ],
   "source": [
    "RR"
   ]
  },
  {
   "cell_type": "code",
   "execution_count": 8,
   "metadata": {},
   "outputs": [
    {
     "data": {
      "text/plain": [
       "Rational Field"
      ]
     },
     "execution_count": 8,
     "metadata": {},
     "output_type": "execute_result"
    }
   ],
   "source": [
    "QQ"
   ]
  },
  {
   "cell_type": "code",
   "execution_count": 9,
   "metadata": {},
   "outputs": [
    {
     "data": {
      "text/plain": [
       "Integer Ring"
      ]
     },
     "execution_count": 9,
     "metadata": {},
     "output_type": "execute_result"
    }
   ],
   "source": [
    "ZZ"
   ]
  },
  {
   "cell_type": "code",
   "execution_count": 10,
   "metadata": {},
   "outputs": [
    {
     "data": {
      "text/plain": [
       "Finite Field of size 2"
      ]
     },
     "execution_count": 10,
     "metadata": {},
     "output_type": "execute_result"
    }
   ],
   "source": [
    "GF(2)"
   ]
  },
  {
   "cell_type": "code",
   "execution_count": 11,
   "metadata": {},
   "outputs": [
    {
     "data": {
      "text/plain": [
       "Ring of integers modulo 13"
      ]
     },
     "execution_count": 11,
     "metadata": {},
     "output_type": "execute_result"
    }
   ],
   "source": [
    "Zmod(13)"
   ]
  },
  {
   "cell_type": "markdown",
   "metadata": {},
   "source": [
    "On peut tester l'appartenance à un ensemble"
   ]
  },
  {
   "cell_type": "code",
   "execution_count": 12,
   "metadata": {},
   "outputs": [
    {
     "data": {
      "text/plain": [
       "True"
      ]
     },
     "execution_count": 12,
     "metadata": {},
     "output_type": "execute_result"
    }
   ],
   "source": [
    "2 in ZZ"
   ]
  },
  {
   "cell_type": "code",
   "execution_count": 13,
   "metadata": {},
   "outputs": [
    {
     "data": {
      "text/plain": [
       "False"
      ]
     },
     "execution_count": 13,
     "metadata": {},
     "output_type": "execute_result"
    }
   ],
   "source": [
    "1/2 in ZZ"
   ]
  },
  {
   "cell_type": "code",
   "execution_count": 14,
   "metadata": {},
   "outputs": [
    {
     "data": {
      "text/plain": [
       "True"
      ]
     },
     "execution_count": 14,
     "metadata": {},
     "output_type": "execute_result"
    }
   ],
   "source": [
    "1/2 in QQ"
   ]
  },
  {
   "cell_type": "markdown",
   "metadata": {},
   "source": [
    "La variable x est une variable symbolique prédéfinie dans le *Symbolic Ring*."
   ]
  },
  {
   "cell_type": "code",
   "execution_count": 15,
   "metadata": {},
   "outputs": [
    {
     "data": {
      "text/plain": [
       "x"
      ]
     },
     "execution_count": 15,
     "metadata": {},
     "output_type": "execute_result"
    }
   ],
   "source": [
    "x"
   ]
  },
  {
   "cell_type": "code",
   "execution_count": 16,
   "metadata": {},
   "outputs": [
    {
     "data": {
      "text/plain": [
       "Symbolic Ring"
      ]
     },
     "execution_count": 16,
     "metadata": {},
     "output_type": "execute_result"
    }
   ],
   "source": [
    "x.parent()"
   ]
  },
  {
   "cell_type": "code",
   "execution_count": 17,
   "metadata": {},
   "outputs": [
    {
     "ename": "NameError",
     "evalue": "name 'y' is not defined",
     "output_type": "error",
     "traceback": [
      "\u001b[0;31m\u001b[0m",
      "\u001b[0;31mNameError\u001b[0mTraceback (most recent call last)",
      "\u001b[0;32m<ipython-input-17-9063a9f0e032>\u001b[0m in \u001b[0;36m<module>\u001b[0;34m()\u001b[0m\n\u001b[0;32m----> 1\u001b[0;31m \u001b[0my\u001b[0m\u001b[0;34m\u001b[0m\u001b[0m\n\u001b[0m",
      "\u001b[0;31mNameError\u001b[0m: name 'y' is not defined"
     ]
    }
   ],
   "source": [
    "y"
   ]
  },
  {
   "cell_type": "markdown",
   "metadata": {},
   "source": [
    "Si on le souhaite on peut définir y ou une autre variable symbolique avec la fonction **var**."
   ]
  },
  {
   "cell_type": "code",
   "execution_count": 18,
   "metadata": {},
   "outputs": [
    {
     "data": {
      "text/plain": [
       "y"
      ]
     },
     "execution_count": 18,
     "metadata": {},
     "output_type": "execute_result"
    }
   ],
   "source": [
    "var('y')"
   ]
  },
  {
   "cell_type": "code",
   "execution_count": 19,
   "metadata": {},
   "outputs": [
    {
     "data": {
      "text/plain": [
       "(x + y)*(x - y)"
      ]
     },
     "execution_count": 19,
     "metadata": {},
     "output_type": "execute_result"
    }
   ],
   "source": [
    "(x+y)*(x-y)"
   ]
  },
  {
   "cell_type": "markdown",
   "metadata": {},
   "source": [
    "**Polynômes**"
   ]
  },
  {
   "cell_type": "markdown",
   "metadata": {},
   "source": [
    "À la place de travailler avec les polynômes symboliques, il est mieux de travailler directement avec les classes spécialisés de polynômes en Sage et profiter de toutes les fonctionnalités de traîtement de polynômes."
   ]
  },
  {
   "cell_type": "markdown",
   "metadata": {},
   "source": [
    "Il existe plusieurs façons pour définir un anneau de polynômes à variables dans un corps."
   ]
  },
  {
   "cell_type": "code",
   "execution_count": 20,
   "metadata": {},
   "outputs": [],
   "source": [
    "A.<x> = QQ[]"
   ]
  },
  {
   "cell_type": "code",
   "execution_count": 21,
   "metadata": {},
   "outputs": [
    {
     "data": {
      "text/plain": [
       "Univariate Polynomial Ring in x over Rational Field"
      ]
     },
     "execution_count": 21,
     "metadata": {},
     "output_type": "execute_result"
    }
   ],
   "source": [
    "A"
   ]
  },
  {
   "cell_type": "markdown",
   "metadata": {},
   "source": [
    "De cette façon x est directement associé au générateur de A. Il existe d'autres façons de faire la même chose."
   ]
  },
  {
   "cell_type": "code",
   "execution_count": 22,
   "metadata": {},
   "outputs": [],
   "source": [
    "A = QQ['x']\n",
    "x = A.gen()"
   ]
  },
  {
   "cell_type": "code",
   "execution_count": 23,
   "metadata": {},
   "outputs": [],
   "source": [
    "A.<x> = PolynomialRing(QQ)"
   ]
  },
  {
   "cell_type": "code",
   "execution_count": 24,
   "metadata": {},
   "outputs": [
    {
     "data": {
      "text/plain": [
       "Univariate Polynomial Ring in x over Rational Field"
      ]
     },
     "execution_count": 24,
     "metadata": {},
     "output_type": "execute_result"
    }
   ],
   "source": [
    "A"
   ]
  },
  {
   "cell_type": "code",
   "execution_count": 1,
   "metadata": {},
   "outputs": [],
   "source": [
    "A.<x> = QQ[]"
   ]
  },
  {
   "cell_type": "markdown",
   "metadata": {},
   "source": [
    "En travaillant dans une classe spécialisée de polynômes, on ne fait plus de calculs symboliques. Tout calcul est effectué immédiatement."
   ]
  },
  {
   "cell_type": "code",
   "execution_count": 25,
   "metadata": {},
   "outputs": [
    {
     "data": {
      "text/plain": [
       "x^6 + 4*x^4 + 5*x^2 + 2"
      ]
     },
     "execution_count": 25,
     "metadata": {},
     "output_type": "execute_result"
    }
   ],
   "source": [
    "(x^2 + 1)*(x^4 + 3*x^2 + 2)"
   ]
  },
  {
   "cell_type": "markdown",
   "metadata": {},
   "source": [
    "**Affichage latex**"
   ]
  },
  {
   "cell_type": "code",
   "execution_count": 26,
   "metadata": {},
   "outputs": [],
   "source": [
    "P = x^6 + 5*x^3 + 1"
   ]
  },
  {
   "cell_type": "code",
   "execution_count": 27,
   "metadata": {},
   "outputs": [
    {
     "data": {
      "text/plain": [
       "x^6 + 5*x^3 + 1"
      ]
     },
     "execution_count": 27,
     "metadata": {},
     "output_type": "execute_result"
    }
   ],
   "source": [
    "P"
   ]
  },
  {
   "cell_type": "code",
   "execution_count": 28,
   "metadata": {},
   "outputs": [],
   "source": [
    "%display latex"
   ]
  },
  {
   "cell_type": "code",
   "execution_count": 29,
   "metadata": {},
   "outputs": [
    {
     "data": {
      "text/html": [
       "<html><script type=\"math/tex; mode=display\">\\newcommand{\\Bold}[1]{\\mathbf{#1}}x^{6} + 5 x^{3} + 1</script></html>"
      ],
      "text/plain": [
       "x^6 + 5*x^3 + 1"
      ]
     },
     "execution_count": 29,
     "metadata": {},
     "output_type": "execute_result"
    }
   ],
   "source": [
    "P"
   ]
  },
  {
   "cell_type": "code",
   "execution_count": 30,
   "metadata": {},
   "outputs": [],
   "source": [
    "%display plain"
   ]
  },
  {
   "cell_type": "code",
   "execution_count": 31,
   "metadata": {},
   "outputs": [
    {
     "data": {
      "text/plain": [
       "x^6 + 5*x^3 + 1"
      ]
     },
     "execution_count": 31,
     "metadata": {},
     "output_type": "execute_result"
    }
   ],
   "source": [
    "P"
   ]
  },
  {
   "cell_type": "markdown",
   "metadata": {},
   "source": [
    "### Exercice 1.1"
   ]
  },
  {
   "cell_type": "code",
   "execution_count": 32,
   "metadata": {},
   "outputs": [],
   "source": [
    "A.<x> = QQ[]"
   ]
  },
  {
   "cell_type": "code",
   "execution_count": 33,
   "metadata": {},
   "outputs": [],
   "source": [
    "P1 = x^6 + 2*x^5 - 2*x^4 + 2*x^2 - 2*x - 1\n",
    "P2 = x^5 + x^4 - 2*x^3 + x^2 + x - 2"
   ]
  },
  {
   "cell_type": "code",
   "execution_count": 34,
   "metadata": {},
   "outputs": [],
   "source": [
    "P = P1*P2"
   ]
  },
  {
   "cell_type": "code",
   "execution_count": 35,
   "metadata": {},
   "outputs": [],
   "source": [
    "%display latex"
   ]
  },
  {
   "cell_type": "code",
   "execution_count": 36,
   "metadata": {},
   "outputs": [
    {
     "data": {
      "text/html": [
       "<html><script type=\"math/tex; mode=display\">\\newcommand{\\Bold}[1]{\\mathbf{#1}}x^{11} + 3 x^{10} - 2 x^{9} - 5 x^{8} + 9 x^{7} - 2 x^{6} - 13 x^{5} + 9 x^{4} + 2 x^{3} - 7 x^{2} + 3 x + 2</script></html>"
      ],
      "text/plain": [
       "x^11 + 3*x^10 - 2*x^9 - 5*x^8 + 9*x^7 - 2*x^6 - 13*x^5 + 9*x^4 + 2*x^3 - 7*x^2 + 3*x + 2"
      ]
     },
     "execution_count": 36,
     "metadata": {},
     "output_type": "execute_result"
    }
   ],
   "source": [
    "P"
   ]
  },
  {
   "cell_type": "code",
   "execution_count": null,
   "metadata": {},
   "outputs": [],
   "source": [
    "%display plain"
   ]
  },
  {
   "cell_type": "code",
   "execution_count": 37,
   "metadata": {},
   "outputs": [
    {
     "data": {
      "text/html": [
       "<html><script type=\"math/tex; mode=display\">\\newcommand{\\Bold}[1]{\\mathbf{#1}}11</script></html>"
      ],
      "text/plain": [
       "11"
      ]
     },
     "execution_count": 37,
     "metadata": {},
     "output_type": "execute_result"
    }
   ],
   "source": [
    "P.degree()"
   ]
  },
  {
   "cell_type": "code",
   "execution_count": 38,
   "metadata": {},
   "outputs": [
    {
     "data": {
      "text/html": [
       "<html><script type=\"math/tex; mode=display\">\\newcommand{\\Bold}[1]{\\mathbf{#1}}1</script></html>"
      ],
      "text/plain": [
       "1"
      ]
     },
     "execution_count": 38,
     "metadata": {},
     "output_type": "execute_result"
    }
   ],
   "source": [
    "P.leading_coefficient()"
   ]
  },
  {
   "cell_type": "code",
   "execution_count": 39,
   "metadata": {},
   "outputs": [
    {
     "data": {
      "text/html": [
       "<html><script type=\"math/tex; mode=display\">\\newcommand{\\Bold}[1]{\\mathbf{#1}}\\left[2, 3, -7, 2, 9, -13, -2, 9, -5, -2, 3, 1\\right]</script></html>"
      ],
      "text/plain": [
       "[2, 3, -7, 2, 9, -13, -2, 9, -5, -2, 3, 1]"
      ]
     },
     "execution_count": 39,
     "metadata": {},
     "output_type": "execute_result"
    }
   ],
   "source": [
    "P.list()"
   ]
  },
  {
   "cell_type": "code",
   "execution_count": 40,
   "metadata": {},
   "outputs": [
    {
     "data": {
      "text/html": [
       "<html><script type=\"math/tex; mode=display\">\\newcommand{\\Bold}[1]{\\mathbf{#1}}x + 1</script></html>"
      ],
      "text/plain": [
       "x + 1"
      ]
     },
     "execution_count": 40,
     "metadata": {},
     "output_type": "execute_result"
    }
   ],
   "source": [
    "P1 // P2"
   ]
  },
  {
   "cell_type": "code",
   "execution_count": 41,
   "metadata": {},
   "outputs": [
    {
     "data": {
      "text/html": [
       "<html><script type=\"math/tex; mode=display\">\\newcommand{\\Bold}[1]{\\mathbf{#1}}-x^{4} + x^{3} - x + 1</script></html>"
      ],
      "text/plain": [
       "-x^4 + x^3 - x + 1"
      ]
     },
     "execution_count": 41,
     "metadata": {},
     "output_type": "execute_result"
    }
   ],
   "source": [
    "P1 % P2"
   ]
  },
  {
   "cell_type": "markdown",
   "metadata": {},
   "source": [
    "On peut effectuer ces deux étapes en une."
   ]
  },
  {
   "cell_type": "code",
   "execution_count": 42,
   "metadata": {},
   "outputs": [
    {
     "data": {
      "text/html": [
       "<html><script type=\"math/tex; mode=display\">\\newcommand{\\Bold}[1]{\\mathbf{#1}}\\left(x + 1, -x^{4} + x^{3} - x + 1\\right)</script></html>"
      ],
      "text/plain": [
       "(x + 1, -x^4 + x^3 - x + 1)"
      ]
     },
     "execution_count": 42,
     "metadata": {},
     "output_type": "execute_result"
    }
   ],
   "source": [
    "P1.quo_rem(P2)"
   ]
  },
  {
   "cell_type": "code",
   "execution_count": 43,
   "metadata": {},
   "outputs": [],
   "source": [
    "Q = gcd(P1,P2)"
   ]
  },
  {
   "cell_type": "code",
   "execution_count": 44,
   "metadata": {},
   "outputs": [
    {
     "data": {
      "text/html": [
       "<html><script type=\"math/tex; mode=display\">\\newcommand{\\Bold}[1]{\\mathbf{#1}}x^{4} - x^{3} + x - 1</script></html>"
      ],
      "text/plain": [
       "x^4 - x^3 + x - 1"
      ]
     },
     "execution_count": 44,
     "metadata": {},
     "output_type": "execute_result"
    }
   ],
   "source": [
    "Q"
   ]
  },
  {
   "cell_type": "code",
   "execution_count": 45,
   "metadata": {},
   "outputs": [
    {
     "data": {
      "text/html": [
       "<html><script type=\"math/tex; mode=display\">\\newcommand{\\Bold}[1]{\\mathbf{#1}}x^{4} - x^{3} + x - 1</script></html>"
      ],
      "text/plain": [
       "x^4 - x^3 + x - 1"
      ]
     },
     "execution_count": 45,
     "metadata": {},
     "output_type": "execute_result"
    }
   ],
   "source": [
    "P1.gcd(P2)"
   ]
  },
  {
   "cell_type": "code",
   "execution_count": 46,
   "metadata": {},
   "outputs": [
    {
     "data": {
      "text/html": [
       "<html><script type=\"math/tex; mode=display\">\\newcommand{\\Bold}[1]{\\mathbf{#1}}(x + 2) \\cdot (x - 1)^{2} \\cdot (x + 1)^{2} \\cdot (x^{2} + 3 x + 1) \\cdot (x^{2} - x + 1)^{2}</script></html>"
      ],
      "text/plain": [
       "(x + 2) * (x - 1)^2 * (x + 1)^2 * (x^2 + 3*x + 1) * (x^2 - x + 1)^2"
      ]
     },
     "execution_count": 46,
     "metadata": {},
     "output_type": "execute_result"
    }
   ],
   "source": [
    "P.factor()"
   ]
  },
  {
   "cell_type": "code",
   "execution_count": 47,
   "metadata": {},
   "outputs": [
    {
     "data": {
      "text/html": [
       "<html><script type=\"math/tex; mode=display\">\\newcommand{\\Bold}[1]{\\mathbf{#1}}3564</script></html>"
      ],
      "text/plain": [
       "3564"
      ]
     },
     "execution_count": 47,
     "metadata": {},
     "output_type": "execute_result"
    }
   ],
   "source": [
    "P(2)"
   ]
  },
  {
   "cell_type": "markdown",
   "metadata": {},
   "source": [
    "### Exercice 1.2"
   ]
  },
  {
   "cell_type": "code",
   "execution_count": 48,
   "metadata": {},
   "outputs": [],
   "source": [
    "A.<x> = ZZ[]"
   ]
  },
  {
   "cell_type": "code",
   "execution_count": 49,
   "metadata": {},
   "outputs": [
    {
     "data": {
      "text/html": [
       "<html><script type=\"math/tex; mode=display\">\\newcommand{\\Bold}[1]{\\mathbf{#1}}\\Bold{Z}[x]</script></html>"
      ],
      "text/plain": [
       "Univariate Polynomial Ring in x over Integer Ring"
      ]
     },
     "execution_count": 49,
     "metadata": {},
     "output_type": "execute_result"
    }
   ],
   "source": [
    "A"
   ]
  },
  {
   "cell_type": "code",
   "execution_count": 50,
   "metadata": {},
   "outputs": [],
   "source": [
    "P = x^11 + x^10 + x^9 + 2*x^8 + 2*x^6 + 2*x^4 + x^3 + x^2 + x"
   ]
  },
  {
   "cell_type": "code",
   "execution_count": 51,
   "metadata": {},
   "outputs": [
    {
     "data": {
      "text/html": [
       "<html><script type=\"math/tex; mode=display\">\\newcommand{\\Bold}[1]{\\mathbf{#1}}\\Bold{Z}[x]</script></html>"
      ],
      "text/plain": [
       "Univariate Polynomial Ring in x over Integer Ring"
      ]
     },
     "execution_count": 51,
     "metadata": {},
     "output_type": "execute_result"
    }
   ],
   "source": [
    "P.parent()"
   ]
  },
  {
   "cell_type": "code",
   "execution_count": 52,
   "metadata": {},
   "outputs": [
    {
     "data": {
      "text/html": [
       "<html><script type=\"math/tex; mode=display\">\\newcommand{\\Bold}[1]{\\mathbf{#1}}x \\cdot (x^{2} + 1) \\cdot (x^{2} + x + 1) \\cdot (x^{6} - x^{4} + 2x^{3} - x^{2} + 1)</script></html>"
      ],
      "text/plain": [
       "x * (x^2 + 1) * (x^2 + x + 1) * (x^6 - x^4 + 2*x^3 - x^2 + 1)"
      ]
     },
     "execution_count": 52,
     "metadata": {},
     "output_type": "execute_result"
    }
   ],
   "source": [
    "P.factor()"
   ]
  },
  {
   "cell_type": "code",
   "execution_count": 53,
   "metadata": {},
   "outputs": [],
   "source": [
    "B.<x> = ZZ[i][]"
   ]
  },
  {
   "cell_type": "code",
   "execution_count": 54,
   "metadata": {},
   "outputs": [
    {
     "data": {
      "text/html": [
       "<html><script type=\"math/tex; mode=display\">\\newcommand{\\Bold}[1]{\\mathbf{#1}}\\verb|Order|\\phantom{\\verb!x!}\\verb|in|\\phantom{\\verb!x!}\\verb|Number|\\phantom{\\verb!x!}\\verb|Field|\\phantom{\\verb!x!}\\verb|in|\\phantom{\\verb!x!}\\verb|I|\\phantom{\\verb!x!}\\verb|with|\\phantom{\\verb!x!}\\verb|defining|\\phantom{\\verb!x!}\\verb|polynomial|\\phantom{\\verb!x!}\\verb|x^2|\\phantom{\\verb!x!}\\verb|+|\\phantom{\\verb!x!}\\verb|1|[x]</script></html>"
      ],
      "text/plain": [
       "Univariate Polynomial Ring in x over Order in Number Field in I with defining polynomial x^2 + 1"
      ]
     },
     "execution_count": 54,
     "metadata": {},
     "output_type": "execute_result"
    }
   ],
   "source": [
    "B"
   ]
  },
  {
   "cell_type": "code",
   "execution_count": 55,
   "metadata": {},
   "outputs": [],
   "source": [
    "P1 = B(P)"
   ]
  },
  {
   "cell_type": "code",
   "execution_count": 56,
   "metadata": {},
   "outputs": [
    {
     "data": {
      "text/html": [
       "<html><script type=\"math/tex; mode=display\">\\newcommand{\\Bold}[1]{\\mathbf{#1}}\\verb|Order|\\phantom{\\verb!x!}\\verb|in|\\phantom{\\verb!x!}\\verb|Number|\\phantom{\\verb!x!}\\verb|Field|\\phantom{\\verb!x!}\\verb|in|\\phantom{\\verb!x!}\\verb|I|\\phantom{\\verb!x!}\\verb|with|\\phantom{\\verb!x!}\\verb|defining|\\phantom{\\verb!x!}\\verb|polynomial|\\phantom{\\verb!x!}\\verb|x^2|\\phantom{\\verb!x!}\\verb|+|\\phantom{\\verb!x!}\\verb|1|[x]</script></html>"
      ],
      "text/plain": [
       "Univariate Polynomial Ring in x over Order in Number Field in I with defining polynomial x^2 + 1"
      ]
     },
     "execution_count": 56,
     "metadata": {},
     "output_type": "execute_result"
    }
   ],
   "source": [
    "P1.parent()"
   ]
  },
  {
   "cell_type": "code",
   "execution_count": 57,
   "metadata": {},
   "outputs": [
    {
     "ename": "NotImplementedError",
     "evalue": "",
     "output_type": "error",
     "traceback": [
      "\u001b[0;31m\u001b[0m",
      "\u001b[0;31mNotImplementedError\u001b[0mTraceback (most recent call last)",
      "\u001b[0;32m<ipython-input-57-f8a86c9bd1b7>\u001b[0m in \u001b[0;36m<module>\u001b[0;34m()\u001b[0m\n\u001b[0;32m----> 1\u001b[0;31m \u001b[0mP1\u001b[0m\u001b[0;34m.\u001b[0m\u001b[0mfactor\u001b[0m\u001b[0;34m(\u001b[0m\u001b[0;34m)\u001b[0m\u001b[0;34m\u001b[0m\u001b[0m\n\u001b[0m",
      "\u001b[0;32msage/rings/polynomial/polynomial_element.pyx\u001b[0m in \u001b[0;36msage.rings.polynomial.polynomial_element.Polynomial.factor (build/cythonized/sage/rings/polynomial/polynomial_element.c:39437)\u001b[0;34m()\u001b[0m\n",
      "\u001b[0;32msage/rings/ring.pyx\u001b[0m in \u001b[0;36msage.rings.ring.Ring.is_finite (build/cythonized/sage/rings/ring.c:8875)\u001b[0;34m()\u001b[0m\n",
      "\u001b[0;31mNotImplementedError\u001b[0m: "
     ]
    }
   ],
   "source": [
    "P1.factor()"
   ]
  },
  {
   "cell_type": "markdown",
   "metadata": {},
   "source": [
    "Cette fonctionnalité n'est pas implementée pour l'anneau $\\mathbb{Z}\\mathbb{Z}[i]$."
   ]
  },
  {
   "cell_type": "code",
   "execution_count": 58,
   "metadata": {},
   "outputs": [],
   "source": [
    "P2 = P.change_ring(QQ[i])"
   ]
  },
  {
   "cell_type": "code",
   "execution_count": 59,
   "metadata": {},
   "outputs": [
    {
     "data": {
      "text/html": [
       "<html><script type=\"math/tex; mode=display\">\\newcommand{\\Bold}[1]{\\mathbf{#1}}\\Bold{Q}[I]/(I^{2} + 1)[x]</script></html>"
      ],
      "text/plain": [
       "Univariate Polynomial Ring in x over Number Field in I with defining polynomial x^2 + 1"
      ]
     },
     "execution_count": 59,
     "metadata": {},
     "output_type": "execute_result"
    }
   ],
   "source": [
    "P2.parent()"
   ]
  },
  {
   "cell_type": "code",
   "execution_count": 60,
   "metadata": {},
   "outputs": [
    {
     "data": {
      "text/html": [
       "<html><script type=\"math/tex; mode=display\">\\newcommand{\\Bold}[1]{\\mathbf{#1}}(x - I) \\cdot x \\cdot (x + I) \\cdot (x^{2} + x + 1) \\cdot (x^{6} - x^{4} + 2 x^{3} - x^{2} + 1)</script></html>"
      ],
      "text/plain": [
       "(x - I) * x * (x + I) * (x^2 + x + 1) * (x^6 - x^4 + 2*x^3 - x^2 + 1)"
      ]
     },
     "execution_count": 60,
     "metadata": {},
     "output_type": "execute_result"
    }
   ],
   "source": [
    "P2.factor()"
   ]
  },
  {
   "cell_type": "code",
   "execution_count": 61,
   "metadata": {},
   "outputs": [
    {
     "data": {
      "text/html": [
       "<html><script type=\"math/tex; mode=display\">\\newcommand{\\Bold}[1]{\\mathbf{#1}}x \\cdot (x + 1)^{8} \\cdot (x^{2} + x + 1)</script></html>"
      ],
      "text/plain": [
       "x * (x + 1)^8 * (x^2 + x + 1)"
      ]
     },
     "execution_count": 61,
     "metadata": {},
     "output_type": "execute_result"
    }
   ],
   "source": [
    "P.change_ring(GF(2)).factor()"
   ]
  },
  {
   "cell_type": "code",
   "execution_count": 62,
   "metadata": {},
   "outputs": [
    {
     "data": {
      "text/html": [
       "<html><script type=\"math/tex; mode=display\">\\newcommand{\\Bold}[1]{\\mathbf{#1}}x \\cdot (x + z_{2}) \\cdot (x + z_{2} + 1) \\cdot (x + 1)^{8}</script></html>"
      ],
      "text/plain": [
       "x * (x + z2) * (x + z2 + 1) * (x + 1)^8"
      ]
     },
     "execution_count": 62,
     "metadata": {},
     "output_type": "execute_result"
    }
   ],
   "source": [
    "P.change_ring(GF(4)).factor()"
   ]
  },
  {
   "cell_type": "markdown",
   "metadata": {},
   "source": [
    "### Exercice 1.3\n",
    "\n",
    "Soit le polynôme $P=x^7+x^5+2x^3+2x^2+3x+2$.\n",
    "\n",
    "1. Factoriser $P$ dans $\\mathbb{F}_2$ et $\\mathbb{F}_7$.\n",
    "2. En déduire une preuve de l'irréductibilité de $P$ dans $\\mathbb{Z}[x]$.\n",
    "3. Vérifier l'irréductibilité de $P$ avec Sage."
   ]
  },
  {
   "cell_type": "markdown",
   "metadata": {},
   "source": [
    "*Correction*."
   ]
  },
  {
   "cell_type": "code",
   "execution_count": 2,
   "metadata": {},
   "outputs": [],
   "source": [
    "A.<x> = QQ[]\n",
    "P = x^7 + x^5 + 2*x^3 + 2*x^2 + 3*x + 2"
   ]
  },
  {
   "cell_type": "markdown",
   "metadata": {},
   "source": [
    "On va d'abord factoriser $P$ dans $\\mathbb{F}_2$."
   ]
  },
  {
   "cell_type": "code",
   "execution_count": 3,
   "metadata": {},
   "outputs": [
    {
     "data": {
      "text/plain": [
       "x * (x^3 + x^2 + 1)^2"
      ]
     },
     "execution_count": 3,
     "metadata": {},
     "output_type": "execute_result"
    }
   ],
   "source": [
    "P.change_ring(GF(2)).factor()"
   ]
  },
  {
   "cell_type": "markdown",
   "metadata": {},
   "source": [
    "Maintenant dans $\\mathbb{F}_7$."
   ]
  },
  {
   "cell_type": "markdown",
   "metadata": {},
   "source": [
    "On montre d'abord que si $P$ n'est pas irréductible dans $\\mathbb{Z}[x]$ alors $P$ il a une racine $r$ dans $\\mathbb{Z}$.\n",
    "\n",
    "On suppose que $P$ n'est pas irréductible dans $\\mathbb{Z}$. On peut alors écrire $P$ comme $P = f\\cdot g$ avec $1\\leq \\deg(f),\\deg(g) \\leq 6$.\n",
    "\n",
    "Comme $P$ est un polynôme unitaire, on peut écrire $f$ et $g$ comme :\n",
    "\\begin{align*}\n",
    "f &= \\pm x^n + a_{n-1}x^{n-1} + \\dots + a_0 \\\\\n",
    "g &= \\pm x^m + b_{m-1}x^{m-1} + \\dots + b_0 \\\\\n",
    "\\end{align*}\n",
    "\n",
    "Soit $\\bar{f}, \\bar{g}$ les polynômes $f,g$ dans $\\mathbb{F}_7$. On a que \n",
    "\\begin{align*}\n",
    "\\deg(\\bar{f}) &= \\deg(f) \\\\\n",
    "\\deg(\\bar{g}) &= \\deg(g) \\\\\n",
    "\\end{align*}\n",
    "\n",
    "\\begin{align*}\n",
    "\\bar{f}\\bar{g} &= (x-3)(x^6 + 3x^5 + 3x^4 + 2x^3 + x^2 + 5x+ 4) \\\\\n",
    "&\\Rightarrow \\bar{f} = (x-3) \\Rightarrow \\deg{f} = 1 \\Rightarrow f = \\pm x + a_0 \\\\\n",
    "&\\Rightarrow f \\text{ a une racine dans } \\mathbb{Z}  \\quad (x = \\pm a_0)\\\\\n",
    "&\\Rightarrow P \\text{ a une racine dans } \\mathbb{Z} \\\\\n",
    "\\end{align*}\n",
    "\n",
    " \n",
    " Donc on conclut que soit $P$ est irréductible soit il a une racine dans $\\mathbb{Z}$.\n",
    " \n",
    " Si $P$ a une racine $r$ dans $\\mathbb{Z}$, alors puisque \n",
    " \\begin{align}\n",
    " r &\\equiv 0 \\mod{2} \\\\\n",
    " r &\\equiv 4 \\mod{7} \\\\\n",
    " \\end{align}\n",
    " \n",
    " par le Théorème des restes chinois on obtient que $r \\equiv 10 \\mod{14}$. Mais \n",
    " \\begin{align}\n",
    " P(r) &= 0\\\\\n",
    "  &\\Leftrightarrow r^7 + r^5 + 2r^3 + 2r^2+ 3r + 2 = 0 \\\\\n",
    "  &\\Leftrightarrow r(r^6 + r^4 + 2r^2 + 2r+ 3) = -2\n",
    "   \\end{align} \n",
    "   De la dernière équation $r$ doit diviser $-2$, ce qui implique que $r = \\pm 1, \\pm 2$ ce qui est impossible car toutes ces valeurs ne sont pas congrues à $10$ modulo $14$. On conclue alors que $P$ est irréductible dans $\\mathbb{Z}[x]$. "
   ]
  },
  {
   "cell_type": "markdown",
   "metadata": {},
   "source": [
    "### Exercice 1.4\n",
    "\n",
    "Soit $p$ un nombre premier. Factoriser $x^p-x+c$ en facteurs irréductibles dans $\\mathbb{F}_p[x]$, $0\\leq c<p$. Formuler une conjecture sur le type de factorisation de ces polynômes, et la prouver. \n"
   ]
  },
  {
   "cell_type": "code",
   "execution_count": 4,
   "metadata": {},
   "outputs": [],
   "source": [
    "p = 2\n",
    "k = GF(p)\n",
    "A.<x> = k[]"
   ]
  },
  {
   "cell_type": "code",
   "execution_count": 5,
   "metadata": {},
   "outputs": [
    {
     "name": "stdout",
     "output_type": "stream",
     "text": [
      "x * (x + 1)\n",
      "x^2 + x + 1\n"
     ]
    }
   ],
   "source": [
    "for c in k :\n",
    "    P = x^p - x + c\n",
    "    print(P.factor())"
   ]
  },
  {
   "cell_type": "markdown",
   "metadata": {},
   "source": [
    "On va voir ce qui se passe pour d'autres valeurs de $p$."
   ]
  },
  {
   "cell_type": "code",
   "execution_count": 6,
   "metadata": {},
   "outputs": [
    {
     "name": "stdout",
     "output_type": "stream",
     "text": [
      "\n",
      "p =  3\n",
      "c =  0 : x * (x + 1) * (x + 2)\n",
      "c =  1 : x^3 + 2*x + 1\n",
      "c =  2 : x^3 + 2*x + 2\n",
      "\n",
      "p =  5\n",
      "c =  0 : x * (x + 1) * (x + 2) * (x + 3) * (x + 4)\n",
      "c =  1 : x^5 + 4*x + 1\n",
      "c =  2 : x^5 + 4*x + 2\n",
      "c =  3 : x^5 + 4*x + 3\n",
      "c =  4 : x^5 + 4*x + 4\n",
      "\n",
      "p =  7\n",
      "c =  0 : x * (x + 1) * (x + 2) * (x + 3) * (x + 4) * (x + 5) * (x + 6)\n",
      "c =  1 : x^7 + 6*x + 1\n",
      "c =  2 : x^7 + 6*x + 2\n",
      "c =  3 : x^7 + 6*x + 3\n",
      "c =  4 : x^7 + 6*x + 4\n",
      "c =  5 : x^7 + 6*x + 5\n",
      "c =  6 : x^7 + 6*x + 6\n"
     ]
    }
   ],
   "source": [
    "for p in [3, 5, 7] :\n",
    "    print \"\\np = \", p\n",
    "    k = GF(p)\n",
    "    A.<x> = k[]\n",
    "    for c in k :\n",
    "        print \"c = \", c, \":\",\n",
    "        P = x^p - x + c\n",
    "        print(P.factor())"
   ]
  },
  {
   "cell_type": "markdown",
   "metadata": {},
   "source": [
    "On conjecture que $P = x^p -x + c$ est scindé pour $c=0$ (décomposable en facteurs de degré 1 sur $\\mathbb{F}_p[x]$) et irréductible pour $c\\neq 0$. Nous allons maintenant démontrer ces deux conjectures.\n",
    "\n",
    "\n",
    "**Cas $c = 0$** Dans ce cas on a que $P = x^p - x$. Par le Petit Théorème de Fermat on a que $a^p \\equiv a$ pour tout $a \\in \\mathbb{F}_p$. Par conséquent tout $a$ est une racine et donc $P$ s'écrit comme $$P(x) = x(x-1)(x-2) \\cdots (x-(p-1)). $$\n",
    "\n",
    "**Cas $c \\neq 0$** Soit $a$ une racine de $P = x^p - x + c$ et soit $a_i = a + i$ pour tout $0 \\leq i < p$. On a \n",
    "\\begin{align}\n",
    "P(a_i) &= a_i^p - a_i + c \\\\\n",
    "&= (a + i)^p - (a+i) + c\\\\\n",
    "&= a^p + i^p - a - i + c , \\text{ (car en } \\mathbb{F}_p, (a+b)^p = a^p + b^p)\\\\\n",
    "&= (a^p -a + c) + (i^p - i) \\\\\n",
    "&= a^p -a + c \\text{ (par le Petit Théorème de Fermat) }. \\\\\n",
    "&= 0 \\text{ (car } a \\text{ racine)}.\n",
    "\\end{align}\n",
    " \n",
    " Donc $a, a+1, \\dots, a+(p-1)$ sont toutes racines de $P$ dans $\\mathbb{F}_p$. On a $p$ racines, par conséquent, tout élément de $\\mathbb{F}_p$ est une racine de $P$ et donc $0$ est une racine de $P$. Ceci implique que $0^p - 0 + c \\equiv 0 \\mod{p}$ et que donc $c = 0$. On conclue que dans ce cas $P$ n'a pas de racines dans $\\mathbb{F}_p$. Cependant comme le degré de $P$ est supérieur à $3$ on ne peut pas directement conclure qu'il est irréductible.\n",
    " \n",
    " On suppose que $P$ n'est pas irréductible, donc $P = gh$ avec $deg(h) = k$ et $1\\leq k < p-1$. Soit $\\{r_1, \\dots, r_k\\}$ les racines de $g$ qui n'appartiennent pas forcément à $\\mathbb{F}_p$. \n",
    " \n",
    " Le polynôme $g$ est de la forme :\n",
    " \n",
    " $$ g = x^k + a_{k-1}x^{k-1} + \\dots + a_1x_1 + a_0, \\text{ avec } a_i \\in \\mathbb{F}_p.$$\n",
    "\n",
    "\n",
    "Par la formule de Vieta on a que $- a_{k-1} = r_1 +\\dots + r_k$. Puisque $\\{r_1, \\dots, r_k\\}$ sont des racines de $g$ elles sont forcément des racines de $P$. On a montré avant que si $a$ est une racine de $P$ alors $a+i$ l'est également pour tout $i$. Donc on a la correspondance $r_1 = r$, $r_2 = r+b_1, \\dots, r_k = r + b_{k-1}$ pour certains $b_i$ dans $\\mathbb{F}_p.$ On a maintenant que\n",
    "\\begin{align}\n",
    "r_1 + \\dots + r_k &= kr + (b_1 + \\dots + b_{k-1}) \\\\\n",
    "&= - a_{k-1}.\n",
    "\\end{align}\n",
    "Comme $a_{k-1}, (b_1 + \\dots + b_{k-1}) \\in \\mathbb{F}_p$ on obtient que $kr  = \\alpha \\in \\mathbb{F}_p$.\n",
    "Maintenant $k \\in \\{1, \\dots, p-1\\}$ et comme $k \\neq 0 \\mod p$, il existe $k^{-1}$. Donc $r = k^{-1}\\alpha \\in \\mathbb{F}_p$.\n",
    "\n",
    "On vient de montrer que $P$ a une racine dans  $\\mathbb{F}_p.$ Absurde. Alors $P$ irréductible."
   ]
  },
  {
   "cell_type": "markdown",
   "metadata": {},
   "source": [
    "### Exercice 1.5"
   ]
  },
  {
   "cell_type": "code",
   "execution_count": 63,
   "metadata": {},
   "outputs": [],
   "source": [
    "P = cyclotomic_polynomial(1)"
   ]
  },
  {
   "cell_type": "code",
   "execution_count": 64,
   "metadata": {},
   "outputs": [
    {
     "data": {
      "text/html": [
       "<html><script type=\"math/tex; mode=display\">\\newcommand{\\Bold}[1]{\\mathbf{#1}}x - 1</script></html>"
      ],
      "text/plain": [
       "x - 1"
      ]
     },
     "execution_count": 64,
     "metadata": {},
     "output_type": "execute_result"
    }
   ],
   "source": [
    "P"
   ]
  },
  {
   "cell_type": "code",
   "execution_count": 65,
   "metadata": {},
   "outputs": [
    {
     "name": "stdout",
     "output_type": "stream",
     "text": [
      "i =  1 :  x - 1\n",
      "i =  2 :  x + 1\n",
      "i =  3 :  x^2 + x + 1\n",
      "i =  4 :  x^2 + 1\n",
      "i =  5 :  x^4 + x^3 + x^2 + x + 1\n",
      "i =  6 :  x^2 - x + 1\n",
      "i =  7 :  x^6 + x^5 + x^4 + x^3 + x^2 + x + 1\n",
      "i =  8 :  x^4 + 1\n",
      "i =  9 :  x^6 + x^3 + 1\n",
      "i =  10 :  x^4 - x^3 + x^2 - x + 1\n",
      "i =  11 :  x^10 + x^9 + x^8 + x^7 + x^6 + x^5 + x^4 + x^3 + x^2 + x + 1\n",
      "i =  12 :  x^4 - x^2 + 1\n",
      "i =  13 :  x^12 + x^11 + x^10 + x^9 + x^8 + x^7 + x^6 + x^5 + x^4 + x^3 + x^2 + x + 1\n",
      "i =  14 :  x^6 - x^5 + x^4 - x^3 + x^2 - x + 1\n",
      "i =  15 :  x^8 - x^7 + x^5 - x^4 + x^3 - x + 1\n",
      "i =  16 :  x^8 + 1\n",
      "i =  17 :  x^16 + x^15 + x^14 + x^13 + x^12 + x^11 + x^10 + x^9 + x^8 + x^7 + x^6 + x^5 + x^4 + x^3 + x^2 + x + 1\n",
      "i =  18 :  x^6 - x^3 + 1\n",
      "i =  19 :  x^18 + x^17 + x^16 + x^15 + x^14 + x^13 + x^12 + x^11 + x^10 + x^9 + x^8 + x^7 + x^6 + x^5 + x^4 + x^3 + x^2 + x + 1\n",
      "i =  20 :  x^8 - x^6 + x^4 - x^2 + 1\n",
      "i =  21 :  x^12 - x^11 + x^9 - x^8 + x^6 - x^4 + x^3 - x + 1\n",
      "i =  22 :  x^10 - x^9 + x^8 - x^7 + x^6 - x^5 + x^4 - x^3 + x^2 - x + 1\n",
      "i =  23 :  x^22 + x^21 + x^20 + x^19 + x^18 + x^17 + x^16 + x^15 + x^14 + x^13 + x^12 + x^11 + x^10 + x^9 + x^8 + x^7 + x^6 + x^5 + x^4 + x^3 + x^2 + x + 1\n",
      "i =  24 :  x^8 - x^4 + 1\n",
      "i =  25 :  x^20 + x^15 + x^10 + x^5 + 1\n",
      "i =  26 :  x^12 - x^11 + x^10 - x^9 + x^8 - x^7 + x^6 - x^5 + x^4 - x^3 + x^2 - x + 1\n",
      "i =  27 :  x^18 + x^9 + 1\n",
      "i =  28 :  x^12 - x^10 + x^8 - x^6 + x^4 - x^2 + 1\n",
      "i =  29 :  x^28 + x^27 + x^26 + x^25 + x^24 + x^23 + x^22 + x^21 + x^20 + x^19 + x^18 + x^17 + x^16 + x^15 + x^14 + x^13 + x^12 + x^11 + x^10 + x^9 + x^8 + x^7 + x^6 + x^5 + x^4 + x^3 + x^2 + x + 1\n"
     ]
    }
   ],
   "source": [
    "for i in range(1,30) :\n",
    "    print \"i = \", i, \": \",\n",
    "    P = cyclotomic_polynomial(i)\n",
    "    print P"
   ]
  },
  {
   "cell_type": "markdown",
   "metadata": {},
   "source": [
    "Pour rappel, tout polynôme cyclotomique est irréductible."
   ]
  },
  {
   "cell_type": "code",
   "execution_count": 66,
   "metadata": {},
   "outputs": [],
   "source": [
    "A.<x> = ZZ[]"
   ]
  },
  {
   "cell_type": "code",
   "execution_count": 67,
   "metadata": {},
   "outputs": [
    {
     "name": "stdout",
     "output_type": "stream",
     "text": [
      "p =  2\n",
      "(x^2 - x + 1) * (x^2 + x + 1)\n",
      "p =  3\n",
      "x^6 + x^3 + 1\n",
      "p =  5\n",
      "(x^2 + x + 1) * (x^8 - x^7 + x^5 - x^4 + x^3 - x + 1)\n",
      "p =  7\n",
      "(x^2 + x + 1) * (x^12 - x^11 + x^9 - x^8 + x^6 - x^4 + x^3 - x + 1)\n"
     ]
    }
   ],
   "source": [
    "for p in [2,3,5,7] :\n",
    "    print \"p = \", p\n",
    "    h = x^(2*p) + x^p + 1\n",
    "    print h.factor()"
   ]
  },
  {
   "cell_type": "markdown",
   "metadata": {},
   "source": [
    "**Cas 1 : $p=2$** : $P = x^4 + x^2 + 1 = \\Phi(3)\\Phi(6)$ produit de polynômes irréductibles.\n",
    "\n",
    "**Cas 2 : $p=3$** : $P = x^6 + x^3 + 1 = \\Phi(9)$ irréductible.\n",
    "\n",
    "**Cas 3 : $p > 3$** : On calcule\n",
    "\\begin{align}\n",
    "\\Phi_{3p}(x) \\Phi_{3}(x) &=& \\frac{x^{3p}-1}{\\prod_{d |3p, d\\neq 3p} \\Phi_d(x)}  \\Phi_{3}(x)\\\\\n",
    "&= \\frac{x^{3p}-1}{ \\Phi_1(x) \\Phi_3(x)\\Phi_p(x)}  \\Phi_{3}(x) \\\\\n",
    "&=  \\frac{x^{3p}-1}{ \\Phi_1(x)\\Phi_p(x)}\\\\\n",
    "&=  \\frac{x^{3p}-1}{ \\Phi_1(x)\\frac{x^p-1}{\\Phi_1(x)}} =  \\frac{(x^{p})^3-1^3}{ x^p-1}\\\\\n",
    "&= \\frac{(x^p-1)((x^p)^2 + x^p + 1)}{ x^p-1}\\\\\n",
    "&= x^{2p} + x^p + 1.\n",
    "\\end{align}\n",
    "On conclut alors que \n",
    "$$x^{2p} + x^p + 1 = \\Phi_{3p}(x) \\Phi_{3}(x).$$"
   ]
  },
  {
   "cell_type": "markdown",
   "metadata": {},
   "source": [
    "### Exercice 2.1"
   ]
  },
  {
   "cell_type": "code",
   "execution_count": 69,
   "metadata": {},
   "outputs": [],
   "source": [
    "A.<x,y> = QQ[]\n",
    "P = P=x*y^5+2*y^4+3*y^3*x^3+4*x^2*y^2+5*x*y^2+6*y*x^3+7*y"
   ]
  },
  {
   "cell_type": "code",
   "execution_count": 70,
   "metadata": {},
   "outputs": [
    {
     "data": {
      "text/html": [
       "<html><script type=\"math/tex; mode=display\">\\newcommand{\\Bold}[1]{\\mathbf{#1}}3 x^{3} y^{3} + x y^{5} + 6 x^{3} y + 4 x^{2} y^{2} + 2 y^{4} + 5 x y^{2} + 7 y</script></html>"
      ],
      "text/plain": [
       "3*x^3*y^3 + x*y^5 + 6*x^3*y + 4*x^2*y^2 + 2*y^4 + 5*x*y^2 + 7*y"
      ]
     },
     "execution_count": 70,
     "metadata": {},
     "output_type": "execute_result"
    }
   ],
   "source": [
    "%display latex\n",
    "P"
   ]
  },
  {
   "cell_type": "code",
   "execution_count": 71,
   "metadata": {},
   "outputs": [],
   "source": [
    "%display plain"
   ]
  },
  {
   "cell_type": "code",
   "execution_count": 72,
   "metadata": {},
   "outputs": [
    {
     "data": {
      "text/plain": [
       "6"
      ]
     },
     "execution_count": 72,
     "metadata": {},
     "output_type": "execute_result"
    }
   ],
   "source": [
    "P.degree()"
   ]
  },
  {
   "cell_type": "code",
   "execution_count": 76,
   "metadata": {},
   "outputs": [],
   "source": [
    "Q = P.polynomial(x)\n",
    "%display latex"
   ]
  },
  {
   "cell_type": "code",
   "execution_count": 77,
   "metadata": {},
   "outputs": [
    {
     "data": {
      "text/html": [
       "<html><script type=\"math/tex; mode=display\">\\newcommand{\\Bold}[1]{\\mathbf{#1}}\\left(3 y^{3} + 6 y\\right) x^{3} + 4 y^{2} x^{2} + \\left(y^{5} + 5 y^{2}\\right) x + 2 y^{4} + 7 y</script></html>"
      ],
      "text/plain": [
       "(3*y^3 + 6*y)*x^3 + 4*y^2*x^2 + (y^5 + 5*y^2)*x + 2*y^4 + 7*y"
      ]
     },
     "execution_count": 77,
     "metadata": {},
     "output_type": "execute_result"
    }
   ],
   "source": [
    "Q"
   ]
  },
  {
   "cell_type": "code",
   "execution_count": 78,
   "metadata": {},
   "outputs": [
    {
     "data": {
      "text/html": [
       "<html><script type=\"math/tex; mode=display\">\\newcommand{\\Bold}[1]{\\mathbf{#1}}\\Bold{Q}[y][x]</script></html>"
      ],
      "text/plain": [
       "Univariate Polynomial Ring in x over Univariate Polynomial Ring in y over Rational Field"
      ]
     },
     "execution_count": 78,
     "metadata": {},
     "output_type": "execute_result"
    }
   ],
   "source": [
    "Q.parent()"
   ]
  },
  {
   "cell_type": "markdown",
   "metadata": {},
   "source": [
    "Autre façon de faire la même chose :"
   ]
  },
  {
   "cell_type": "code",
   "execution_count": 79,
   "metadata": {},
   "outputs": [],
   "source": [
    "B = QQ['y']['x']"
   ]
  },
  {
   "cell_type": "code",
   "execution_count": 80,
   "metadata": {},
   "outputs": [
    {
     "data": {
      "text/html": [
       "<html><script type=\"math/tex; mode=display\">\\newcommand{\\Bold}[1]{\\mathbf{#1}}\\Bold{Q}[y][x]</script></html>"
      ],
      "text/plain": [
       "Univariate Polynomial Ring in x over Univariate Polynomial Ring in y over Rational Field"
      ]
     },
     "execution_count": 80,
     "metadata": {},
     "output_type": "execute_result"
    }
   ],
   "source": [
    "B"
   ]
  },
  {
   "cell_type": "code",
   "execution_count": 81,
   "metadata": {},
   "outputs": [
    {
     "data": {
      "text/html": [
       "<html><script type=\"math/tex; mode=display\">\\newcommand{\\Bold}[1]{\\mathbf{#1}}\\left(3 y^{3} + 6 y\\right) x^{3} + 4 y^{2} x^{2} + \\left(y^{5} + 5 y^{2}\\right) x + 2 y^{4} + 7 y</script></html>"
      ],
      "text/plain": [
       "(3*y^3 + 6*y)*x^3 + 4*y^2*x^2 + (y^5 + 5*y^2)*x + 2*y^4 + 7*y"
      ]
     },
     "execution_count": 81,
     "metadata": {},
     "output_type": "execute_result"
    }
   ],
   "source": [
    "B(P)"
   ]
  },
  {
   "cell_type": "markdown",
   "metadata": {},
   "source": [
    "### Exercice 2.2"
   ]
  },
  {
   "cell_type": "code",
   "execution_count": 83,
   "metadata": {},
   "outputs": [
    {
     "data": {
      "text/html": [
       "<html><script type=\"math/tex; mode=display\">\\newcommand{\\Bold}[1]{\\mathbf{#1}}x^{3} + 2 x^{2} y + x y^{2} + x^{2} + 2 x y + y^{2}</script></html>"
      ],
      "text/plain": [
       "x^3 + 2*x^2*y + x*y^2 + x^2 + 2*x*y + y^2"
      ]
     },
     "execution_count": 83,
     "metadata": {},
     "output_type": "execute_result"
    }
   ],
   "source": [
    "P = (x^2+x*y+x+y)*(x+y)\n",
    "P"
   ]
  },
  {
   "cell_type": "code",
   "execution_count": 84,
   "metadata": {},
   "outputs": [
    {
     "data": {
      "text/html": [
       "<html><script type=\"math/tex; mode=display\">\\newcommand{\\Bold}[1]{\\mathbf{#1}}(x + 1) \\cdot (x + y)^{2}</script></html>"
      ],
      "text/plain": [
       "(x + 1) * (x + y)^2"
      ]
     },
     "execution_count": 84,
     "metadata": {},
     "output_type": "execute_result"
    }
   ],
   "source": [
    "P.factor()"
   ]
  },
  {
   "cell_type": "code",
   "execution_count": 85,
   "metadata": {},
   "outputs": [
    {
     "data": {
      "text/html": [
       "<html><script type=\"math/tex; mode=display\">\\newcommand{\\Bold}[1]{\\mathbf{#1}}x^{3} + \\left(2 y + 1\\right) x^{2} + \\left(y^{2} + 2 y\\right) x + y^{2}</script></html>"
      ],
      "text/plain": [
       "x^3 + (2*y + 1)*x^2 + (y^2 + 2*y)*x + y^2"
      ]
     },
     "execution_count": 85,
     "metadata": {},
     "output_type": "execute_result"
    }
   ],
   "source": [
    "P.polynomial(x)"
   ]
  },
  {
   "cell_type": "code",
   "execution_count": 86,
   "metadata": {},
   "outputs": [
    {
     "data": {
      "text/html": [
       "<html><script type=\"math/tex; mode=display\">\\newcommand{\\Bold}[1]{\\mathbf{#1}}\\left(x + 1\\right) y^{2} + \\left(2 x^{2} + 2 x\\right) y + x^{3} + x^{2}</script></html>"
      ],
      "text/plain": [
       "(x + 1)*y^2 + (2*x^2 + 2*x)*y + x^3 + x^2"
      ]
     },
     "execution_count": 86,
     "metadata": {},
     "output_type": "execute_result"
    }
   ],
   "source": [
    "P.polynomial(y)"
   ]
  },
  {
   "cell_type": "markdown",
   "metadata": {},
   "source": [
    "### Exercice 3.1"
   ]
  },
  {
   "cell_type": "code",
   "execution_count": 88,
   "metadata": {},
   "outputs": [],
   "source": [
    "P = x*y^5 + 2*y^4 + 3*y^3*x^3 + 4*x^2*y^2 + 5*x*y^2 + 6*y*x^3 + 7*y"
   ]
  },
  {
   "cell_type": "markdown",
   "metadata": {},
   "source": [
    "Par défaut, l'order utilisé par Sage est le *degrevlex*."
   ]
  },
  {
   "cell_type": "code",
   "execution_count": 89,
   "metadata": {},
   "outputs": [
    {
     "data": {
      "text/html": [
       "<html><script type=\"math/tex; mode=display\">\\newcommand{\\Bold}[1]{\\mathbf{#1}}\\verb|Degree|\\phantom{\\verb!x!}\\verb|reverse|\\phantom{\\verb!x!}\\verb|lexicographic|\\phantom{\\verb!x!}\\verb|term|\\phantom{\\verb!x!}\\verb|order|</script></html>"
      ],
      "text/plain": [
       "Degree reverse lexicographic term order"
      ]
     },
     "execution_count": 89,
     "metadata": {},
     "output_type": "execute_result"
    }
   ],
   "source": [
    "A.term_order()"
   ]
  },
  {
   "cell_type": "code",
   "execution_count": 90,
   "metadata": {},
   "outputs": [
    {
     "data": {
      "text/html": [
       "<html><script type=\"math/tex; mode=display\">\\newcommand{\\Bold}[1]{\\mathbf{#1}}3 x^{3} y^{3} + x y^{5} + 6 x^{3} y + 4 x^{2} y^{2} + 2 y^{4} + 5 x y^{2} + 7 y</script></html>"
      ],
      "text/plain": [
       "3*x^3*y^3 + x*y^5 + 6*x^3*y + 4*x^2*y^2 + 2*y^4 + 5*x*y^2 + 7*y"
      ]
     },
     "execution_count": 90,
     "metadata": {},
     "output_type": "execute_result"
    }
   ],
   "source": [
    "P"
   ]
  },
  {
   "cell_type": "code",
   "execution_count": 91,
   "metadata": {},
   "outputs": [],
   "source": [
    "A.<x,y> = PolynomialRing(QQ, order = 'lex')"
   ]
  },
  {
   "cell_type": "code",
   "execution_count": 92,
   "metadata": {},
   "outputs": [
    {
     "data": {
      "text/html": [
       "<html><script type=\"math/tex; mode=display\">\\newcommand{\\Bold}[1]{\\mathbf{#1}}3 x^{3} y^{3} + 6 x^{3} y + 4 x^{2} y^{2} + x y^{5} + 5 x y^{2} + 2 y^{4} + 7 y</script></html>"
      ],
      "text/plain": [
       "3*x^3*y^3 + 6*x^3*y + 4*x^2*y^2 + x*y^5 + 5*x*y^2 + 2*y^4 + 7*y"
      ]
     },
     "execution_count": 92,
     "metadata": {},
     "output_type": "execute_result"
    }
   ],
   "source": [
    "A(P)"
   ]
  },
  {
   "cell_type": "code",
   "execution_count": 93,
   "metadata": {},
   "outputs": [
    {
     "data": {
      "text/html": [
       "<html><script type=\"math/tex; mode=display\">\\newcommand{\\Bold}[1]{\\mathbf{#1}}\\verb|Lexicographic|\\phantom{\\verb!x!}\\verb|term|\\phantom{\\verb!x!}\\verb|order|</script></html>"
      ],
      "text/plain": [
       "Lexicographic term order"
      ]
     },
     "execution_count": 93,
     "metadata": {},
     "output_type": "execute_result"
    }
   ],
   "source": [
    "A.term_order()"
   ]
  },
  {
   "cell_type": "code",
   "execution_count": 94,
   "metadata": {},
   "outputs": [],
   "source": [
    "B = A.change_ring(order = 'deglex')"
   ]
  },
  {
   "cell_type": "code",
   "execution_count": 95,
   "metadata": {},
   "outputs": [
    {
     "data": {
      "text/html": [
       "<html><script type=\"math/tex; mode=display\">\\newcommand{\\Bold}[1]{\\mathbf{#1}}\\verb|Degree|\\phantom{\\verb!x!}\\verb|lexicographic|\\phantom{\\verb!x!}\\verb|term|\\phantom{\\verb!x!}\\verb|order|</script></html>"
      ],
      "text/plain": [
       "Degree lexicographic term order"
      ]
     },
     "execution_count": 95,
     "metadata": {},
     "output_type": "execute_result"
    }
   ],
   "source": [
    "B.term_order()"
   ]
  },
  {
   "cell_type": "code",
   "execution_count": 96,
   "metadata": {},
   "outputs": [
    {
     "data": {
      "text/html": [
       "<html><script type=\"math/tex; mode=display\">\\newcommand{\\Bold}[1]{\\mathbf{#1}}3 x^{3} y^{3} + x y^{5} + 6 x^{3} y + 4 x^{2} y^{2} + 2 y^{4} + 5 x y^{2} + 7 y</script></html>"
      ],
      "text/plain": [
       "3*x^3*y^3 + x*y^5 + 6*x^3*y + 4*x^2*y^2 + 2*y^4 + 5*x*y^2 + 7*y"
      ]
     },
     "execution_count": 96,
     "metadata": {},
     "output_type": "execute_result"
    }
   ],
   "source": [
    "B(P)"
   ]
  },
  {
   "cell_type": "code",
   "execution_count": 99,
   "metadata": {},
   "outputs": [],
   "source": [
    "A.<x,y,z,t> = PolynomialRing(QQ, order = 'deglex')\n",
    "Q = x*y^3*z*t + x^2*y*z^3*t + x^2*y*z^2*t + x^3*z^2*t^2"
   ]
  },
  {
   "cell_type": "markdown",
   "metadata": {},
   "source": [
    "$Q$ ordonné selon l'ordre *deglex*"
   ]
  },
  {
   "cell_type": "code",
   "execution_count": 100,
   "metadata": {},
   "outputs": [
    {
     "data": {
      "text/html": [
       "<html><script type=\"math/tex; mode=display\">\\newcommand{\\Bold}[1]{\\mathbf{#1}}x^{3} z^{2} t^{2} + x^{2} y z^{3} t + x^{2} y z^{2} t + x y^{3} z t</script></html>"
      ],
      "text/plain": [
       "x^3*z^2*t^2 + x^2*y*z^3*t + x^2*y*z^2*t + x*y^3*z*t"
      ]
     },
     "execution_count": 100,
     "metadata": {},
     "output_type": "execute_result"
    }
   ],
   "source": [
    "Q"
   ]
  },
  {
   "cell_type": "code",
   "execution_count": 101,
   "metadata": {},
   "outputs": [],
   "source": [
    "B = A.change_ring(order = 'degrevlex')"
   ]
  },
  {
   "cell_type": "markdown",
   "metadata": {},
   "source": [
    "$Q$ ordonné selon l'ordre *degrevlex*"
   ]
  },
  {
   "cell_type": "code",
   "execution_count": 102,
   "metadata": {},
   "outputs": [
    {
     "data": {
      "text/html": [
       "<html><script type=\"math/tex; mode=display\">\\newcommand{\\Bold}[1]{\\mathbf{#1}}x^{2} y z^{3} t + x^{3} z^{2} t^{2} + x y^{3} z t + x^{2} y z^{2} t</script></html>"
      ],
      "text/plain": [
       "x^2*y*z^3*t + x^3*z^2*t^2 + x*y^3*z*t + x^2*y*z^2*t"
      ]
     },
     "execution_count": 102,
     "metadata": {},
     "output_type": "execute_result"
    }
   ],
   "source": [
    "B(Q)"
   ]
  },
  {
   "cell_type": "markdown",
   "metadata": {},
   "source": [
    "**3.1 (d)** Montrer qu’en deux variables, l’ordre lexicographique gradué et l’ordre lexicographique inverse gradué coïncident."
   ]
  },
  {
   "cell_type": "markdown",
   "metadata": {},
   "source": [
    "On commence par la définition des ordres **deglex** et **degrevlex** dans le cas de 2 variables.\n",
    "\n",
    "* **deglex** Soit $a = (a_1, a_2), b = (b_1, b_2) \\in \\mathbb{N}^2$. On écrit $a >_{deglex} b$ si $$a_1 + a_2 > b_1 + b_2 \\text{ ou  si } a_1 + a_2 = b_1 + b_2 \\text{ et } a >_{lex} b.$$  \n",
    "* **degrevlex** Soit $a = (a_1, a_2), b = (b_1, b_2) \\in \\mathbb{N}^2$. On écrit $a >_{degrevlex} b$ si $$a_1 + a_2 > b_1 + b_2 \\text{ ou  si } a_1 + a_2 = b_1 + b_2 \\text{ et  la coordonnée non-nulle la plus à droite de } a-b \\in \\mathbb{Z}^2 \\text{ est négative.}$$  \n",
    "\n",
    "\n",
    "\n",
    "Soit $x_1^{a_1}x_2^{a_2}$, $x_1^{b_1}x_2^{b_2}$ deux monômes dans $k[x_1, x_2]$.  On peut distinguer trois  cas :\n",
    "\n",
    "- Si $a_1 + a_2 > b_1 + b_2$ alors $x_1^{a_1}x_2^{a_2} >_{deglex} x_1^{b_1}x_2^{b_2}$ et $x_1^{a_1}x_2^{a_2} >_{degrevlex} x_1^{b_1}x_2^{b_2}$.\n",
    "- Si $a_1 + a_2 < b_1 + b_2$ alors $x_1^{a_1}x_2^{a_2} <_{deglex} x_1^{b_1}x_2^{b_2}$ et $x_1^{a_1}x_2^{a_2} <_{degrevlex} x_1^{b_1}x_2^{b_2}$.\n",
    "- Soit $a_1 + a_2 = b_1 + b_2$ et supposons que  $(a_1, a_2) >_{lex} (b_1, b_2)$. Dans ce cas $x_1^{a_1}x_2^{a_2} >_{deglex} x_1^{b_1}x_2^{b_2}$.\n",
    "L'inégalité $(a_1, a_2) >_{lex} (b_1, b_2)$ implique que soit $a_1  = b_1$ et donc que $a_2 = b_2$ donc les deux monômes sont identiques ou bien que $a_1 > b_1$. Dans ce dernier cas on a forcément que $a_2 < b_2$ et  que par conséquent $x_1^{a_1}x_2^{a_2} >_{degrevlex} x_1^{b_1}x_2^{b_2}$. Le cas $(a_1, a_2) <_{lex} (b_1, b_2)$ est traité de la même manière."
   ]
  },
  {
   "cell_type": "markdown",
   "metadata": {},
   "source": [
    "2) Soit le polynôme $Q=x y^{3} z t +x^{2} y z^{3} t + x^{2} y z^{2} t+ x^{3} z^{2} t^{2}.$\n",
    "\n",
    "1. Ordonner $Q$ à la main pour l'ordre lexicographique gradué.\n",
    "2. Ordonner $Q$ à la main pour l'ordre lexicographique inverse gradué."
   ]
  },
  {
   "cell_type": "markdown",
   "metadata": {},
   "source": [
    "**deglex** $Q = x^{3} z^{2} t^{2} + x^{2} y z^{3} t + x^{2} y z^{2} t + x y^{3} z t$ \n",
    "\n",
    "**degrevlex** $Q = x^{2} y z^{3} t + x^{3} z^{2} t^{2} + x y^{3} z t + x^{2} y z^{2} t$"
   ]
  },
  {
   "cell_type": "markdown",
   "metadata": {},
   "source": [
    "On vérifie avec *Sage*."
   ]
  },
  {
   "cell_type": "code",
   "execution_count": 8,
   "metadata": {},
   "outputs": [],
   "source": [
    "A.<x,y,z,t> = PolynomialRing(QQ, order = \"deglex\")\n",
    "P = x*y^3*z*t + x^2*y*z^3*t + x^2*y*z^2*t + x^3*z^2*t^2"
   ]
  },
  {
   "cell_type": "markdown",
   "metadata": {},
   "source": [
    "Avec l'ordre *deglex*"
   ]
  },
  {
   "cell_type": "code",
   "execution_count": 9,
   "metadata": {},
   "outputs": [
    {
     "data": {
      "text/html": [
       "<html><script type=\"math/tex; mode=display\">\\newcommand{\\Bold}[1]{\\mathbf{#1}}x^{3} z^{2} t^{2} + x^{2} y z^{3} t + x^{2} y z^{2} t + x y^{3} z t</script></html>"
      ],
      "text/plain": [
       "x^3*z^2*t^2 + x^2*y*z^3*t + x^2*y*z^2*t + x*y^3*z*t"
      ]
     },
     "execution_count": 9,
     "metadata": {},
     "output_type": "execute_result"
    }
   ],
   "source": [
    "%display latex\n",
    "P"
   ]
  },
  {
   "cell_type": "markdown",
   "metadata": {},
   "source": [
    "Avec l'ordre *degrevlex*"
   ]
  },
  {
   "cell_type": "code",
   "execution_count": 10,
   "metadata": {},
   "outputs": [
    {
     "data": {
      "text/html": [
       "<html><script type=\"math/tex; mode=display\">\\newcommand{\\Bold}[1]{\\mathbf{#1}}\\verb|Degree|\\phantom{\\verb!x!}\\verb|reverse|\\phantom{\\verb!x!}\\verb|lexicographic|\\phantom{\\verb!x!}\\verb|term|\\phantom{\\verb!x!}\\verb|order|</script></html>"
      ],
      "text/plain": [
       "Degree reverse lexicographic term order"
      ]
     },
     "execution_count": 10,
     "metadata": {},
     "output_type": "execute_result"
    }
   ],
   "source": [
    "B = A.change_ring(order = \"degrevlex\")\n",
    "B.term_order()"
   ]
  },
  {
   "cell_type": "code",
   "execution_count": 11,
   "metadata": {},
   "outputs": [
    {
     "data": {
      "text/html": [
       "<html><script type=\"math/tex; mode=display\">\\newcommand{\\Bold}[1]{\\mathbf{#1}}x^{2} y z^{3} t + x^{3} z^{2} t^{2} + x y^{3} z t + x^{2} y z^{2} t</script></html>"
      ],
      "text/plain": [
       "x^2*y*z^3*t + x^3*z^2*t^2 + x*y^3*z*t + x^2*y*z^2*t"
      ]
     },
     "execution_count": 11,
     "metadata": {},
     "output_type": "execute_result"
    }
   ],
   "source": [
    "B(P)"
   ]
  },
  {
   "cell_type": "markdown",
   "metadata": {},
   "source": [
    "### Exercice 3.3\n",
    "\n",
    "Montrer que l'ordre lexicographique est un ordre admissible. (voir aussi la proposition 4, p.55 du Cox, Little & O'Shea)"
   ]
  },
  {
   "cell_type": "markdown",
   "metadata": {},
   "source": [
    "*Correction.*"
   ]
  },
  {
   "cell_type": "markdown",
   "metadata": {},
   "source": [
    "**(a)** Il faut d'abord montrer que $>_{lex}$ est un ordre total. Ceci vient directement du fait que l'ordre classique sur $\\mathbb{N}^n$ est un ordre total.\n",
    " \n",
    "**(b)** On va montrer que si $x^{\\alpha} > x^{\\beta}$ alors $x^{\\alpha} x^{\\gamma}> x^{\\beta}x^{\\gamma}$. \n",
    "\n",
    "On suppose que $\\alpha >_{lex} \\beta$. Alors, la coordonnée non-nulle la plus à gauche dans $\\alpha - \\beta$, disons $a_k-b_k$ est positive. Mais $x^{\\alpha} x^{\\gamma} = x^{\\alpha+\\gamma}$ et   $x^{\\beta} x^{\\gamma} = x^{\\beta+\\gamma}$. Alors  $(\\alpha + \\gamma)- (\\beta + \\gamma) = \\alpha - \\beta$ et donc la première coordonnée non-nulle la plus gauche est de nouveau $a_k-b_k$, et elle est positive par hypothèse. \n",
    "\n",
    "**(c)** On suppose que $>_{lex}$ n'est pas bien ordonné. Alors, il existe une chaîne infinie d'éléments dans $\\mathbb{N}^n$ strictement décroissante\n",
    "  $$a(1)>_{lex} a(2) >_{lex} a(3) >_{lex} \\dots   $$\n",
    "  On va montrer que ceci entraîne une contradiction.\n",
    "  Considérons la première  coordonnée des vecteurs $a(i)$. Par définition de l'ordre lexicographique, ces premières coordonnées  forment une suite non-incrémentale d'entiers non-négatives. Puisque $\\mathbb{N}$ est bien ordonné, les premières entrées doivent se stabiliser. Alors, il existe un $k$ tel que toutes les premières coordonnées de $a(i)$ avec $i \\geq k$ sont égales.\n",
    "  \n",
    "  Commençant par $a(k)$, la deuxième et les coordonnées qui suivent rentrent en jeu pour determiner l'ordre lexicographique. La deuxième coordonnée de $a(k), a(k+1)$ forment une suite pas croissante. Par la même technique la suite des deuxièmes coordonnées va se stabiliser un moment. En continuant de la même façon on voit que pour un $\\ell$, les $a(\\ell), a(\\ell+1)$ seront tous égaux. Ceci contredit le fait que $a(\\ell) >_{lex} a(\\ell+1).$  \n"
   ]
  },
  {
   "cell_type": "markdown",
   "metadata": {},
   "source": [
    "### Exercice 3.4\n",
    "\n",
    "1. Soient $g=x-y$, $h=x-y^2$ et $p=xy-x$ dans $\\mathbb{Q}[x,y]$ muni de l'ordre lexicographique.\n",
    "\n",
    "    * À quoi correspond la commande p.reduce([g, h]) ?\n",
    "    * À quoi correspond la commande p.reduce([h, g]) ?\n",
    "    * Montrer que $p$ est dans l'idéal $(g,h)$.\n",
    "\n",
    "2. Soient $g=x^2y^2-x$ et $h=xy^2+y$.\n",
    "\n",
    "    * À quoi correspond la commande g.reduce([g, h]) ?\n",
    "    * À quoi correspond la commande h.reduce([g, h]) ?\n",
    "    * Pleurer."
   ]
  },
  {
   "cell_type": "code",
   "execution_count": 13,
   "metadata": {},
   "outputs": [],
   "source": [
    "A.<x,y> = PolynomialRing(QQ, order = 'lex')\n",
    "g = x - y\n",
    "h = x - y^2\n",
    "p = x*y - x"
   ]
  },
  {
   "cell_type": "markdown",
   "metadata": {},
   "source": [
    "Le résultat de *reduce* n'est pas uniquement défini si la liste des polynômes passés ne forme pas une base de Gröbner. Ceci est précisé dans la doc :  *help(reduce)*."
   ]
  },
  {
   "cell_type": "code",
   "execution_count": 14,
   "metadata": {},
   "outputs": [
    {
     "name": "stdout",
     "output_type": "stream",
     "text": [
      "Help on built-in function reduce:\n",
      "\n",
      "reduce(...)\n",
      "    MPolynomial_libsingular.reduce(self, I)\n",
      "    File: sage/rings/polynomial/multi_polynomial_libsingular.pyx (starting at line 4464)\n",
      "    \n",
      "            Return the normal form of self w.r.t. ``I``, i.e. return the\n",
      "            remainder of this polynomial with respect to the polynomials\n",
      "            in ``I``. If the polynomial set/list ``I`` is not a (strong)\n",
      "            Groebner basis the result is not canonical.\n",
      "    \n",
      "            A strong Groebner basis ``G`` of ``I`` implies that for every\n",
      "            leading term ``t`` of ``I`` there exists an element ``g`` of ``G``,\n",
      "            such that the leading term of ``g`` divides ``t``.\n",
      "    \n",
      "            INPUT:\n",
      "    \n",
      "            - ``I`` - a list/set of polynomials. If ``I`` is an ideal, the\n",
      "              generators are used.\n",
      "    \n",
      "            EXAMPLES::\n",
      "    \n",
      "                sage: P.<x,y,z> = QQ[]\n",
      "                sage: f1 = -2 * x^2 + x^3\n",
      "                sage: f2 = -2 * y + x* y\n",
      "                sage: f3 = -x^2 + y^2\n",
      "                sage: F = Ideal([f1,f2,f3])\n",
      "                sage: g = x*y - 3*x*y^2\n",
      "                sage: g.reduce(F)\n",
      "                -6*y^2 + 2*y\n",
      "                sage: g.reduce(F.gens())\n",
      "                -6*y^2 + 2*y\n",
      "    \n",
      "            `\\ZZ` is also supported. ::\n",
      "    \n",
      "                sage: P.<x,y,z> = ZZ[]\n",
      "                sage: f1 = -2 * x^2 + x^3\n",
      "                sage: f2 = -2 * y + x* y\n",
      "                sage: f3 = -x^2 + y^2\n",
      "                sage: F = Ideal([f1,f2,f3])\n",
      "                sage: g = x*y - 3*x*y^2\n",
      "                sage: g.reduce(F)\n",
      "                -6*y^2 + 2*y\n",
      "                sage: g.reduce(F.gens())\n",
      "                -6*y^2 + 2*y\n",
      "    \n",
      "                sage: f = 3*x\n",
      "                sage: f.reduce([2*x,y])\n",
      "                3*x\n",
      "\n"
     ]
    }
   ],
   "source": [
    "help(p.reduce)"
   ]
  },
  {
   "cell_type": "code",
   "execution_count": 15,
   "metadata": {},
   "outputs": [
    {
     "data": {
      "text/html": [
       "<html><script type=\"math/tex; mode=display\">\\newcommand{\\Bold}[1]{\\mathbf{#1}}y^{3} -  y^{2}</script></html>"
      ],
      "text/plain": [
       "y^3 - y^2"
      ]
     },
     "execution_count": 15,
     "metadata": {},
     "output_type": "execute_result"
    }
   ],
   "source": [
    "p.reduce([g, h])"
   ]
  },
  {
   "cell_type": "code",
   "execution_count": 16,
   "metadata": {},
   "outputs": [
    {
     "data": {
      "text/html": [
       "<html><script type=\"math/tex; mode=display\">\\newcommand{\\Bold}[1]{\\mathbf{#1}}y^{2} -  y</script></html>"
      ],
      "text/plain": [
       "y^2 - y"
      ]
     },
     "execution_count": 16,
     "metadata": {},
     "output_type": "execute_result"
    }
   ],
   "source": [
    "p.reduce([h, g])"
   ]
  },
  {
   "cell_type": "markdown",
   "metadata": {},
   "source": [
    "Pour info on a :\n",
    "\\begin{eqnarray*}\n",
    "xy - x &=& ( y - 1 )   ( x - y ) + ( 0 )  ( x - y^2 ) + ( y^2 - y )\\\\\n",
    "xy - x &=& ( y - 1 )   ( x - y^2 ) + ( 0 )  ( x - y ) + ( y^3 - y^2 )\n",
    "\\end{eqnarray*}"
   ]
  },
  {
   "cell_type": "markdown",
   "metadata": {},
   "source": [
    "On voit facilement que \n",
    " $$xy - x = y(x - y) + (-1)(x-y^2) + 0,$$\n",
    " et donc $p$ est dans l'idéal $(g,h)$.\n",
    " \n",
    " On vérifie avec *Sage*."
   ]
  },
  {
   "cell_type": "markdown",
   "metadata": {},
   "source": [
    "Méthode *reduce(f)* : Reduce an element modulo the reduced Groebner basis for this ideal. This returns 0 if and only if the element is in this ideal. In any case, this reduction is unique up to monomial orders."
   ]
  },
  {
   "cell_type": "code",
   "execution_count": 18,
   "metadata": {},
   "outputs": [
    {
     "data": {
      "text/html": [
       "<html><script type=\"math/tex; mode=display\">\\newcommand{\\Bold}[1]{\\mathbf{#1}}0</script></html>"
      ],
      "text/plain": [
       "0"
      ]
     },
     "execution_count": 18,
     "metadata": {},
     "output_type": "execute_result"
    }
   ],
   "source": [
    "I = A.ideal(h,g)\n",
    "I.reduce(p)"
   ]
  }
 ],
 "metadata": {
  "kernelspec": {
   "display_name": "SageMath 8.1",
   "language": "",
   "name": "sagemath"
  },
  "language_info": {
   "codemirror_mode": {
    "name": "ipython",
    "version": 2
   },
   "file_extension": ".py",
   "mimetype": "text/x-python",
   "name": "python",
   "nbconvert_exporter": "python",
   "pygments_lexer": "ipython2",
   "version": "2.7.15rc1"
  }
 },
 "nbformat": 4,
 "nbformat_minor": 2
}
